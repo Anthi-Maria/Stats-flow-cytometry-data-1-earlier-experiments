{
  "cells": [
    {
      "cell_type": "code",
      "execution_count": 1,
      "id": "4aecc525",
      "metadata": {
        "id": "4aecc525"
      },
      "outputs": [],
      "source": [
        "import numpy as np\n",
        "import pandas as pd\n",
        "import os\n",
        "\n",
        "from os.path import join\n",
        "\n",
        "from time import time\n"
      ]
    },
    {
      "cell_type": "code",
      "execution_count": 2,
      "id": "8585a324",
      "metadata": {
        "colab": {
          "base_uri": "https://localhost:8080/"
        },
        "id": "8585a324",
        "outputId": "8feeecbc-9ef0-4966-9239-55f34a019f13"
      },
      "outputs": [
        {
          "output_type": "execute_result",
          "data": {
            "text/plain": [
              "0.3430509851785464"
            ]
          },
          "metadata": {},
          "execution_count": 2
        }
      ],
      "source": [
        "import numpy as np\n",
        "\n",
        "from scipy.stats import chi2_contingency\n",
        "\n",
        "table = np.array([[1, 40], [303, 3682]])\n",
        "\n",
        "res = chi2_contingency(table)\n",
        "\n",
        "res.statistic\n",
        "res.pvalue\n"
      ]
    },
    {
      "cell_type": "code",
      "source": [
        "!pip install FlowCal"
      ],
      "metadata": {
        "colab": {
          "base_uri": "https://localhost:8080/"
        },
        "id": "rr4KdkCKIoFv",
        "outputId": "87396d66-1843-4baf-a80d-3ef56bb1842f"
      },
      "id": "rr4KdkCKIoFv",
      "execution_count": 3,
      "outputs": [
        {
          "output_type": "stream",
          "name": "stdout",
          "text": [
            "Collecting FlowCal\n",
            "  Downloading FlowCal-1.3.0.tar.gz (82 kB)\n",
            "\u001b[2K     \u001b[90m━━━━━━━━━━━━━━━━━━━━━━━━━━━━━━━━━━━━━━━━\u001b[0m \u001b[32m82.3/82.3 kB\u001b[0m \u001b[31m1.9 MB/s\u001b[0m eta \u001b[36m0:00:00\u001b[0m\n",
            "\u001b[?25h  Preparing metadata (setup.py) ... \u001b[?25l\u001b[?25hdone\n",
            "Requirement already satisfied: packaging>=16.8 in /usr/local/lib/python3.10/dist-packages (from FlowCal) (23.2)\n",
            "Requirement already satisfied: six>=1.10.0 in /usr/local/lib/python3.10/dist-packages (from FlowCal) (1.16.0)\n",
            "Requirement already satisfied: numpy>=1.9.0 in /usr/local/lib/python3.10/dist-packages (from FlowCal) (1.23.5)\n",
            "Requirement already satisfied: scipy>=0.19.0 in /usr/local/lib/python3.10/dist-packages (from FlowCal) (1.11.3)\n",
            "Requirement already satisfied: matplotlib>=2.0.0 in /usr/local/lib/python3.10/dist-packages (from FlowCal) (3.7.1)\n",
            "Requirement already satisfied: scikit-image>=0.10.0 in /usr/local/lib/python3.10/dist-packages (from FlowCal) (0.19.3)\n",
            "Requirement already satisfied: scikit-learn>=0.16.0 in /usr/local/lib/python3.10/dist-packages (from FlowCal) (1.2.2)\n",
            "Requirement already satisfied: pandas>=0.23.0 in /usr/local/lib/python3.10/dist-packages (from FlowCal) (1.5.3)\n",
            "Collecting xlrd<2.0.0,>=0.9.2 (from FlowCal)\n",
            "  Downloading xlrd-1.2.0-py2.py3-none-any.whl (103 kB)\n",
            "\u001b[2K     \u001b[90m━━━━━━━━━━━━━━━━━━━━━━━━━━━━━━━━━━━━━━━━\u001b[0m \u001b[32m103.3/103.3 kB\u001b[0m \u001b[31m6.2 MB/s\u001b[0m eta \u001b[36m0:00:00\u001b[0m\n",
            "\u001b[?25hRequirement already satisfied: openpyxl>=2.2.0 in /usr/local/lib/python3.10/dist-packages (from FlowCal) (3.1.2)\n",
            "Requirement already satisfied: contourpy>=1.0.1 in /usr/local/lib/python3.10/dist-packages (from matplotlib>=2.0.0->FlowCal) (1.2.0)\n",
            "Requirement already satisfied: cycler>=0.10 in /usr/local/lib/python3.10/dist-packages (from matplotlib>=2.0.0->FlowCal) (0.12.1)\n",
            "Requirement already satisfied: fonttools>=4.22.0 in /usr/local/lib/python3.10/dist-packages (from matplotlib>=2.0.0->FlowCal) (4.44.3)\n",
            "Requirement already satisfied: kiwisolver>=1.0.1 in /usr/local/lib/python3.10/dist-packages (from matplotlib>=2.0.0->FlowCal) (1.4.5)\n",
            "Requirement already satisfied: pillow>=6.2.0 in /usr/local/lib/python3.10/dist-packages (from matplotlib>=2.0.0->FlowCal) (9.4.0)\n",
            "Requirement already satisfied: pyparsing>=2.3.1 in /usr/local/lib/python3.10/dist-packages (from matplotlib>=2.0.0->FlowCal) (3.1.1)\n",
            "Requirement already satisfied: python-dateutil>=2.7 in /usr/local/lib/python3.10/dist-packages (from matplotlib>=2.0.0->FlowCal) (2.8.2)\n",
            "Requirement already satisfied: et-xmlfile in /usr/local/lib/python3.10/dist-packages (from openpyxl>=2.2.0->FlowCal) (1.1.0)\n",
            "Requirement already satisfied: pytz>=2020.1 in /usr/local/lib/python3.10/dist-packages (from pandas>=0.23.0->FlowCal) (2023.3.post1)\n",
            "Requirement already satisfied: networkx>=2.2 in /usr/local/lib/python3.10/dist-packages (from scikit-image>=0.10.0->FlowCal) (3.2.1)\n",
            "Requirement already satisfied: imageio>=2.4.1 in /usr/local/lib/python3.10/dist-packages (from scikit-image>=0.10.0->FlowCal) (2.31.6)\n",
            "Requirement already satisfied: tifffile>=2019.7.26 in /usr/local/lib/python3.10/dist-packages (from scikit-image>=0.10.0->FlowCal) (2023.9.26)\n",
            "Requirement already satisfied: PyWavelets>=1.1.1 in /usr/local/lib/python3.10/dist-packages (from scikit-image>=0.10.0->FlowCal) (1.4.1)\n",
            "Requirement already satisfied: joblib>=1.1.1 in /usr/local/lib/python3.10/dist-packages (from scikit-learn>=0.16.0->FlowCal) (1.3.2)\n",
            "Requirement already satisfied: threadpoolctl>=2.0.0 in /usr/local/lib/python3.10/dist-packages (from scikit-learn>=0.16.0->FlowCal) (3.2.0)\n",
            "Building wheels for collected packages: FlowCal\n",
            "  Building wheel for FlowCal (setup.py) ... \u001b[?25l\u001b[?25hdone\n",
            "  Created wheel for FlowCal: filename=FlowCal-1.3.0-py3-none-any.whl size=84527 sha256=b796552b9cd868bec38fa61b2e0c2735b11871599827948a570bb280428adab3\n",
            "  Stored in directory: /root/.cache/pip/wheels/b1/9c/f3/4c59694424e6a6d70b11b66f076d8a2359b57dfdb9b723ed3f\n",
            "Successfully built FlowCal\n",
            "Installing collected packages: xlrd, FlowCal\n",
            "  Attempting uninstall: xlrd\n",
            "    Found existing installation: xlrd 2.0.1\n",
            "    Uninstalling xlrd-2.0.1:\n",
            "      Successfully uninstalled xlrd-2.0.1\n",
            "Successfully installed FlowCal-1.3.0 xlrd-1.2.0\n"
          ]
        }
      ]
    },
    {
      "cell_type": "code",
      "execution_count": 5,
      "id": "dominant-factor",
      "metadata": {
        "id": "dominant-factor",
        "outputId": "be6556c6-ec70-40c2-a5d5-39f2439bd6f3",
        "colab": {
          "base_uri": "https://localhost:8080/"
        }
      },
      "outputs": [
        {
          "output_type": "stream",
          "name": "stdout",
          "text": [
            "(137295, 26)\n"
          ]
        }
      ],
      "source": [
        "import FlowCal\n",
        "\n",
        "s = FlowCal.io.FCSData('02-blank-A2-1.fcs')\n",
        "print(s.shape)\n"
      ]
    },
    {
      "cell_type": "code",
      "execution_count": 6,
      "id": "dramatic-testimony",
      "metadata": {
        "id": "dramatic-testimony",
        "outputId": "5a272d65-287e-416b-d43e-dcf2edd23a34",
        "colab": {
          "base_uri": "https://localhost:8080/"
        }
      },
      "outputs": [
        {
          "output_type": "stream",
          "name": "stdout",
          "text": [
            "('FSC-H', 'FSC-A', 'SSC-H', 'SSC-A', 'FL1-H', 'FL1-A', 'FL2-H', 'FL2-A', 'FL3-H', 'FL3-A', 'FL4-H', 'FL4-A', 'FL5-H', 'FL5-A', 'FL6-H', 'FL6-A', 'FL7-H', 'FL7-A', 'FL8-H', 'FL8-A', 'FL9-H', 'FL9-A', 'FL10-H', 'FL10-A', 'FSC-Width', 'Time')\n"
          ]
        }
      ],
      "source": [
        "print(s.channels)"
      ]
    },
    {
      "cell_type": "code",
      "execution_count": 7,
      "id": "endangered-defeat",
      "metadata": {
        "id": "endangered-defeat",
        "outputId": "8591b457-20bc-42c9-a6bb-dd091a49b118",
        "colab": {
          "base_uri": "https://localhost:8080/",
          "height": 430
        }
      },
      "outputs": [
        {
          "output_type": "display_data",
          "data": {
            "text/plain": [
              "<Figure size 640x480 with 1 Axes>"
            ],
            "image/png": "[encoded data removed]"
          },
          "metadata": {}
        }
      ],
      "source": [
        "import matplotlib.pyplot as plt\n",
        "plt.hist(s[:, 'FL1-H'], bins=100)\n",
        "plt.show()"
      ]
    },
    {
      "cell_type": "code",
      "execution_count": 8,
      "id": "stylish-complex",
      "metadata": {
        "id": "stylish-complex",
        "outputId": "427cf8de-3498-4eb5-f973-81c878afb1bc",
        "colab": {
          "base_uri": "https://localhost:8080/"
        }
      },
      "outputs": [
        {
          "output_type": "execute_result",
          "data": {
            "text/plain": [
              "FCSData([[ 1.02684004e+04,  6.78689990e+03,  7.67529980e+03, ...,\n",
              "           1.32800003e+02,  6.77063110e+02,  3.77280000e+04],\n",
              "         [ 1.15397002e+04,  2.94000000e+02,  1.88019995e+03, ...,\n",
              "           2.61700012e+02,  2.60970879e+01,  3.82800000e+04],\n",
              "         [ 1.60964004e+04,  1.15012002e+04,  1.27457998e+04, ...,\n",
              "           4.28000000e+02,  7.31642151e+02,  3.91310000e+04],\n",
              "         ...,\n",
              "         [ 1.20665000e+04,  1.17687998e+04,  1.26142002e+04, ...,\n",
              "           6.64000015e+01,  9.98917786e+02,  2.99991700e+06],\n",
              "         [ 1.23995000e+04,  1.28400000e+04,  1.85876992e+04, ...,\n",
              "          -5.94000015e+01,  1.06097864e+03,  2.99991900e+06],\n",
              "         [ 1.10722998e+04,  1.17724004e+04,  6.51250000e+03, ...,\n",
              "          -1.30800003e+02,  1.08873987e+03,  2.99994500e+06]])"
            ]
          },
          "metadata": {},
          "execution_count": 8
        }
      ],
      "source": [
        "s_transformed = FlowCal.transform.to_rfi(s, channels='FL1-H')\n",
        "s_transformed"
      ]
    },
    {
      "cell_type": "code",
      "execution_count": 9,
      "id": "needed-sheffield",
      "metadata": {
        "id": "needed-sheffield",
        "outputId": "f249d2bc-dad0-428c-c113-4b4aa165dace",
        "colab": {
          "base_uri": "https://localhost:8080/",
          "height": 434
        }
      },
      "outputs": [
        {
          "output_type": "display_data",
          "data": {
            "text/plain": [
              "<Figure size 640x480 with 1 Axes>"
            ],
            "image/png": "[encoded data removed]"
          },
          "metadata": {}
        }
      ],
      "source": [
        "import numpy as np\n",
        "bins = np.logspace(0, 4, 100)\n",
        "plt.hist(s_transformed[:, 'FL1-H'], bins=bins)\n",
        "plt.xscale('log')\n",
        "plt.show()\n"
      ]
    },
    {
      "cell_type": "code",
      "execution_count": 10,
      "id": "pediatric-divorce",
      "metadata": {
        "id": "pediatric-divorce",
        "outputId": "3a9dd1bf-b3d0-42a7-89ce-22b364eb0ba1",
        "colab": {
          "base_uri": "https://localhost:8080/",
          "height": 454
        }
      },
      "outputs": [
        {
          "output_type": "display_data",
          "data": {
            "text/plain": [
              "<Figure size 640x480 with 1 Axes>"
            ],
            "image/png": "[encoded data removed]"
          },
          "metadata": {}
        }
      ],
      "source": [
        "s = FlowCal.io.FCSData('02-blank-A2-1.fcs')\n",
        "s = FlowCal.transform.to_rfi(s)\n",
        "\n",
        "FlowCal.plot.hist1d(s, channel='FL1-H')\n",
        "plt.show()\n"
      ]
    },
    {
      "cell_type": "code",
      "execution_count": 11,
      "id": "killing-migration",
      "metadata": {
        "id": "killing-migration",
        "outputId": "170aa659-ddae-4d4d-9a5d-b65cfbe9b4a4",
        "colab": {
          "base_uri": "https://localhost:8080/",
          "height": 454
        }
      },
      "outputs": [
        {
          "output_type": "display_data",
          "data": {
            "text/plain": [
              "<Figure size 640x480 with 1 Axes>"
            ],
            "image/png": "[encoded data removed]"
          },
          "metadata": {}
        }
      ],
      "source": [
        "FlowCal.plot.hist1d(s, channel='FL1-H', xscale='log', bins=1024)\n",
        "plt.show()\n"
      ]
    },
    {
      "cell_type": "code",
      "execution_count": 29,
      "id": "precious-pursuit",
      "metadata": {
        "id": "precious-pursuit",
        "outputId": "63d40be0-f76e-475c-e1dc-c0f8858d2d81",
        "colab": {
          "base_uri": "https://localhost:8080/"
        }
      },
      "outputs": [
        {
          "output_type": "stream",
          "name": "stdout",
          "text": [
            "558.9000244140625\n",
            "[558.9000244140625, 407.29998779296875, 431.8999938964844, 337.3999938964844, 179.1999969482422, 328.1000061035156, 593.4000244140625, 95737.3984375, 491.29998779296875, 1255.9000244140625, 401.6000061035156, 570.2000122070312, 562.7000122070312, 403.1000061035156, 335.8999938964844, 628.0999755859375, 334.29998779296875, 806.4000244140625, 569.2000122070312, 383.29998779296875, 548.9000244140625, 293.1000061035156, 551.2999877929688, 348.1000061035156, 300.3999938964844, 433.1000061035156, 451.0, 416.1000061035156, 479.5, 344.79998779296875, 580.4000244140625, 469.70001220703125, 311.8999938964844, 320.1000061035156, 309.20001220703125, 391.1000061035156, 567.5, 379.1000061035156, 409.8999938964844, 371.70001220703125, 544.5999755859375, 327.29998779296875, 188.39999389648438, 437.29998779296875, 390.0, 415.79998779296875, 354.8999938964844, 454.6000061035156, 325.5, 466.20001220703125, 441.0, 409.29998779296875, 328.20001220703125, 320.6000061035156, 335.1000061035156, 256.29998779296875, 277.5, 418.20001220703125, 273.0, 451.6000061035156, 321.29998779296875, 405.5, 367.3999938964844, 151.10000610351562, 281.0, 2158.0, 344.79998779296875, 283.6000061035156, 441.29998779296875, 461.3999938964844, 464.6000061035156, 246.60000610351562, 286.6000061035156, 373.5, 65206.30078125, 375.1000061035156, 553.0, 646.0, 358.29998779296875, 421.0, 567.4000244140625, 619.5999755859375, 422.6000061035156, 478.29998779296875, 693.5, 470.29998779296875, 377.0, 543.0, 533.0, 312.6000061035156, 427.6000061035156, 331.20001220703125, 406.0, 406.29998779296875, 375.1000061035156, 278.29998779296875, 315.6000061035156, 304.6000061035156, 259.70001220703125, 441.70001220703125]\n",
            "<class 'list'>\n"
          ]
        }
      ],
      "source": [
        "from numpy.random import seed\n",
        "from numpy.random import randn\n",
        "from numpy.random import lognormal\n",
        "from scipy.stats import ks_2samp\n",
        "from scipy import stats\n",
        "\n",
        "d1 = FlowCal.io.FCSData('02-blank-A2-1.fcs')\n",
        "\n",
        "#print(d1.shape)\n",
        "\n",
        "#d1_fl1 = d1[:, ['FL1-H']]\n",
        "#print(type(d1_fl1))\n",
        "#print(dir(d1_fl1))\n",
        "#print(type(d1_fl1.data.tolist()))\n",
        "#print(d1_fl1.data.tolist()[100])\n",
        "\n",
        "\n",
        "#print(type(d1[0]))\n",
        "#print(dir(d1[0]))\n",
        "#print(len(d1[0]))\n",
        "#print(d1[0][0])\n",
        "#d1 = [FlowCal.transform.to_rfi(di) for di in d1]\n",
        "d1_fl1 = d1[:, ['FL1-H']]\n",
        "d1_list = d1_fl1.tolist()\n",
        "print(d1_list[0][0])\n",
        "\n",
        "proper_d1_list = []\n",
        "for i in range(len(d1_list)):\n",
        "    proper_d1_list.append(d1_list[i][0])\n",
        "\n",
        "print(proper_d1_list[:100])\n",
        "print(type(proper_d1_list[:100]))\n",
        "\n",
        "#print(type(d1[0][0]))\n",
        "#print(dir(d1[0][0]))\n",
        "#print(len(d1[0][0]))\n"
      ]
    },
    {
      "cell_type": "code",
      "source": [
        "print(d1_fl1.data)"
      ],
      "metadata": {
        "colab": {
          "base_uri": "https://localhost:8080/"
        },
        "id": "nJoaSTyrJH3a",
        "outputId": "39a46ee4-70b5-4996-f69f-c55052400224"
      },
      "id": "nJoaSTyrJH3a",
      "execution_count": 15,
      "outputs": [
        {
          "output_type": "stream",
          "name": "stdout",
          "text": [
            "<memory at 0x7ae0f83f5be0>\n"
          ]
        }
      ]
    },
    {
      "cell_type": "code",
      "source": [
        "d1[:, ['FL1-H']]"
      ],
      "metadata": {
        "colab": {
          "base_uri": "https://localhost:8080/"
        },
        "id": "9HS_JN31JdxL",
        "outputId": "2b291273-60ae-4354-996e-f05439b2c243"
      },
      "id": "9HS_JN31JdxL",
      "execution_count": 21,
      "outputs": [
        {
          "output_type": "execute_result",
          "data": {
            "text/plain": [
              "FCSData([[   558.9],\n",
              "         [   407.3],\n",
              "         [   431.9],\n",
              "         ...,\n",
              "         [116181. ],\n",
              "         [109143.4],\n",
              "         [  1312.2]], dtype=float32)"
            ]
          },
          "metadata": {},
          "execution_count": 21
        }
      ]
    },
    {
      "cell_type": "code",
      "source": [
        "d1_fl1.tolist()"
      ],
      "metadata": {
        "colab": {
          "base_uri": "https://localhost:8080/"
        },
        "id": "3rAvR9vRKkCQ",
        "outputId": "86ba2476-6fcc-4170-83ae-b3078218e399"
      },
      "id": "3rAvR9vRKkCQ",
      "execution_count": 25,
      "outputs": [
        {
          "output_type": "execute_result",
          "data": {
            "text/plain": [
              "[[558.9000244140625],\n",
              " [407.29998779296875],\n",
              " [431.8999938964844],\n",
              " [337.3999938964844],\n",
              " [179.1999969482422],\n",
              " [328.1000061035156],\n",
              " [593.4000244140625],\n",
              " [95737.3984375],\n",
              " [491.29998779296875],\n",
              " [1255.9000244140625],\n",
              " [401.6000061035156],\n",
              " [570.2000122070312],\n",
              " [562.7000122070312],\n",
              " [403.1000061035156],\n",
              " [335.8999938964844],\n",
              " [628.0999755859375],\n",
              " [334.29998779296875],\n",
              " [806.4000244140625],\n",
              " [569.2000122070312],\n",
              " [383.29998779296875],\n",
              " [548.9000244140625],\n",
              " [293.1000061035156],\n",
              " [551.2999877929688],\n",
              " [348.1000061035156],\n",
              " [300.3999938964844],\n",
              " [433.1000061035156],\n",
              " [451.0],\n",
              " [416.1000061035156],\n",
              " [479.5],\n",
              " [344.79998779296875],\n",
              " [580.4000244140625],\n",
              " [469.70001220703125],\n",
              " [311.8999938964844],\n",
              " [320.1000061035156],\n",
              " [309.20001220703125],\n",
              " [391.1000061035156],\n",
              " [567.5],\n",
              " [379.1000061035156],\n",
              " [409.8999938964844],\n",
              " [371.70001220703125],\n",
              " [544.5999755859375],\n",
              " [327.29998779296875],\n",
              " [188.39999389648438],\n",
              " [437.29998779296875],\n",
              " [390.0],\n",
              " [415.79998779296875],\n",
              " [354.8999938964844],\n",
              " [454.6000061035156],\n",
              " [325.5],\n",
              " [466.20001220703125],\n",
              " [441.0],\n",
              " [409.29998779296875],\n",
              " [328.20001220703125],\n",
              " [320.6000061035156],\n",
              " [335.1000061035156],\n",
              " [256.29998779296875],\n",
              " [277.5],\n",
              " [418.20001220703125],\n",
              " [273.0],\n",
              " [451.6000061035156],\n",
              " [321.29998779296875],\n",
              " [405.5],\n",
              " [367.3999938964844],\n",
              " [151.10000610351562],\n",
              " [281.0],\n",
              " [2158.0],\n",
              " [344.79998779296875],\n",
              " [283.6000061035156],\n",
              " [441.29998779296875],\n",
              " [461.3999938964844],\n",
              " [464.6000061035156],\n",
              " [246.60000610351562],\n",
              " [286.6000061035156],\n",
              " [373.5],\n",
              " [65206.30078125],\n",
              " [375.1000061035156],\n",
              " [553.0],\n",
              " [646.0],\n",
              " [358.29998779296875],\n",
              " [421.0],\n",
              " [567.4000244140625],\n",
              " [619.5999755859375],\n",
              " [422.6000061035156],\n",
              " [478.29998779296875],\n",
              " [693.5],\n",
              " [470.29998779296875],\n",
              " [377.0],\n",
              " [543.0],\n",
              " [533.0],\n",
              " [312.6000061035156],\n",
              " [427.6000061035156],\n",
              " [331.20001220703125],\n",
              " [406.0],\n",
              " [406.29998779296875],\n",
              " [375.1000061035156],\n",
              " [278.29998779296875],\n",
              " [315.6000061035156],\n",
              " [304.6000061035156],\n",
              " [259.70001220703125],\n",
              " [441.70001220703125],\n",
              " [183.39999389648438],\n",
              " [279.1000061035156],\n",
              " [425.0],\n",
              " [305.29998779296875],\n",
              " [280.20001220703125],\n",
              " [455.1000061035156],\n",
              " [382.0],\n",
              " [488.79998779296875],\n",
              " [488.6000061035156],\n",
              " [413.5],\n",
              " [474.79998779296875],\n",
              " [511.70001220703125],\n",
              " [366.6000061035156],\n",
              " [502.0],\n",
              " [541.0],\n",
              " [325.3999938964844],\n",
              " [517.9000244140625],\n",
              " [382.6000061035156],\n",
              " [415.8999938964844],\n",
              " [461.29998779296875],\n",
              " [447.70001220703125],\n",
              " [590.5999755859375],\n",
              " [225.0],\n",
              " [67622.0],\n",
              " [349.0],\n",
              " [505.29998779296875],\n",
              " [488.6000061035156],\n",
              " [430.6000061035156],\n",
              " [297.0],\n",
              " [420.5],\n",
              " [4624.2998046875],\n",
              " [434.79998779296875],\n",
              " [361.70001220703125],\n",
              " [241.6999969482422],\n",
              " [437.5],\n",
              " [495.1000061035156],\n",
              " [329.0],\n",
              " [470.0],\n",
              " [343.0],\n",
              " [464.79998779296875],\n",
              " [528.2000122070312],\n",
              " [357.5],\n",
              " [399.1000061035156],\n",
              " [353.0],\n",
              " [431.0],\n",
              " [419.6000061035156],\n",
              " [464.20001220703125],\n",
              " [269.3999938964844],\n",
              " [453.5],\n",
              " [414.29998779296875],\n",
              " [489.0],\n",
              " [427.6000061035156],\n",
              " [241.3000030517578],\n",
              " [1294.5999755859375],\n",
              " [437.5],\n",
              " [534.5999755859375],\n",
              " [406.29998779296875],\n",
              " [469.0],\n",
              " [455.3999938964844],\n",
              " [207.10000610351562],\n",
              " [369.0],\n",
              " [815.0],\n",
              " [344.79998779296875],\n",
              " [389.5],\n",
              " [271.1000061035156],\n",
              " [310.0],\n",
              " [511.0],\n",
              " [352.79998779296875],\n",
              " [372.79998779296875],\n",
              " [319.8999938964844],\n",
              " [286.8999938964844],\n",
              " [434.0],\n",
              " [620.7999877929688],\n",
              " [601.7000122070312],\n",
              " [640.2999877929688],\n",
              " [792.9000244140625],\n",
              " [361.20001220703125],\n",
              " [685.9000244140625],\n",
              " [550.0999755859375],\n",
              " [343.8999938964844],\n",
              " [630.9000244140625],\n",
              " [666.0],\n",
              " [390.1000061035156],\n",
              " [332.79998779296875],\n",
              " [367.8999938964844],\n",
              " [502.8999938964844],\n",
              " [296.29998779296875],\n",
              " [424.6000061035156],\n",
              " [329.6000061035156],\n",
              " [358.1000061035156],\n",
              " [284.79998779296875],\n",
              " [318.8999938964844],\n",
              " [338.0],\n",
              " [537.7000122070312],\n",
              " [705.5999755859375],\n",
              " [296.8999938964844],\n",
              " [249.1999969482422],\n",
              " [541.9000244140625],\n",
              " [309.70001220703125],\n",
              " [646.0999755859375],\n",
              " [334.8999938964844],\n",
              " [346.0],\n",
              " [238.10000610351562],\n",
              " [364.79998779296875],\n",
              " [343.8999938964844],\n",
              " [462.8999938964844],\n",
              " [284.79998779296875],\n",
              " [472.6000061035156],\n",
              " [273.6000061035156],\n",
              " [377.20001220703125],\n",
              " [60957.8984375],\n",
              " [66741.703125],\n",
              " [66713.5],\n",
              " [401.79998779296875],\n",
              " [378.0],\n",
              " [92965.8984375],\n",
              " [344.70001220703125],\n",
              " [106169.8984375],\n",
              " [556.7999877929688],\n",
              " [67815.8984375],\n",
              " [348.79998779296875],\n",
              " [567.9000244140625],\n",
              " [104758.8984375],\n",
              " [282.0],\n",
              " [320.29998779296875],\n",
              " [120520.6015625],\n",
              " [365.8999938964844],\n",
              " [125469.703125],\n",
              " [50409.5],\n",
              " [21073.80078125],\n",
              " [452.3999938964844],\n",
              " [1438.0999755859375],\n",
              " [53303.8984375],\n",
              " [406.8999938964844],\n",
              " [338.0],\n",
              " [163188.796875],\n",
              " [534.0999755859375],\n",
              " [364.79998779296875],\n",
              " [398.8999938964844],\n",
              " [2626.0],\n",
              " [396.79998779296875],\n",
              " [281.70001220703125],\n",
              " [85368.296875],\n",
              " [632.5999755859375],\n",
              " [32880.8984375],\n",
              " [65945.203125],\n",
              " [549.9000244140625],\n",
              " [72549.703125],\n",
              " [281.5],\n",
              " [129940.203125],\n",
              " [48823.3984375],\n",
              " [52161.80078125],\n",
              " [406.1000061035156],\n",
              " [444.79998779296875],\n",
              " [112695.8984375],\n",
              " [94926.8984375],\n",
              " [494.1000061035156],\n",
              " [412.79998779296875],\n",
              " [85647.8984375],\n",
              " [348.79998779296875],\n",
              " [83608.296875],\n",
              " [216.60000610351562],\n",
              " [457.6000061035156],\n",
              " [304.8999938964844],\n",
              " [111345.203125],\n",
              " [100933.8984375],\n",
              " [121340.203125],\n",
              " [77209.796875],\n",
              " [412.3999938964844],\n",
              " [421.8999938964844],\n",
              " [320.29998779296875],\n",
              " [131774.09375],\n",
              " [128591.8984375],\n",
              " [454.8999938964844],\n",
              " [410.0],\n",
              " [532.7999877929688],\n",
              " [42153.69921875],\n",
              " [296.29998779296875],\n",
              " [51472.69921875],\n",
              " [57460.1015625],\n",
              " [352.79998779296875],\n",
              " [417.3999938964844],\n",
              " [129818.5],\n",
              " [91391.1015625],\n",
              " [282.5],\n",
              " [434.29998779296875],\n",
              " [399.29998779296875],\n",
              " [129985.296875],\n",
              " [50450.19921875],\n",
              " [367.29998779296875],\n",
              " [245078.40625],\n",
              " [346.5],\n",
              " [558.0999755859375],\n",
              " [30360.69921875],\n",
              " [340.1000061035156],\n",
              " [408.79998779296875],\n",
              " [313.3999938964844],\n",
              " [874.5],\n",
              " [75175.1015625],\n",
              " [367.29998779296875],\n",
              " [726.4000244140625],\n",
              " [204.10000610351562],\n",
              " [582.2000122070312],\n",
              " [200.8000030517578],\n",
              " [85745.3984375],\n",
              " [346.5],\n",
              " [107807.1015625],\n",
              " [458.5],\n",
              " [490.29998779296875],\n",
              " [455.29998779296875],\n",
              " [394.20001220703125],\n",
              " [314.5],\n",
              " [16029.400390625],\n",
              " [111702.1015625],\n",
              " [469.0],\n",
              " [64352.1015625],\n",
              " [2343.800048828125],\n",
              " [48404.3984375],\n",
              " [420.20001220703125],\n",
              " [122482.0],\n",
              " [602.2000122070312],\n",
              " [332.1000061035156],\n",
              " [481.5],\n",
              " [87894.3984375],\n",
              " [53597.5],\n",
              " [1058.0999755859375],\n",
              " [41513.8984375],\n",
              " [57177.6015625],\n",
              " [48964.1015625],\n",
              " [2471.10009765625],\n",
              " [354.5],\n",
              " [95202.296875],\n",
              " [198.10000610351562],\n",
              " [10650.5],\n",
              " [393.8999938964844],\n",
              " [125872.1015625],\n",
              " [343.70001220703125],\n",
              " [283.0],\n",
              " [207.5],\n",
              " [238.0],\n",
              " [83604.703125],\n",
              " [648.0],\n",
              " [41298.6015625],\n",
              " [97564.5],\n",
              " [128415.296875],\n",
              " [557.7999877929688],\n",
              " [379.29998779296875],\n",
              " [543.0],\n",
              " [67781.0],\n",
              " [549.0999755859375],\n",
              " [412.8999938964844],\n",
              " [394.1000061035156],\n",
              " [384.3999938964844],\n",
              " [491.8999938964844],\n",
              " [191.6999969482422],\n",
              " [296.3999938964844],\n",
              " [71040.8984375],\n",
              " [401.5],\n",
              " [390.20001220703125],\n",
              " [63143.5],\n",
              " [363.8999938964844],\n",
              " [370.0],\n",
              " [319.29998779296875],\n",
              " [1180.5],\n",
              " [241.60000610351562],\n",
              " [57820.3984375],\n",
              " [73124.1015625],\n",
              " [413.0],\n",
              " [108203.0],\n",
              " [14555.099609375],\n",
              " [73250.203125],\n",
              " [680.7000122070312],\n",
              " [199.6999969482422],\n",
              " [282.3999938964844],\n",
              " [329.0],\n",
              " [1196.300048828125],\n",
              " [99235.3984375],\n",
              " [203.1999969482422],\n",
              " [500.20001220703125],\n",
              " [66495.703125],\n",
              " [581.7999877929688],\n",
              " [371.29998779296875],\n",
              " [262.29998779296875],\n",
              " [589.0999755859375],\n",
              " [292.8999938964844],\n",
              " [416.3999938964844],\n",
              " [329.0],\n",
              " [157875.296875],\n",
              " [85473.0],\n",
              " [347.8999938964844],\n",
              " [344.8999938964844],\n",
              " [348.5],\n",
              " [73200.6015625],\n",
              " [83280.8984375],\n",
              " [371.70001220703125],\n",
              " [433.70001220703125],\n",
              " [323.70001220703125],\n",
              " [739.2000122070312],\n",
              " [239.39999389648438],\n",
              " [305.1000061035156],\n",
              " [116211.8984375],\n",
              " [28430.19921875],\n",
              " [115257.3984375],\n",
              " [403.5],\n",
              " [362.1000061035156],\n",
              " [463.79998779296875],\n",
              " [297.70001220703125],\n",
              " [215.39999389648438],\n",
              " [55601.6015625],\n",
              " [4935.60009765625],\n",
              " [147321.703125],\n",
              " [319.70001220703125],\n",
              " [82726.203125],\n",
              " [481.8999938964844],\n",
              " [453.70001220703125],\n",
              " [44101.30078125],\n",
              " [370.3999938964844],\n",
              " [348.5],\n",
              " [114837.5],\n",
              " [349.8999938964844],\n",
              " [66778.6015625],\n",
              " [107731.296875],\n",
              " [419.6000061035156],\n",
              " [384.29998779296875],\n",
              " [467.0],\n",
              " [254.3000030517578],\n",
              " [349.6000061035156],\n",
              " [397.3999938964844],\n",
              " [371.8999938964844],\n",
              " [270.20001220703125],\n",
              " [398.6000061035156],\n",
              " [507.20001220703125],\n",
              " [230.6999969482422],\n",
              " [69474.6015625],\n",
              " [101723.296875],\n",
              " [37520.0],\n",
              " [441.29998779296875],\n",
              " [505.5],\n",
              " [292.6000061035156],\n",
              " [492.29998779296875],\n",
              " [113532.203125],\n",
              " [407.0],\n",
              " [44258.19921875],\n",
              " [80347.1015625],\n",
              " [224.6999969482422],\n",
              " [299.5],\n",
              " [429.6000061035156],\n",
              " [74517.0],\n",
              " [385.1000061035156],\n",
              " [431.1000061035156],\n",
              " [1107.0],\n",
              " [113942.796875],\n",
              " [343.5],\n",
              " [1169.800048828125],\n",
              " [539.4000244140625],\n",
              " [313.79998779296875],\n",
              " [418.5],\n",
              " [289.1000061035156],\n",
              " [325.3999938964844],\n",
              " [520.9000244140625],\n",
              " [540.4000244140625],\n",
              " [1205.800048828125],\n",
              " [435.20001220703125],\n",
              " [454.0],\n",
              " [315.0],\n",
              " [403.3999938964844],\n",
              " [392.8999938964844],\n",
              " [363.6000061035156],\n",
              " [1746.5999755859375],\n",
              " [470.3999938964844],\n",
              " [355.0],\n",
              " [363.5],\n",
              " [354.8999938964844],\n",
              " [422.5],\n",
              " [382.5],\n",
              " [71743.1015625],\n",
              " [423.29998779296875],\n",
              " [464.1000061035156],\n",
              " [58716.3984375],\n",
              " [151548.90625],\n",
              " [529.0],\n",
              " [490.8999938964844],\n",
              " [413.29998779296875],\n",
              " [100026.8984375],\n",
              " [513.2999877929688],\n",
              " [404.0],\n",
              " [403.8999938964844],\n",
              " [422.8999938964844],\n",
              " [520.0],\n",
              " [249.1999969482422],\n",
              " [339.0],\n",
              " [397.70001220703125],\n",
              " [401.3999938964844],\n",
              " [287.29998779296875],\n",
              " [205.5],\n",
              " [538.0999755859375],\n",
              " [246.3000030517578],\n",
              " [523.0999755859375],\n",
              " [466.5],\n",
              " [357.20001220703125],\n",
              " [249.5],\n",
              " [783.0999755859375],\n",
              " [323.79998779296875],\n",
              " [356.1000061035156],\n",
              " [60246.1015625],\n",
              " [137.6999969482422],\n",
              " [58008.1015625],\n",
              " [429.1000061035156],\n",
              " [361.5],\n",
              " [352.79998779296875],\n",
              " [91603.296875],\n",
              " [607.5],\n",
              " [378.29998779296875],\n",
              " [510.1000061035156],\n",
              " [59960.80078125],\n",
              " [422.79998779296875],\n",
              " [126756.796875],\n",
              " [270.0],\n",
              " [313.79998779296875],\n",
              " [318.70001220703125],\n",
              " [370.70001220703125],\n",
              " [22002.400390625],\n",
              " [339.6000061035156],\n",
              " [341.8999938964844],\n",
              " [411.8999938964844],\n",
              " [5567.2998046875],\n",
              " [400.6000061035156],\n",
              " [367.70001220703125],\n",
              " [653.7000122070312],\n",
              " [514.0],\n",
              " [474.70001220703125],\n",
              " [426.6000061035156],\n",
              " [162.39999389648438],\n",
              " [332.6000061035156],\n",
              " [344.5],\n",
              " [506.3999938964844],\n",
              " [106665.796875],\n",
              " [483.0],\n",
              " [308.20001220703125],\n",
              " [409.8999938964844],\n",
              " [507.1000061035156],\n",
              " [323.6000061035156],\n",
              " [257.8999938964844],\n",
              " [588.0],\n",
              " [217.0],\n",
              " [303.1000061035156],\n",
              " [733.2000122070312],\n",
              " [14711.099609375],\n",
              " [97260.8984375],\n",
              " [378.29998779296875],\n",
              " [456.29998779296875],\n",
              " [582.5],\n",
              " [312.1000061035156],\n",
              " [374.3999938964844],\n",
              " [323.1000061035156],\n",
              " [60318.6015625],\n",
              " [387.8999938964844],\n",
              " [345.79998779296875],\n",
              " [118207.203125],\n",
              " [222.39999389648438],\n",
              " [322.29998779296875],\n",
              " [490.3999938964844],\n",
              " [66709.6015625],\n",
              " [328.20001220703125],\n",
              " [643.4000244140625],\n",
              " [335.70001220703125],\n",
              " [329.79998779296875],\n",
              " [502.3999938964844],\n",
              " [423.1000061035156],\n",
              " [412.79998779296875],\n",
              " [248.10000610351562],\n",
              " [408.70001220703125],\n",
              " [177905.796875],\n",
              " [238.60000610351562],\n",
              " [236.0],\n",
              " [310.0],\n",
              " [352.20001220703125],\n",
              " [451.3999938964844],\n",
              " [1831.699951171875],\n",
              " [438.0],\n",
              " [388.79998779296875],\n",
              " [55591.69921875],\n",
              " [36390.6015625],\n",
              " [192294.40625],\n",
              " [399.1000061035156],\n",
              " [150.60000610351562],\n",
              " [452.79998779296875],\n",
              " [216.1999969482422],\n",
              " [306.70001220703125],\n",
              " [375.1000061035156],\n",
              " [377.70001220703125],\n",
              " [656.2999877929688],\n",
              " [565.5999755859375],\n",
              " [326.0],\n",
              " [231.10000610351562],\n",
              " [341.70001220703125],\n",
              " [279.0],\n",
              " [448.5],\n",
              " [340.70001220703125],\n",
              " [279.29998779296875],\n",
              " [249.0],\n",
              " [376.8999938964844],\n",
              " [225.5],\n",
              " [378.1000061035156],\n",
              " [234.5],\n",
              " [546.7000122070312],\n",
              " [401.3999938964844],\n",
              " [339.79998779296875],\n",
              " [348.8999938964844],\n",
              " [485.8999938964844],\n",
              " [371.1000061035156],\n",
              " [431.8999938964844],\n",
              " [263.70001220703125],\n",
              " [366.5],\n",
              " [549.0],\n",
              " [419.79998779296875],\n",
              " [387.29998779296875],\n",
              " [328.3999938964844],\n",
              " [287.3999938964844],\n",
              " [176.39999389648438],\n",
              " [45389.30078125],\n",
              " [535.2000122070312],\n",
              " [317.70001220703125],\n",
              " [270.70001220703125],\n",
              " [319.70001220703125],\n",
              " [346.1000061035156],\n",
              " [328.3999938964844],\n",
              " [339.29998779296875],\n",
              " [294.1000061035156],\n",
              " [417.29998779296875],\n",
              " [614.0999755859375],\n",
              " [11030.5],\n",
              " [341.29998779296875],\n",
              " [326.1000061035156],\n",
              " [389.5],\n",
              " [4655.2998046875],\n",
              " [397.0],\n",
              " [329.29998779296875],\n",
              " [471.6000061035156],\n",
              " [399.70001220703125],\n",
              " [341.20001220703125],\n",
              " [294.5],\n",
              " [379.8999938964844],\n",
              " [413.70001220703125],\n",
              " [412.79998779296875],\n",
              " [257.1000061035156],\n",
              " [350.5],\n",
              " [347.79998779296875],\n",
              " [222.89999389648438],\n",
              " [333.8999938964844],\n",
              " [413.8999938964844],\n",
              " [543.7000122070312],\n",
              " [675.7000122070312],\n",
              " [229.0],\n",
              " [732.2999877929688],\n",
              " [332.79998779296875],\n",
              " [313.0],\n",
              " [477.5],\n",
              " [557.2000122070312],\n",
              " [514.0999755859375],\n",
              " [290.8999938964844],\n",
              " [272.20001220703125],\n",
              " [274.5],\n",
              " [46189.0],\n",
              " [346.3999938964844],\n",
              " [237.6999969482422],\n",
              " [365.3999938964844],\n",
              " [213.10000610351562],\n",
              " [468.79998779296875],\n",
              " [313.79998779296875],\n",
              " [401.6000061035156],\n",
              " [354.79998779296875],\n",
              " [324.70001220703125],\n",
              " [316.20001220703125],\n",
              " [317.20001220703125],\n",
              " [457.20001220703125],\n",
              " [274.8999938964844],\n",
              " [255.6999969482422],\n",
              " [368.3999938964844],\n",
              " [432.3999938964844],\n",
              " [180.39999389648438],\n",
              " [315.1000061035156],\n",
              " [481.70001220703125],\n",
              " [287.8999938964844],\n",
              " [467.1000061035156],\n",
              " [448.79998779296875],\n",
              " [423.70001220703125],\n",
              " [236.6999969482422],\n",
              " [164.6999969482422],\n",
              " [379.20001220703125],\n",
              " [429.20001220703125],\n",
              " [353.3999938964844],\n",
              " [626.2000122070312],\n",
              " [388.1000061035156],\n",
              " [312.5],\n",
              " [477.6000061035156],\n",
              " [388.79998779296875],\n",
              " [406.5],\n",
              " [412.20001220703125],\n",
              " [349.6000061035156],\n",
              " [299.0],\n",
              " [231.89999389648438],\n",
              " [410.8999938964844],\n",
              " [378.20001220703125],\n",
              " [357.5],\n",
              " [244.1999969482422],\n",
              " [416.20001220703125],\n",
              " [275.3999938964844],\n",
              " [545.5999755859375],\n",
              " [231.3000030517578],\n",
              " [293.5],\n",
              " [478.5],\n",
              " [599.9000244140625],\n",
              " [376.1000061035156],\n",
              " [63364.80078125],\n",
              " [309.29998779296875],\n",
              " [490.8999938964844],\n",
              " [454.29998779296875],\n",
              " [438.79998779296875],\n",
              " [448.1000061035156],\n",
              " [445.79998779296875],\n",
              " [491.8999938964844],\n",
              " [252.60000610351562],\n",
              " [535.2000122070312],\n",
              " [300.1000061035156],\n",
              " [140.39999389648438],\n",
              " [364.6000061035156],\n",
              " [66190.5],\n",
              " [316.79998779296875],\n",
              " [514.9000244140625],\n",
              " [256.6000061035156],\n",
              " [76556.1015625],\n",
              " [363.0],\n",
              " [461.8999938964844],\n",
              " [355.8999938964844],\n",
              " [319.29998779296875],\n",
              " [425.29998779296875],\n",
              " [458.29998779296875],\n",
              " [695.5999755859375],\n",
              " [512.2999877929688],\n",
              " [362.29998779296875],\n",
              " [471.6000061035156],\n",
              " [385.79998779296875],\n",
              " [574.7999877929688],\n",
              " [501.29998779296875],\n",
              " [495.0],\n",
              " [601.7999877929688],\n",
              " [350.6000061035156],\n",
              " [541.2000122070312],\n",
              " [406.20001220703125],\n",
              " [454.70001220703125],\n",
              " [543.4000244140625],\n",
              " [266.29998779296875],\n",
              " [382.79998779296875],\n",
              " [504.29998779296875],\n",
              " [510.6000061035156],\n",
              " [2775.0],\n",
              " [97271.6015625],\n",
              " [374.20001220703125],\n",
              " [679.2000122070312],\n",
              " [383.3999938964844],\n",
              " [314.29998779296875],\n",
              " [642.7999877929688],\n",
              " [309.70001220703125],\n",
              " [655.2000122070312],\n",
              " [414.6000061035156],\n",
              " [279.6000061035156],\n",
              " [399.20001220703125],\n",
              " [414.70001220703125],\n",
              " [557.2999877929688],\n",
              " [385.79998779296875],\n",
              " [510.79998779296875],\n",
              " [310.20001220703125],\n",
              " [351.20001220703125],\n",
              " [422.6000061035156],\n",
              " [623.4000244140625],\n",
              " [359.20001220703125],\n",
              " [666.7999877929688],\n",
              " [410.29998779296875],\n",
              " [521.7999877929688],\n",
              " [298.79998779296875],\n",
              " [533.7000122070312],\n",
              " [4606.2001953125],\n",
              " [416.29998779296875],\n",
              " [445.29998779296875],\n",
              " [455.0],\n",
              " [394.20001220703125],\n",
              " [348.20001220703125],\n",
              " [363.29998779296875],\n",
              " [438.29998779296875],\n",
              " [467.79998779296875],\n",
              " [391.6000061035156],\n",
              " [310.20001220703125],\n",
              " [288.29998779296875],\n",
              " [430.70001220703125],\n",
              " [349.70001220703125],\n",
              " [366.6000061035156],\n",
              " [431.3999938964844],\n",
              " [511.0],\n",
              " [469.6000061035156],\n",
              " [237.1999969482422],\n",
              " [223.1999969482422],\n",
              " [335.3999938964844],\n",
              " [642.2999877929688],\n",
              " [437.20001220703125],\n",
              " [495.6000061035156],\n",
              " [578.7999877929688],\n",
              " [366.20001220703125],\n",
              " [177814.59375],\n",
              " [458.79998779296875],\n",
              " [662.5999755859375],\n",
              " [550.2000122070312],\n",
              " [263.20001220703125],\n",
              " [346.29998779296875],\n",
              " [442.29998779296875],\n",
              " [439.6000061035156],\n",
              " [689.7999877929688],\n",
              " [437.20001220703125],\n",
              " [529.7999877929688],\n",
              " [302.79998779296875],\n",
              " [334.20001220703125],\n",
              " [447.20001220703125],\n",
              " [487.6000061035156],\n",
              " [346.79998779296875],\n",
              " [310.6000061035156],\n",
              " [426.29998779296875],\n",
              " [279.6000061035156],\n",
              " [501.20001220703125],\n",
              " [302.79998779296875],\n",
              " [517.7000122070312],\n",
              " [64111.6015625],\n",
              " [441.79998779296875],\n",
              " [2194.800048828125],\n",
              " [382.20001220703125],\n",
              " [375.3999938964844],\n",
              " [398.70001220703125],\n",
              " [17354.19921875],\n",
              " [120471.6015625],\n",
              " [718.7999877929688],\n",
              " [439.20001220703125],\n",
              " [405.20001220703125],\n",
              " [337.79998779296875],\n",
              " [298.79998779296875],\n",
              " [342.70001220703125],\n",
              " [396.5],\n",
              " [669.4000244140625],\n",
              " [487.3999938964844],\n",
              " [382.0],\n",
              " [86561.703125],\n",
              " [251.1999969482422],\n",
              " [249.6999969482422],\n",
              " [500.5],\n",
              " [599.4000244140625],\n",
              " [63508.5],\n",
              " [367.8999938964844],\n",
              " [30069.69921875],\n",
              " [333.79998779296875],\n",
              " [2268.5],\n",
              " [52992.5],\n",
              " [1631.9000244140625],\n",
              " [2571.800048828125],\n",
              " [53369.19921875],\n",
              " [56447.1015625],\n",
              " [38765.30078125],\n",
              " [98066.796875],\n",
              " [39209.6015625],\n",
              " [119849.5],\n",
              " [47393.8984375],\n",
              " [85126.296875],\n",
              " [44210.30078125],\n",
              " [67047.3984375],\n",
              " [43389.69921875],\n",
              " [561.5999755859375],\n",
              " [42577.69921875],\n",
              " [66108.5],\n",
              " [73705.1015625],\n",
              " [42718.8984375],\n",
              " [100877.3984375],\n",
              " [16336.7998046875],\n",
              " [126935.8984375],\n",
              " [320.20001220703125],\n",
              " [114694.0],\n",
              " [1163.199951171875],\n",
              " [1699.800048828125],\n",
              " [106359.5],\n",
              " [429.79998779296875],\n",
              " [43533.30078125],\n",
              " [75385.6015625],\n",
              " [153625.90625],\n",
              " [40937.69921875],\n",
              " [46892.5],\n",
              " [109118.8984375],\n",
              " [65260.5],\n",
              " [11520.2001953125],\n",
              " [867.7999877929688],\n",
              " [120039.1015625],\n",
              " [173141.59375],\n",
              " [76126.1015625],\n",
              " [68885.296875],\n",
              " [105994.796875],\n",
              " [88799.3984375],\n",
              " [111315.296875],\n",
              " [68162.296875],\n",
              " [2326.699951171875],\n",
              " [99263.703125],\n",
              " [77936.8984375],\n",
              " [1207.0999755859375],\n",
              " [47124.5],\n",
              " [68572.5],\n",
              " [68271.8984375],\n",
              " [32542.0],\n",
              " [39811.80078125],\n",
              " [161529.203125],\n",
              " [91421.6015625],\n",
              " [322.79998779296875],\n",
              " [44347.5],\n",
              " [125218.296875],\n",
              " [1271.699951171875],\n",
              " [35748.5],\n",
              " [60280.3984375],\n",
              " [79866.0],\n",
              " [1738.5999755859375],\n",
              " [70735.203125],\n",
              " [75894.0],\n",
              " [126407.5],\n",
              " [24257.5],\n",
              " [86632.296875],\n",
              " [183143.90625],\n",
              " [3345.0],\n",
              " [2289.699951171875],\n",
              " [50789.1015625],\n",
              " [364.6000061035156],\n",
              " [82571.8984375],\n",
              " [89785.1015625],\n",
              " [58270.5],\n",
              " [68661.0],\n",
              " [45454.19921875],\n",
              " [55129.5],\n",
              " [1959.199951171875],\n",
              " [80686.3984375],\n",
              " [72345.8984375],\n",
              " [119160.203125],\n",
              " [142767.59375],\n",
              " [74498.8984375],\n",
              " [65540.6015625],\n",
              " [70557.0],\n",
              " [94205.3984375],\n",
              " [125403.796875],\n",
              " [48611.5],\n",
              " [55007.3984375],\n",
              " [3621.5],\n",
              " [113946.6015625],\n",
              " [51506.6015625],\n",
              " [119554.3984375],\n",
              " [183574.09375],\n",
              " [79882.703125],\n",
              " [146877.296875],\n",
              " [60095.3984375],\n",
              " [9554.2001953125],\n",
              " [2181.5],\n",
              " [1283.9000244140625],\n",
              " [28594.900390625],\n",
              " [34604.6015625],\n",
              " [44796.1015625],\n",
              " [51157.5],\n",
              " [30485.900390625],\n",
              " [49003.30078125],\n",
              " [387.70001220703125],\n",
              " [74749.0],\n",
              " [757.5999755859375],\n",
              " [93512.5],\n",
              " [66401.5],\n",
              " [68232.0],\n",
              " [1138.0999755859375],\n",
              " [261.20001220703125],\n",
              " [148095.59375],\n",
              " [23152.69921875],\n",
              " [25302.80078125],\n",
              " [620.5999755859375],\n",
              " [159187.703125],\n",
              " [261.20001220703125],\n",
              " [130163.5],\n",
              " [51572.19921875],\n",
              " [49750.69921875],\n",
              " [42786.1015625],\n",
              " [118819.0],\n",
              " [65150.69921875],\n",
              " [46032.69921875],\n",
              " [50224.69921875],\n",
              " [79137.8984375],\n",
              " [77601.203125],\n",
              " [99809.296875],\n",
              " [49723.8984375],\n",
              " [40629.69921875],\n",
              " [153065.09375],\n",
              " [1061.9000244140625],\n",
              " [25169.19921875],\n",
              " [58797.69921875],\n",
              " [969.0],\n",
              " [106990.203125],\n",
              " ...]"
            ]
          },
          "metadata": {},
          "execution_count": 25
        }
      ]
    },
    {
      "cell_type": "code",
      "execution_count": 33,
      "id": "f01e84a6",
      "metadata": {
        "scrolled": true,
        "id": "f01e84a6",
        "outputId": "679e9e6c-2184-42af-cbd6-6a1e17a1b597",
        "colab": {
          "base_uri": "https://localhost:8080/"
        }
      },
      "outputs": [
        {
          "output_type": "stream",
          "name": "stdout",
          "text": [
            "118833.703125\n",
            "[118833.703125, 118943.6015625, 87353.796875, 100892.0, 68235.8984375, 99239.796875, 271688.1875, 56507.8984375, 351.6000061035156, 112121.1015625, 1398.800048828125, 89839.796875, 90031.3984375, 78737.5, 2339.5, 67482.1015625, 1502.4000244140625, 567.0999755859375, 118915.6015625, 390.5, 421.3999938964844, 148739.796875, 102700.5, 202707.703125, 153206.59375, 500.79998779296875, 125143.796875, 82571.3984375, 137779.40625, 50175.30078125, 160586.5, 84914.703125, 91756.0, 75695.1015625, 112061.0, 616.9000244140625, 53224.3984375, 74141.6015625, 4329.60009765625, 70637.8984375, 181516.203125, 185124.40625, 3013.699951171875, 72750.1015625, 73043.703125, 114425.5, 89821.5, 91942.8984375, 144869.09375, 115075.3984375, 123671.796875, 68333.796875, 201873.296875, 68211.6015625, 526.2000122070312, 118646.703125, 31109.80078125, 100993.6015625, 55486.5, 57672.0, 70156.5, 21449.19921875, 73405.796875, 433.5, 573.5, 63606.8984375, 108706.203125, 112660.8984375, 27696.19921875, 77446.5, 34115.30078125, 40091.5, 55010.69921875, 13065.2998046875, 95115.8984375, 70699.3984375, 158153.296875, 26626.099609375, 1320.4000244140625, 4110.7998046875, 161596.203125, 196415.796875, 36003.0, 30528.599609375, 78740.8984375, 82979.8984375, 20619.30078125, 109314.8984375, 79445.1015625, 154697.09375, 83714.5, 527.4000244140625, 939.5, 19970.0, 96239.3984375, 27827.69921875, 56174.5, 58811.0, 77592.0, 29629.599609375]\n",
            "<class 'list'>\n",
            "0.00\n"
          ]
        }
      ],
      "source": [
        "from numpy.random import seed\n",
        "from numpy.random import randn\n",
        "from numpy.random import lognormal\n",
        "from scipy.stats import ks_2samp\n",
        "from scipy import stats\n",
        "\n",
        "d2 = FlowCal.io.FCSData('02-blank-A2-2.fcs')\n",
        "\n",
        "#d2 = [FlowCal.transform.to_rfi(di) for di in d2]\n",
        "\n",
        "d2_fl1 = d2[:, ['FL1-H']]\n",
        "d2_list = d2_fl1.tolist()\n",
        "print(d2_list[0][0])\n",
        "\n",
        "proper_d2_list = []\n",
        "for i in range(len(d2_list)):\n",
        "    proper_d2_list.append(d2_list[i][0])\n",
        "\n",
        "print(proper_d2_list[:100])\n",
        "print(type(proper_d2_list[:100]))\n",
        "\n",
        "p = stats.ks_2samp(proper_d1_list, proper_d2_list).pvalue\n",
        "#print(\"%f1\" % 0.123)\n",
        "print('{0:.2f}'.format(p))\n"
      ]
    },
    {
      "cell_type": "code",
      "execution_count": 36,
      "id": "ordered-insulin",
      "metadata": {
        "scrolled": true,
        "id": "ordered-insulin",
        "outputId": "4f938726-a584-4bac-b483-15004db7e54e",
        "colab": {
          "base_uri": "https://localhost:8080/"
        }
      },
      "outputs": [
        {
          "output_type": "stream",
          "name": "stdout",
          "text": [
            "364.70001220703125\n",
            "[364.70001220703125, 358.1000061035156, 315.0, 351.29998779296875, 503.29998779296875, 514.7000122070312, 1524.199951171875, 177.89999389648438, 609.7000122070312, 269.1000061035156, 488.79998779296875, 425.6000061035156, 481.5, 256.8999938964844, 229.5, 219.89999389648438, 471.5, 338.3999938964844, 319.1000061035156, 500.79998779296875, 743.4000244140625, 361.1000061035156, 504.1000061035156, 491.0, 507.8999938964844, 480.29998779296875, 202.6999969482422, 592.7999877929688, 369.0, 399.1000061035156, 592.9000244140625, 244.3000030517578, 377.70001220703125, 375.20001220703125, 420.70001220703125, 563.4000244140625, 392.5, 524.5, 540.2999877929688, 281.0, 193.10000610351562, 546.7999877929688, 465.3999938964844, 844.0999755859375, 308.1000061035156, 426.20001220703125, 568.7999877929688, 450.3999938964844, 348.79998779296875, 248.3000030517578, 327.20001220703125, 428.29998779296875, 355.1000061035156, 350.5, 356.70001220703125, 541.5, 454.29998779296875, 430.8999938964844, 555.2000122070312, 340.1000061035156, 385.1000061035156, 273.1000061035156, 448.0, 483.1000061035156, 234.5, 492.0, 270.1000061035156, 278.1000061035156, 372.0, 241.3000030517578, 376.20001220703125, 342.8999938964844, 241.60000610351562, 4841.0, 428.3999938964844, 369.0, 375.79998779296875, 375.79998779296875, 309.6000061035156, 267.79998779296875, 297.1000061035156, 468.3999938964844, 329.3999938964844, 517.2000122070312, 321.3999938964844, 398.1000061035156, 430.1000061035156, 408.79998779296875, 165.0, 515.2999877929688, 295.6000061035156, 411.6000061035156, 328.3999938964844, 287.0, 348.8999938964844, 316.3999938964844, 509.70001220703125, 312.29998779296875, 287.3999938964844, 448.3999938964844]\n",
            "<class 'list'>\n",
            "KstestResult(statistic=0.1285884357351607, pvalue=0.0, statistic_location=85340.203125, statistic_sign=1)\n",
            "16375.7998046875\n",
            "[16375.7998046875, 96679.1015625, 68153.296875, 31386.599609375, 35502.19921875, 101275.6015625, 23793.0, 44114.69921875, 37851.0, 125122.0, 51207.6015625, 83225.296875, 53185.8984375, 918.2000122070312, 239128.0, 30518.5, 28241.69921875, 25928.5, 55807.6015625, 74089.203125, 124243.5, 289.0, 30278.19921875, 108141.296875, 67271.8984375, 789.0, 278.29998779296875, 40771.5, 43380.0, 36115.6015625, 2442.199951171875, 28054.599609375, 49891.0, 847.9000244140625, 102398.6015625, 108989.203125, 38669.3984375, 477.0, 48595.30078125, 64341.0, 50494.0, 466.20001220703125, 22140.599609375, 69998.6015625, 65794.1015625, 392.5, 30196.69921875, 22336.5, 65335.69921875, 36440.19921875, 52302.0, 38952.5, 317.79998779296875, 76541.0, 52604.19921875, 31088.5, 307.6000061035156, 56370.80078125, 384.70001220703125, 23968.69921875, 38169.5, 10171.900390625, 26253.099609375, 320.20001220703125, 447.1000061035156, 320.1000061035156, 46021.30078125, 57299.69921875, 1275.300048828125, 347.6000061035156, 392.70001220703125, 31279.900390625, 528.7999877929688, 663.0999755859375, 47165.80078125, 17546.19921875, 468.70001220703125, 424.70001220703125, 33590.3984375, 167128.203125, 29222.400390625, 560.2000122070312, 453.20001220703125, 424.20001220703125, 447.3999938964844, 639.9000244140625, 528.7999877929688, 319.79998779296875, 336.70001220703125, 836.5999755859375, 469.1000061035156, 656.7000122070312, 338.70001220703125, 354.6000061035156, 432.70001220703125, 327.6000061035156, 623.5, 488.6000061035156, 204.0, 491.8999938964844]\n",
            "<class 'list'>\n",
            "KstestResult(statistic=0.22004223074591023, pvalue=0.0, statistic_location=69523.5, statistic_sign=-1)\n",
            "KstestResult(statistic=0.08213674177119656, pvalue=0.0, statistic_location=115975.1015625, statistic_sign=-1)\n",
            "KstestResult(statistic=0.3832459667567023, pvalue=0.0, statistic_location=83635.6015625, statistic_sign=-1)\n",
            "KstestResult(statistic=0.34096090323540157, pvalue=0.0, statistic_location=75514.3984375, statistic_sign=-1)\n"
          ]
        }
      ],
      "source": [
        "d3 = FlowCal.io.FCSData('02-blank-A2-3.fcs')\n",
        "\n",
        "d3_fl1 = d3[:, ['FL1-H']]\n",
        "d3_list = d3_fl1.tolist()\n",
        "print(d3_list[0][0])\n",
        "\n",
        "proper_d3_list = []\n",
        "for i in range(len(d3_list)):\n",
        "    proper_d3_list.append(d3_list[i][0])\n",
        "\n",
        "print(proper_d3_list[:100])\n",
        "print(type(proper_d3_list[:100]))\n",
        "\n",
        "print(stats.ks_2samp(proper_d1_list, proper_d3_list))\n",
        "\n",
        "\n",
        "\n",
        "d4 = FlowCal.io.FCSData('02-blank-A2-4.fcs')\n",
        "\n",
        "d4_fl1 = d4[:, ['FL1-H']]\n",
        "d4_list = d4_fl1.tolist()\n",
        "print(d4_list[0][0])\n",
        "\n",
        "proper_d4_list = []\n",
        "for i in range(len(d4_list)):\n",
        "    proper_d4_list.append(d4_list[i][0])\n",
        "\n",
        "print(proper_d4_list[:100])\n",
        "print(type(proper_d4_list[:100]))\n",
        "\n",
        "print(stats.ks_2samp(proper_d1_list, proper_d4_list))\n",
        "\n",
        "print(stats.ks_2samp(proper_d2_list, proper_d3_list))\n",
        "print(stats.ks_2samp(proper_d2_list, proper_d4_list))\n",
        "print(stats.ks_2samp(proper_d3_list, proper_d4_list))\n"
      ]
    },
    {
      "cell_type": "code",
      "execution_count": 40,
      "id": "01307a2f",
      "metadata": {
        "scrolled": true,
        "id": "01307a2f",
        "outputId": "dd7d2b54-7cbd-4d13-dc64-4f2f06e45a0d",
        "colab": {
          "base_uri": "https://localhost:8080/"
        }
      },
      "outputs": [
        {
          "output_type": "stream",
          "name": "stdout",
          "text": [
            "183549.796875\n",
            "[183549.796875, 200225.296875, 251791.09375, 162743.703125, 362330.40625, 197018.0, 327545.6875, 3259.5, 413688.40625, 5252.7001953125, 423374.90625, 148772.09375, 410514.1875, 207122.203125, 161079.5, 270599.1875, 2991.0, 102027.3984375, 6421.89990234375, 68298.296875, 244365.796875, 2972.60009765625, 173921.40625, 6094.60009765625, 2448.60009765625, 284738.1875, 161100.703125, 683461.8125, 411417.6875, 450365.8125, 213329.59375, 4393.7998046875, 338855.3125, 349123.8125, 291882.90625, 176306.0, 234146.296875, 419309.09375, 111067.703125, 171955.59375, 191493.796875, 177130.296875, 6601.7998046875, 266344.40625, 321078.09375, 607908.375, 173613.703125, 257471.59375, 429411.6875, 349710.90625, 168520.40625, 454669.3125, 321363.8125, 221864.59375, 255914.90625, 256789.796875, 336122.0, 240874.296875, 421959.3125, 283989.09375, 428062.8125, 305791.6875, 501467.6875, 637021.8125, 112018.296875, 234449.796875, 236456.40625, 2198.10009765625, 293964.40625, 227069.703125, 279295.59375, 182309.296875, 404475.8125, 81200.6015625, 157697.796875, 188282.90625, 2335.10009765625, 311869.8125, 202410.296875, 286853.09375, 248798.796875, 167047.703125, 492955.6875, 154707.59375, 2517.800048828125, 195634.296875, 260289.796875, 261080.40625, 53334.1015625, 237852.40625, 152845.703125, 263007.59375, 182747.703125, 402454.90625, 152536.09375, 338392.40625, 3153.10009765625, 175005.703125, 292243.5, 328872.6875]\n",
            "<class 'list'>\n",
            "353641.09375\n",
            "[353641.09375, 277831.6875, 91150.8984375, 4056.300048828125, 136663.59375, 280758.1875, 248275.40625, 149758.796875, 18678.80078125, 38723.19921875, 342666.40625, 330151.09375, 239625.5, 86714.5, 482252.8125, 30347.80078125, 550.5999755859375, 115407.8984375, 200713.796875, 341167.40625, 369095.90625, 297873.5, 289141.90625, 102443.0, 248080.90625, 182203.90625, 140157.40625, 17937.69921875, 572650.625, 218419.703125, 225940.90625, 355049.5, 323626.1875, 1683.0999755859375, 216872.203125, 375786.6875, 253406.40625, 236052.703125, 313.29998779296875, 166592.40625, 189768.0, 358425.3125, 225283.40625, 16745.80078125, 488587.3125, 272076.1875, 160290.796875, 1185.5, 195064.703125, 231256.90625, 19792.69921875, 86651.0, 193708.5, 177433.0, 495.8999938964844, 256369.796875, 494046.40625, 49816.69921875, 121832.8984375, 345809.6875, 187834.796875, 254035.0, 278720.59375, 279520.59375, 225323.796875, 390.8999938964844, 296113.6875, 136462.296875, 212897.59375, 218137.796875, 498759.90625, 211436.796875, 220432.5, 207448.90625, 83149.5, 169574.796875, 312782.8125, 458315.40625, 15720.7001953125, 233045.796875, 308306.90625, 174629.59375, 228289.796875, 63945.8984375, 90521.203125, 111247.296875, 208544.5, 248569.09375, 190556.5, 478.6000061035156, 2173.800048828125, 455227.59375, 234477.5, 225019.203125, 139368.0, 120124.5, 201524.0, 96235.796875, 438554.6875, 333688.3125]\n",
            "<class 'list'>\n"
          ]
        },
        {
          "output_type": "execute_result",
          "data": {
            "text/plain": [
              "KstestResult(statistic=0.022858415033122526, pvalue=1.5550975097446945e-25, statistic_location=244519.09375, statistic_sign=1)"
            ]
          },
          "metadata": {},
          "execution_count": 40
        }
      ],
      "source": [
        "from numpy.random import seed\n",
        "from numpy.random import randn\n",
        "from numpy.random import lognormal\n",
        "from scipy.stats import ks_2samp\n",
        "from scipy import stats\n",
        "\n",
        "d1 = FlowCal.io.FCSData('02-blank-A3-1.fcs')\n",
        "\n",
        "#print(d1.shape)\n",
        "\n",
        "#d1_fl1 = d1[:, ['FL1-H']]\n",
        "#print(type(d1_fl1))\n",
        "#print(dir(d1_fl1))\n",
        "#print(type(d1_fl1.data.tolist()))\n",
        "#print(d1_fl1.data.tolist()[100])\n",
        "\n",
        "\n",
        "#print(type(d1[0]))\n",
        "#print(dir(d1[0]))\n",
        "#print(len(d1[0]))\n",
        "#print(d1[0][0])\n",
        "#d1 = [FlowCal.transform.to_rfi(di) for di in d1]\n",
        "d1_fl1 = d1[:, ['FL1-H']]\n",
        "d1_list = d1_fl1.tolist()\n",
        "print(d1_list[0][0])\n",
        "\n",
        "proper_d1_list = []\n",
        "for i in range(len(d1_list)):\n",
        "    proper_d1_list.append(d1_list[i][0])\n",
        "\n",
        "print(proper_d1_list[:100])\n",
        "print(type(proper_d1_list[:100]))\n",
        "\n",
        "#print(type(d1[0][0]))\n",
        "#print(dir(d1[0][0]))\n",
        "#print(len(d1[0][0]))\n",
        "\n",
        "d2 = FlowCal.io.FCSData('02-blank-A3-2.fcs')\n",
        "\n",
        "#d2 = [FlowCal.transform.to_rfi(di) for di in d2]\n",
        "\n",
        "d2_fl1 = d2[:, ['FL1-H']]\n",
        "d2_list = d2_fl1.tolist()\n",
        "print(d2_list[0][0])\n",
        "\n",
        "proper_d2_list = []\n",
        "for i in range(len(d2_list)):\n",
        "    proper_d2_list.append(d2_list[i][0])\n",
        "\n",
        "print(proper_d2_list[:100])\n",
        "print(type(proper_d2_list[:100]))\n",
        "\n",
        "stats.ks_2samp(proper_d1_list, proper_d2_list)\n"
      ]
    },
    {
      "cell_type": "code",
      "execution_count": 41,
      "id": "18c70a5a",
      "metadata": {
        "scrolled": true,
        "id": "18c70a5a",
        "outputId": "2578165f-5751-414b-8b57-7226717d81b5",
        "colab": {
          "base_uri": "https://localhost:8080/"
        }
      },
      "outputs": [
        {
          "output_type": "stream",
          "name": "stdout",
          "text": [
            "312217.8125\n",
            "[312217.8125, 198138.703125, 233850.40625, 173478.796875, 148983.796875, 326379.3125, 115684.6015625, 388057.59375, 3302.89990234375, 245756.203125, 177194.703125, 503810.5, 220015.40625, 1977.5, 115310.5, 421250.59375, 111303.796875, 384174.59375, 133615.703125, 357.5, 304765.0, 165349.90625, 181505.0, 289403.1875, 111886.5, 181862.59375, 146849.203125, 264238.1875, 387083.3125, 148899.796875, 299712.09375, 309118.09375, 279697.6875, 238732.40625, 207697.0, 279346.5, 136857.5, 228145.09375, 192955.703125, 236379.59375, 399537.5, 296775.40625, 157561.40625, 375746.6875, 186096.703125, 409575.3125, 203204.5, 162225.40625, 33625.8984375, 124147.0, 123216.1015625, 251176.296875, 345424.6875, 324137.3125, 133928.296875, 200436.296875, 153658.40625, 202704.59375, 252805.90625, 179738.5, 127013.1015625, 126023.296875, 300811.40625, 305815.90625, 179374.40625, 275535.90625, 175055.296875, 305018.3125, 195151.5, 26145.900390625, 213722.09375, 314.0, 188723.203125, 217381.203125, 246045.296875, 412948.6875, 265888.0, 205178.40625, 260676.5, 92299.8984375, 379309.1875, 327599.90625, 286613.5, 12098.099609375, 467293.6875, 36226.69921875, 90170.0, 384204.3125, 380621.40625, 268802.40625, 147391.796875, 185869.0, 7566.5, 1063.5999755859375, 206453.59375, 333974.90625, 199492.203125, 164757.703125, 193391.59375, 244775.40625]\n",
            "<class 'list'>\n",
            "KstestResult(statistic=0.05135639391602809, pvalue=1.8354245480917458e-156, statistic_location=218385.09375, statistic_sign=-1)\n",
            "199262.0\n",
            "[199262.0, 123696.796875, 172021.0, 815.0, 132783.203125, 51516.30078125, 301522.40625, 230026.40625, 231777.5, 108316.5, 156073.0, 209953.40625, 300155.40625, 327687.40625, 434320.1875, 174118.0, 106086.5, 4898.89990234375, 225091.09375, 1134.300048828125, 125998.3984375, 389.20001220703125, 127088.6015625, 304193.3125, 214635.90625, 199526.796875, 137799.40625, 171948.40625, 44026.6015625, 135389.5, 116711.6015625, 11733.2998046875, 233759.296875, 264716.59375, 89715.8984375, 234150.796875, 234060.59375, 253496.40625, 212387.59375, 214105.0, 124762.203125, 185494.09375, 3446.800048828125, 176743.296875, 328276.5, 165781.703125, 179904.59375, 279162.8125, 199032.59375, 220585.40625, 290948.8125, 268751.1875, 106789.3984375, 176322.5, 103427.8984375, 32931.8984375, 2364.89990234375, 165686.09375, 199133.90625, 779.2999877929688, 182126.5, 192361.0, 265070.8125, 111001.6015625, 1568.699951171875, 37178.19921875, 229420.796875, 131404.40625, 286094.1875, 194499.40625, 122755.3984375, 471.20001220703125, 165791.5, 83756.6015625, 1083.4000244140625, 176942.796875, 163621.203125, 150426.40625, 144690.5, 84926.6015625, 50034.5, 206277.09375, 225925.5, 168960.703125, 133186.59375, 400391.6875, 140564.296875, 54030.0, 192572.59375, 128801.296875, 77556.5, 149439.203125, 178614.296875, 78563.3984375, 893.2000122070312, 2649.39990234375, 270851.59375, 178195.09375, 211832.59375, 158728.796875]\n",
            "<class 'list'>\n",
            "KstestResult(statistic=0.21795105195839143, pvalue=0.0, statistic_location=220868.5, statistic_sign=-1)\n",
            "KstestResult(statistic=0.07287841180451915, pvalue=2.657325543558425e-256, statistic_location=230588.203125, statistic_sign=-1)\n",
            "KstestResult(statistic=0.2396985543687723, pvalue=0.0, statistic_location=230862.0, statistic_sign=-1)\n",
            "KstestResult(statistic=0.16723709581978474, pvalue=0.0, statistic_location=223607.703125, statistic_sign=-1)\n"
          ]
        }
      ],
      "source": [
        "d3 = FlowCal.io.FCSData('02-blank-A3-3.fcs')\n",
        "\n",
        "d3_fl1 = d3[:, ['FL1-H']]\n",
        "d3_list = d3_fl1.tolist()\n",
        "print(d3_list[0][0])\n",
        "\n",
        "proper_d3_list = []\n",
        "for i in range(len(d3_list)):\n",
        "    proper_d3_list.append(d3_list[i][0])\n",
        "\n",
        "print(proper_d3_list[:100])\n",
        "print(type(proper_d3_list[:100]))\n",
        "\n",
        "print(stats.ks_2samp(proper_d1_list, proper_d3_list))\n",
        "\n",
        "\n",
        "\n",
        "d4 = FlowCal.io.FCSData('02-blank-A3-4.fcs')\n",
        "\n",
        "d4_fl1 = d4[:, ['FL1-H']]\n",
        "d4_list = d4_fl1.tolist()\n",
        "print(d4_list[0][0])\n",
        "\n",
        "proper_d4_list = []\n",
        "for i in range(len(d4_list)):\n",
        "    proper_d4_list.append(d4_list[i][0])\n",
        "\n",
        "print(proper_d4_list[:100])\n",
        "print(type(proper_d4_list[:100]))\n",
        "\n",
        "print(stats.ks_2samp(proper_d1_list, proper_d4_list))\n",
        "\n",
        "print(stats.ks_2samp(proper_d2_list, proper_d3_list))\n",
        "print(stats.ks_2samp(proper_d2_list, proper_d4_list))\n",
        "print(stats.ks_2samp(proper_d3_list, proper_d4_list))\n"
      ]
    },
    {
      "cell_type": "code",
      "execution_count": 44,
      "id": "0ce9931e",
      "metadata": {
        "scrolled": true,
        "id": "0ce9931e",
        "outputId": "c1adb5bd-b42d-4a5b-b602-947eb6eb72f9",
        "colab": {
          "base_uri": "https://localhost:8080/"
        }
      },
      "outputs": [
        {
          "output_type": "stream",
          "name": "stdout",
          "text": [
            "413796.0\n",
            "[413796.0, 184962.09375, 253538.90625, 163260.09375, 263491.5, 167701.59375, 197251.796875, 91738.8984375, 64629.19921875, 335593.09375, 198397.203125, 174383.703125, 128113.6015625, 470382.59375, 6102.2001953125, 220829.40625, 361126.8125, 245634.296875, 45643.3984375, 74189.6015625, 164483.296875, 257194.203125, 235193.296875, 175575.90625, 94517.5, 168069.203125, 152537.09375, 195475.296875, 217275.296875, 249419.90625, 176157.203125, 227988.09375, 188093.796875, 1660.9000244140625, 152292.703125, 187735.796875, 159098.0, 247965.59375, 242442.703125, 240109.0, 210802.203125, 260803.40625, 218253.59375, 191935.796875, 204772.0, 117887.5, 187346.203125, 229806.40625, 454611.09375, 11752.2001953125, 227228.09375, 159055.296875, 172284.203125, 249293.90625, 78684.296875, 383825.8125, 172275.0, 119782.8984375, 163399.703125, 231675.5, 288523.1875, 196972.0, 30638.599609375, 199237.59375, 239418.40625, 154979.09375, 213236.703125, 247574.203125, 267853.09375, 198924.40625, 264847.40625, 278147.3125, 153674.703125, 249440.40625, 308214.09375, 299209.09375, 361984.6875, 217184.0, 127560.203125, 259076.0, 109028.1015625, 314411.5, 239861.59375, 187802.90625, 358897.09375, 60493.19921875, 195727.40625, 273463.6875, 210177.59375, 2198.199951171875, 278262.1875, 172349.40625, 79806.796875, 221494.796875, 376786.3125, 136651.40625, 209828.59375, 228125.59375, 239969.296875, 271206.90625]\n",
            "<class 'list'>\n",
            "218667.09375\n",
            "[218667.09375, 45111.8984375, 165554.0, 69007.3984375, 1579.0999755859375, 265403.0, 296474.90625, 182189.203125, 319047.90625, 196351.40625, 2539.10009765625, 122971.1015625, 168883.0, 372578.0, 144587.0, 1778.9000244140625, 170581.203125, 400281.3125, 217395.40625, 31775.0, 84260.296875, 178191.5, 362923.40625, 185419.296875, 3105.0, 157484.0, 217347.90625, 156359.0, 254300.203125, 261366.0, 164503.09375, 133711.703125, 189726.59375, 226972.5, 285498.8125, 211859.09375, 211165.796875, 183181.296875, 268484.59375, 285262.6875, 42809.1015625, 35495.6015625, 314209.90625, 109120.203125, 330233.09375, 181680.796875, 153147.703125, 188323.5, 264066.0, 298560.3125, 390151.59375, 288007.8125, 149332.59375, 255811.703125, 260819.0, 502545.09375, 255472.0, 232912.40625, 293045.3125, 419584.3125, 557973.0, 259359.90625, 119663.3984375, 196003.09375, 40467.0, 237010.0, 398763.0, 434.8999938964844, 249741.203125, 178369.296875, 303611.40625, 150492.296875, 245743.5, 301067.40625, 206803.296875, 406705.0, 277331.90625, 357399.0, 213140.203125, 171862.0, 1999.0999755859375, 180399.703125, 279366.59375, 235868.5, 79122.796875, 252155.09375, 181221.796875, 181541.296875, 187516.59375, 148806.703125, 475097.09375, 38871.6015625, 368633.90625, 143920.203125, 195257.09375, 91704.796875, 306499.6875, 309939.5, 4218.0, 419752.3125]\n",
            "<class 'list'>\n"
          ]
        },
        {
          "output_type": "execute_result",
          "data": {
            "text/plain": [
              "KstestResult(statistic=0.07152146748313137, pvalue=1.9268821281596322e-213, statistic_location=253416.203125, statistic_sign=1)"
            ]
          },
          "metadata": {},
          "execution_count": 44
        }
      ],
      "source": [
        "from numpy.random import seed\n",
        "from numpy.random import randn\n",
        "from numpy.random import lognormal\n",
        "from scipy.stats import ks_2samp\n",
        "from scipy import stats\n",
        "\n",
        "d1 = FlowCal.io.FCSData('02-blank-A4-1.fcs')\n",
        "\n",
        "#print(d1.shape)\n",
        "\n",
        "#d1_fl1 = d1[:, ['FL1-H']]\n",
        "#print(type(d1_fl1))\n",
        "#print(dir(d1_fl1))\n",
        "#print(type(d1_fl1.data.tolist()))\n",
        "#print(d1_fl1.data.tolist()[100])\n",
        "\n",
        "\n",
        "#print(type(d1[0]))\n",
        "#print(dir(d1[0]))\n",
        "#print(len(d1[0]))\n",
        "#print(d1[0][0])\n",
        "#d1 = [FlowCal.transform.to_rfi(di) for di in d1]\n",
        "d1_fl1 = d1[:, ['FL1-H']]\n",
        "d1_list = d1_fl1.tolist()\n",
        "print(d1_list[0][0])\n",
        "\n",
        "proper_d1_list = []\n",
        "for i in range(len(d1_list)):\n",
        "    proper_d1_list.append(d1_list[i][0])\n",
        "\n",
        "print(proper_d1_list[:100])\n",
        "print(type(proper_d1_list[:100]))\n",
        "\n",
        "#print(type(d1[0][0]))\n",
        "#print(dir(d1[0][0]))\n",
        "#print(len(d1[0][0]))\n",
        "\n",
        "d2 = FlowCal.io.FCSData('02-blank-A4-2.fcs')\n",
        "\n",
        "#d2 = [FlowCal.transform.to_rfi(di) for di in d2]\n",
        "\n",
        "d2_fl1 = d2[:, ['FL1-H']]\n",
        "d2_list = d2_fl1.tolist()\n",
        "print(d2_list[0][0])\n",
        "\n",
        "proper_d2_list = []\n",
        "for i in range(len(d2_list)):\n",
        "    proper_d2_list.append(d2_list[i][0])\n",
        "\n",
        "print(proper_d2_list[:100])\n",
        "print(type(proper_d2_list[:100]))\n",
        "\n",
        "stats.ks_2samp(proper_d1_list, proper_d2_list)\n"
      ]
    },
    {
      "cell_type": "code",
      "execution_count": 46,
      "id": "c2f3fb9d",
      "metadata": {
        "scrolled": true,
        "id": "c2f3fb9d",
        "outputId": "968de259-f34a-4d03-dfec-27db0c837b52",
        "colab": {
          "base_uri": "https://localhost:8080/"
        }
      },
      "outputs": [
        {
          "output_type": "stream",
          "name": "stdout",
          "text": [
            "345836.59375\n",
            "[345836.59375, 99356.3984375, 232132.0, 150121.0, 361738.6875, 124833.5, 215793.796875, 154658.703125, 267437.1875, 21161.80078125, 160281.59375, 155061.203125, 171317.5, 106948.5, 153818.703125, 100571.8984375, 92126.296875, 541273.0, 133495.296875, 85085.296875, 203270.40625, 278002.3125, 1678.9000244140625, 147225.703125, 175554.296875, 191372.0, 206154.09375, 67788.0, 240776.296875, 192961.0, 128520.8984375, 208895.703125, 250285.59375, 163769.09375, 276938.6875, 185787.0, 182046.5, 94389.5, 219944.0, 148329.0, 109836.3984375, 109257.0, 126020.0, 146763.0, 117928.3984375, 99478.1015625, 180001.703125, 157820.0, 136180.5, 329934.90625, 410940.0, 352385.0, 184296.796875, 142219.09375, 348679.0, 265524.59375, 7396.89990234375, 176439.90625, 250514.59375, 174785.0, 207860.296875, 197479.0, 182591.59375, 31323.099609375, 135018.40625, 210870.40625, 375623.5, 133563.796875, 249253.203125, 49180.6015625, 167172.59375, 327719.0, 207354.0, 223652.0, 203860.296875, 202410.5, 68516.0, 200441.90625, 135669.09375, 267127.3125, 255652.5, 217679.296875, 269229.90625, 232734.5, 129835.6015625, 198876.40625, 424557.1875, 49189.0, 124394.8984375, 17520.900390625, 1019.0, 279627.5, 94635.3984375, 2676.10009765625, 31602.900390625, 103753.6015625, 126893.203125, 534036.375, 133337.0, 148468.0]\n",
            "<class 'list'>\n",
            "KstestResult(statistic=0.11060628209804169, pvalue=0.0, statistic_location=191899.0, statistic_sign=-1)\n",
            "209883.703125\n",
            "[209883.703125, 202307.796875, 132542.09375, 227880.09375, 125958.8984375, 238866.296875, 286039.6875, 307307.5, 151314.0, 290174.59375, 206149.296875, 24474.400390625, 376526.1875, 108943.1015625, 14962.0, 239339.90625, 253480.90625, 394.5, 151260.90625, 112613.296875, 54103.80078125, 67405.8984375, 272345.40625, 1921.300048828125, 399341.09375, 410204.0, 902363.0, 190814.0, 251869.59375, 269878.90625, 54480.0, 31863.599609375, 65626.203125, 1013.0999755859375, 294419.09375, 208715.703125, 332648.09375, 146594.203125, 221871.5, 99469.203125, 191686.40625, 116061.296875, 324233.59375, 226721.09375, 182783.796875, 290528.6875, 313105.09375, 27961.099609375, 117473.296875, 205312.796875, 335607.40625, 531221.125, 732.9000244140625, 215247.09375, 143092.40625, 542581.3125, 555152.5, 270110.3125, 239374.296875, 271712.1875, 237820.90625, 8223.900390625, 255194.59375, 242355.5, 20423.400390625, 526809.8125, 159787.09375, 494.79998779296875, 300109.59375, 171917.40625, 145940.5, 74667.1015625, 153571.5, 215765.296875, 250409.796875, 129109.0, 148001.296875, 331674.0, 461510.5, 177950.796875, 299389.6875, 150115.703125, 318099.6875, 136843.796875, 2330.800048828125, 133358.796875, 23218.0, 24446.599609375, 159318.296875, 126793.703125, 208693.296875, 383698.40625, 6342.2001953125, 151639.09375, 201454.09375, 113231.8984375, 198936.90625, 321250.5, 37876.8984375, 129247.796875]\n",
            "<class 'list'>\n",
            "KstestResult(statistic=0.03779224038397544, pvalue=6.760794557008639e-94, statistic_location=315220.5, statistic_sign=1)\n",
            "KstestResult(statistic=0.16894157900741147, pvalue=0.0, statistic_location=210938.09375, statistic_sign=-1)\n",
            "KstestResult(statistic=0.06623868801939886, pvalue=2.3820268123202863e-250, statistic_location=210761.0, statistic_sign=-1)\n",
            "KstestResult(statistic=0.10321455002616303, pvalue=0.0, statistic_location=213779.0, statistic_sign=1)\n"
          ]
        }
      ],
      "source": [
        "d3 = FlowCal.io.FCSData('02-blank-A4-3.fcs')\n",
        "\n",
        "d3_fl1 = d3[:, ['FL1-H']]\n",
        "d3_list = d3_fl1.tolist()\n",
        "print(d3_list[0][0])\n",
        "\n",
        "proper_d3_list = []\n",
        "for i in range(len(d3_list)):\n",
        "    proper_d3_list.append(d3_list[i][0])\n",
        "\n",
        "print(proper_d3_list[:100])\n",
        "print(type(proper_d3_list[:100]))\n",
        "\n",
        "print(stats.ks_2samp(proper_d1_list, proper_d3_list))\n",
        "\n",
        "\n",
        "\n",
        "d4 = FlowCal.io.FCSData('02-blank-A4-4.fcs')\n",
        "\n",
        "d4_fl1 = d4[:, ['FL1-H']]\n",
        "d4_list = d4_fl1.tolist()\n",
        "print(d4_list[0][0])\n",
        "\n",
        "proper_d4_list = []\n",
        "for i in range(len(d4_list)):\n",
        "    proper_d4_list.append(d4_list[i][0])\n",
        "\n",
        "print(proper_d4_list[:100])\n",
        "print(type(proper_d4_list[:100]))\n",
        "\n",
        "print(stats.ks_2samp(proper_d1_list, proper_d4_list))\n",
        "\n",
        "print(stats.ks_2samp(proper_d2_list, proper_d3_list))\n",
        "print(stats.ks_2samp(proper_d2_list, proper_d4_list))\n",
        "print(stats.ks_2samp(proper_d3_list, proper_d4_list))\n"
      ]
    },
    {
      "cell_type": "code",
      "execution_count": 47,
      "id": "7da69879",
      "metadata": {
        "scrolled": true,
        "id": "7da69879",
        "outputId": "1f970e7b-d7b4-4e20-a3ef-4c54e363aa80",
        "colab": {
          "base_uri": "https://localhost:8080/"
        }
      },
      "outputs": [
        {
          "output_type": "stream",
          "name": "stdout",
          "text": [
            "223826.203125\n",
            "[223826.203125, 251391.703125, 235766.703125, 141411.203125, 96501.796875, 446740.90625, 245771.796875, 1747.300048828125, 69110.203125, 260874.203125, 288494.3125, 212112.09375, 500.3999938964844, 58548.69921875, 225326.40625, 205985.5, 194600.296875, 516.2000122070312, 121283.0, 182573.90625, 331223.90625, 184731.90625, 8943.7001953125, 326779.0, 131975.40625, 120536.796875, 187262.5, 55764.30078125, 230546.09375, 318242.59375, 243766.796875, 287599.09375, 174230.203125, 332455.3125, 168819.09375, 160756.40625, 473.6000061035156, 282791.0, 117413.796875, 112633.203125, 133398.796875, 168852.90625, 307415.40625, 235921.5, 2811.300048828125, 189307.796875, 249424.796875, 186762.203125, 196877.5, 146421.90625, 155097.40625, 383042.0, 268149.1875, 226347.09375, 188556.5, 372437.5, 128052.1015625, 349289.8125, 135266.0, 172949.5, 201858.09375, 161705.296875, 69443.5, 205193.59375, 192694.09375, 156513.5, 216330.0, 470.8999938964844, 145570.296875, 269005.59375, 199354.09375, 125718.6015625, 316.8999938964844, 113646.1015625, 118210.1015625, 292825.59375, 256959.0, 52293.1015625, 159885.796875, 160953.203125, 134036.90625, 166523.796875, 163119.40625, 336498.40625, 103121.5, 428267.3125, 213283.796875, 448339.5, 248917.5, 301629.90625, 55497.3984375, 9370.0, 127149.203125, 243082.40625, 363.1000061035156, 150028.5, 1844.0999755859375, 240033.796875, 226066.0, 286485.5]\n",
            "<class 'list'>\n",
            "109910.6015625\n",
            "[109910.6015625, 199773.703125, 52533.3984375, 165554.90625, 427733.3125, 212205.796875, 303041.09375, 431967.5, 319696.1875, 127466.796875, 258887.09375, 423151.0, 419454.6875, 338770.1875, 149121.703125, 322479.09375, 284598.1875, 287688.1875, 235776.296875, 253725.09375, 48820.30078125, 349063.0, 193552.296875, 304366.90625, 385374.59375, 192205.703125, 193237.40625, 255178.90625, 1813.300048828125, 238837.796875, 284585.09375, 349191.5, 259192.203125, 255330.796875, 371775.09375, 293463.0, 402374.6875, 516666.1875, 343345.6875, 461239.09375, 348902.1875, 165648.203125, 1744.300048828125, 286405.09375, 286388.3125, 927.0, 269080.3125, 154942.90625, 355210.0, 99973.8984375, 265623.40625, 279776.40625, 243716.703125, 1164.0999755859375, 376499.1875, 669.5, 165063.0, 47317.6015625, 381751.59375, 267591.09375, 329254.3125, 326425.5, 280560.8125, 269135.59375, 205821.09375, 189776.796875, 168426.59375, 132476.59375, 116821.703125, 2935.300048828125, 2188.300048828125, 105798.796875, 1882.699951171875, 12040.2998046875, 308453.5, 525619.125, 146888.5, 130485.796875, 414760.0, 196667.0, 388134.5, 277386.3125, 382946.09375, 254835.203125, 164917.296875, 210378.0, 228860.59375, 5401.2998046875, 291231.5, 1159.0999755859375, 301619.6875, 432745.1875, 246210.5, 29242.5, 392675.1875, 328232.6875, 27578.30078125, 250937.796875, 235576.90625, 468330.0]\n",
            "<class 'list'>\n"
          ]
        },
        {
          "output_type": "execute_result",
          "data": {
            "text/plain": [
              "KstestResult(statistic=0.3517642504406831, pvalue=0.0, statistic_location=247411.0, statistic_sign=1)"
            ]
          },
          "metadata": {},
          "execution_count": 47
        }
      ],
      "source": [
        "from numpy.random import seed\n",
        "from numpy.random import randn\n",
        "from numpy.random import lognormal\n",
        "from scipy.stats import ks_2samp\n",
        "from scipy import stats\n",
        "\n",
        "d1 = FlowCal.io.FCSData('02-blank-A5-1.fcs')\n",
        "\n",
        "#print(d1.shape)\n",
        "\n",
        "#d1_fl1 = d1[:, ['FL1-H']]\n",
        "#print(type(d1_fl1))\n",
        "#print(dir(d1_fl1))\n",
        "#print(type(d1_fl1.data.tolist()))\n",
        "#print(d1_fl1.data.tolist()[100])\n",
        "\n",
        "\n",
        "#print(type(d1[0]))\n",
        "#print(dir(d1[0]))\n",
        "#print(len(d1[0]))\n",
        "#print(d1[0][0])\n",
        "#d1 = [FlowCal.transform.to_rfi(di) for di in d1]\n",
        "d1_fl1 = d1[:, ['FL1-H']]\n",
        "d1_list = d1_fl1.tolist()\n",
        "print(d1_list[0][0])\n",
        "\n",
        "proper_d1_list = []\n",
        "for i in range(len(d1_list)):\n",
        "    proper_d1_list.append(d1_list[i][0])\n",
        "\n",
        "print(proper_d1_list[:100])\n",
        "print(type(proper_d1_list[:100]))\n",
        "\n",
        "#print(type(d1[0][0]))\n",
        "#print(dir(d1[0][0]))\n",
        "#print(len(d1[0][0]))\n",
        "\n",
        "d2 = FlowCal.io.FCSData('02-blank-A5-2.fcs')\n",
        "\n",
        "#d2 = [FlowCal.transform.to_rfi(di) for di in d2]\n",
        "\n",
        "d2_fl1 = d2[:, ['FL1-H']]\n",
        "d2_list = d2_fl1.tolist()\n",
        "print(d2_list[0][0])\n",
        "\n",
        "proper_d2_list = []\n",
        "for i in range(len(d2_list)):\n",
        "    proper_d2_list.append(d2_list[i][0])\n",
        "\n",
        "print(proper_d2_list[:100])\n",
        "print(type(proper_d2_list[:100]))\n",
        "\n",
        "stats.ks_2samp(proper_d1_list, proper_d2_list)\n"
      ]
    },
    {
      "cell_type": "code",
      "execution_count": 48,
      "id": "a3ce8d4f",
      "metadata": {
        "scrolled": true,
        "id": "a3ce8d4f",
        "outputId": "51e01074-0cf8-437a-f9be-9e3667f14fdd",
        "colab": {
          "base_uri": "https://localhost:8080/"
        }
      },
      "outputs": [
        {
          "output_type": "stream",
          "name": "stdout",
          "text": [
            "121661.1015625\n",
            "[121661.1015625, 309359.40625, 203919.5, 303771.09375, 195978.59375, 156946.90625, 16585.0, 45961.80078125, 133484.796875, 180618.796875, 434964.5, 271279.6875, 215225.5, 249464.796875, 150014.203125, 371220.59375, 149936.5, 169692.59375, 83235.203125, 224107.59375, 58635.30078125, 161862.40625, 253249.5, 275147.40625, 143359.796875, 247611.703125, 1147.300048828125, 110939.796875, 339652.40625, 133337.296875, 281697.09375, 115420.296875, 322291.0, 273220.40625, 135261.796875, 252063.703125, 43878.8984375, 130019.3984375, 93003.6015625, 199623.796875, 216896.203125, 121806.796875, 220297.796875, 225130.40625, 173208.0, 237910.0, 191009.59375, 371047.1875, 237120.0, 172483.703125, 155227.59375, 278572.59375, 98155.6015625, 231719.796875, 337726.09375, 88435.0, 453464.5, 251313.796875, 858.7999877929688, 181860.5, 163183.0, 82101.8984375, 502067.5, 193116.40625, 141057.296875, 278265.1875, 6669.2998046875, 242283.59375, 3577.5, 304908.0, 267688.1875, 216517.40625, 400803.3125, 392887.6875, 245187.0, 245831.5, 302225.5, 302032.8125, 220644.5, 238893.40625, 150666.40625, 326031.3125, 118658.6015625, 136283.296875, 198574.59375, 142202.296875, 157805.40625, 217961.0, 184300.5, 184180.40625, 353635.5, 311939.8125, 159977.59375, 348080.40625, 306201.1875, 13056.400390625, 99810.796875, 72489.203125, 67931.0, 290460.8125]\n",
            "<class 'list'>\n",
            "KstestResult(statistic=0.046372671390120246, pvalue=3.894638101114747e-80, statistic_location=248849.90625, statistic_sign=1)\n",
            "127045.0\n",
            "[127045.0, 145550.5, 368199.59375, 218341.40625, 253349.5, 468.20001220703125, 172940.703125, 253593.296875, 197563.40625, 150147.296875, 155446.59375, 85168.1015625, 166577.296875, 50578.5, 221017.0, 48221.1015625, 135653.40625, 152881.59375, 161412.796875, 196052.203125, 205048.59375, 270650.09375, 135399.40625, 136713.09375, 1522.199951171875, 30647.30078125, 213037.5, 186386.296875, 34881.8984375, 160660.796875, 297906.1875, 111247.8984375, 22628.400390625, 177698.5, 115898.6015625, 345321.1875, 207399.40625, 37483.5, 226638.40625, 183987.90625, 218746.90625, 215396.40625, 287477.1875, 120837.703125, 192829.0, 219136.90625, 92351.203125, 117679.296875, 184451.09375, 171449.09375, 210842.796875, 195733.40625, 148101.796875, 227587.296875, 170917.40625, 129765.796875, 131462.5, 333815.0, 73497.6015625, 152354.0, 82911.8984375, 365791.3125, 232665.703125, 215708.203125, 18299.400390625, 114808.203125, 220055.703125, 201347.203125, 72068.6015625, 117271.3984375, 392937.09375, 288284.5, 258540.59375, 243960.40625, 83443.6015625, 200034.203125, 27445.80078125, 150257.59375, 201919.59375, 108469.3984375, 171344.703125, 42799.30078125, 231396.59375, 109598.296875, 130143.1015625, 103487.6015625, 133293.5, 22722.19921875, 163442.59375, 219299.296875, 247332.0, 229146.0, 153305.203125, 205918.5, 312438.5, 1752.0, 160884.796875, 100747.3984375, 255346.09375, 20417.400390625]\n",
            "<class 'list'>\n",
            "KstestResult(statistic=0.021735271114833643, pvalue=1.581071936951377e-22, statistic_location=204791.703125, statistic_sign=-1)\n",
            "KstestResult(statistic=0.30601501478208654, pvalue=0.0, statistic_location=244824.40625, statistic_sign=-1)\n",
            "KstestResult(statistic=0.3692517324071537, pvalue=0.0, statistic_location=244870.296875, statistic_sign=-1)\n",
            "KstestResult(statistic=0.06486265827309068, pvalue=6.2427869285932064e-198, statistic_location=234785.203125, statistic_sign=-1)\n"
          ]
        }
      ],
      "source": [
        "d3 = FlowCal.io.FCSData('02-blank-A5-3.fcs')\n",
        "\n",
        "d3_fl1 = d3[:, ['FL1-H']]\n",
        "d3_list = d3_fl1.tolist()\n",
        "print(d3_list[0][0])\n",
        "\n",
        "proper_d3_list = []\n",
        "for i in range(len(d3_list)):\n",
        "    proper_d3_list.append(d3_list[i][0])\n",
        "\n",
        "print(proper_d3_list[:100])\n",
        "print(type(proper_d3_list[:100]))\n",
        "\n",
        "print(stats.ks_2samp(proper_d1_list, proper_d3_list))\n",
        "\n",
        "\n",
        "\n",
        "d4 = FlowCal.io.FCSData('02-blank-A5-4.fcs')\n",
        "\n",
        "d4_fl1 = d4[:, ['FL1-H']]\n",
        "d4_list = d4_fl1.tolist()\n",
        "print(d4_list[0][0])\n",
        "\n",
        "proper_d4_list = []\n",
        "for i in range(len(d4_list)):\n",
        "    proper_d4_list.append(d4_list[i][0])\n",
        "\n",
        "print(proper_d4_list[:100])\n",
        "print(type(proper_d4_list[:100]))\n",
        "\n",
        "print(stats.ks_2samp(proper_d1_list, proper_d4_list))\n",
        "\n",
        "print(stats.ks_2samp(proper_d2_list, proper_d3_list))\n",
        "print(stats.ks_2samp(proper_d2_list, proper_d4_list))\n",
        "print(stats.ks_2samp(proper_d3_list, proper_d4_list))\n"
      ]
    },
    {
      "cell_type": "code",
      "execution_count": 84,
      "id": "2bdfe617",
      "metadata": {
        "scrolled": true,
        "id": "2bdfe617",
        "outputId": "c81809af-0973-4713-8e5f-5fb03829b746",
        "colab": {
          "base_uri": "https://localhost:8080/"
        }
      },
      "outputs": [
        {
          "output_type": "stream",
          "name": "stdout",
          "text": [
            "106591.796875\n",
            "[106591.796875, 56711.69921875, 93192.8984375, 17158.80078125, 68374.8984375, 72367.296875, 46391.8984375, 199869.703125, 85822.3984375, 54510.19921875, 71435.5, 27219.5, 116520.5, 71819.5, 85086.296875, 126597.796875, 59018.80078125, 40398.6015625, 75773.703125, 99722.203125, 36425.5, 48468.8984375, 51370.6015625, 16351.7998046875, 104862.8984375, 58332.1015625, 91668.203125, 109349.296875, 80609.703125, 57001.6015625, 16454.900390625, 20797.599609375, 152022.703125, 78111.0, 176118.796875, 50831.0, 406.8999938964844, 1527.800048828125, 46591.69921875, 62328.8984375, 103326.796875, 71326.8984375, 64319.30078125, 89199.8984375, 81453.703125, 325430.40625, 3742.199951171875, 50139.5, 53603.5, 59448.5, 68651.5, 50702.30078125, 76109.796875, 172334.59375, 109349.703125, 40657.5, 42708.8984375, 1986.5999755859375, 49079.80078125, 58310.8984375, 67228.1015625, 58404.30078125, 124413.296875, 52625.6015625, 173606.90625, 61933.6015625, 73742.703125, 73895.0, 102390.796875, 47967.0, 44550.8984375, 2813.0, 85577.6015625, 71071.0, 19078.400390625, 6857.2998046875, 120000.1015625, 233444.40625, 483.1000061035156, 54401.3984375, 155704.0, 85144.1015625, 1310.4000244140625, 2928.0, 51743.30078125, 81083.8984375, 39231.1015625, 71297.5, 61472.5, 165557.296875, 61851.0, 87717.1015625, 36161.19921875, 95490.0, 59279.5, 126942.796875, 65739.796875, 60772.3984375, 97072.703125, 121804.1015625]\n",
            "<class 'list'>\n",
            "129196.796875\n",
            "[129196.796875, 249483.296875, 162577.203125, 274068.59375, 190599.0, 29207.30078125, 170596.5, 286497.59375, 361.70001220703125, 187717.09375, 176195.09375, 219528.09375, 233853.59375, 228330.40625, 314727.40625, 2383.199951171875, 240190.796875, 65406.3984375, 87936.5, 277961.40625, 190412.40625, 2030.5999755859375, 180554.5, 110828.296875, 181429.703125, 180704.703125, 281918.09375, 230544.59375, 207709.09375, 286160.6875, 281028.1875, 125375.203125, 243371.296875, 617703.1875, 98607.1015625, 108578.3984375, 165546.703125, 113926.8984375, 357817.3125, 321339.09375, 47927.3984375, 136547.59375, 189305.90625, 124085.203125, 61371.80078125, 172361.40625, 195713.796875, 232950.40625, 138184.59375, 238113.0, 180689.796875, 2663.39990234375, 26384.30078125, 212352.0, 1258.5999755859375, 102940.296875, 299020.8125, 257259.296875, 1265.199951171875, 248644.59375, 204183.0, 251807.296875, 216820.5, 217185.59375, 246105.703125, 171997.09375, 124691.1015625, 17520.099609375, 244125.59375, 1218.4000244140625, 146239.40625, 173951.203125, 207374.796875, 353598.40625, 172264.5, 126777.3984375, 126932.3984375, 16982.599609375, 190434.5, 210268.296875, 218461.703125, 157848.703125, 28302.099609375, 363280.59375, 159053.09375, 334976.6875, 133228.203125, 223447.203125, 241851.296875, 361372.8125, 310107.3125, 251425.203125, 133764.59375, 198751.0, 164823.296875, 188476.5, 219289.59375, 322193.6875, 295965.09375, 189051.09375]\n",
            "<class 'list'>\n"
          ]
        },
        {
          "output_type": "execute_result",
          "data": {
            "text/plain": [
              "KstestResult(statistic=0.627645336042336, pvalue=0.0, statistic_location=128141.0, statistic_sign=1)"
            ]
          },
          "metadata": {},
          "execution_count": 84
        }
      ],
      "source": [
        "from numpy.random import seed\n",
        "from numpy.random import randn\n",
        "from numpy.random import lognormal\n",
        "from scipy.stats import ks_2samp\n",
        "from scipy import stats\n",
        "\n",
        "d1 = FlowCal.io.FCSData('02-blank-A6-1.fcs')\n",
        "\n",
        "#print(d1.shape)\n",
        "\n",
        "#d1_fl1 = d1[:, ['FL1-H']]\n",
        "#print(type(d1_fl1))\n",
        "#print(dir(d1_fl1))\n",
        "#print(type(d1_fl1.data.tolist()))\n",
        "#print(d1_fl1.data.tolist()[100])\n",
        "\n",
        "\n",
        "#print(type(d1[0]))\n",
        "#print(dir(d1[0]))\n",
        "#print(len(d1[0]))\n",
        "#print(d1[0][0])\n",
        "#d1 = [FlowCal.transform.to_rfi(di) for di in d1]\n",
        "d1_fl1 = d1[:, ['FL1-H']]\n",
        "d1_list = d1_fl1.tolist()\n",
        "print(d1_list[0][0])\n",
        "\n",
        "proper_d1_list = []\n",
        "for i in range(len(d1_list)):\n",
        "    proper_d1_list.append(d1_list[i][0])\n",
        "\n",
        "print(proper_d1_list[:100])\n",
        "print(type(proper_d1_list[:100]))\n",
        "\n",
        "#print(type(d1[0][0]))\n",
        "#print(dir(d1[0][0]))\n",
        "#print(len(d1[0][0]))\n",
        "\n",
        "d2 = FlowCal.io.FCSData('02-blank-A6-2.fcs')\n",
        "\n",
        "#d2 = [FlowCal.transform.to_rfi(di) for di in d2]\n",
        "\n",
        "d2_fl1 = d2[:, ['FL1-H']]\n",
        "d2_list = d2_fl1.tolist()\n",
        "print(d2_list[0][0])\n",
        "\n",
        "proper_d2_list = []\n",
        "for i in range(len(d2_list)):\n",
        "    proper_d2_list.append(d2_list[i][0])\n",
        "\n",
        "print(proper_d2_list[:100])\n",
        "print(type(proper_d2_list[:100]))\n",
        "\n",
        "stats.ks_2samp(proper_d1_list, proper_d2_list)\n"
      ]
    },
    {
      "cell_type": "code",
      "execution_count": 85,
      "id": "3183b136",
      "metadata": {
        "scrolled": true,
        "id": "3183b136",
        "outputId": "9d290786-1de3-41e0-807a-89b6607c7e77",
        "colab": {
          "base_uri": "https://localhost:8080/"
        }
      },
      "outputs": [
        {
          "output_type": "stream",
          "name": "stdout",
          "text": [
            "101248.703125\n",
            "[101248.703125, 86359.203125, 7826.39990234375, 95283.203125, 30599.099609375, 1335.5, 65803.0, 48699.3984375, 84092.0, 22103.80078125, 48510.69921875, 42034.1015625, 102448.703125, 43419.30078125, 19726.400390625, 67099.1015625, 110887.296875, 18116.0, 72640.8984375, 47985.80078125, 36228.3984375, 86202.703125, 76877.6015625, 38252.69921875, 52646.8984375, 512.9000244140625, 90163.8984375, 111289.203125, 11122.400390625, 67546.296875, 94498.203125, 82216.8984375, 89172.296875, 87530.296875, 14931.599609375, 53584.8984375, 31797.400390625, 52420.5, 59243.19921875, 72532.703125, 60819.1015625, 925.0999755859375, 80894.6015625, 110658.796875, 90714.5, 69558.5, 21356.69921875, 60332.0, 60494.19921875, 65493.6015625, 35393.69921875, 82632.796875, 63271.8984375, 116565.5, 11255.2001953125, 23637.19921875, 36587.0, 1516.699951171875, 102396.3984375, 86916.0, 88057.1015625, 39048.3984375, 98478.5, 101169.796875, 912.0, 79438.6015625, 78291.703125, 62026.6015625, 113389.5, 102819.203125, 63203.8984375, 52320.30078125, 84928.1015625, 80054.1015625, 1616.0999755859375, 39427.3984375, 69837.796875, 21587.19921875, 3522.699951171875, 92138.6015625, 28591.69921875, 53220.5, 19197.5, 55529.30078125, 27408.099609375, 67420.703125, 20614.5, 1850.5, 15203.099609375, 74011.8984375, 5576.10009765625, 102103.6015625, 49177.69921875, 34659.69921875, 124083.796875, 107974.8984375, 118292.296875, 53563.8984375, 28345.80078125, 36353.30078125]\n",
            "<class 'list'>\n",
            "KstestResult(statistic=0.08304273153584574, pvalue=1.7811146456788466e-252, statistic_location=77415.1015625, statistic_sign=-1)\n",
            "197579.09375\n",
            "[197579.09375, 222244.09375, 163339.40625, 182503.09375, 126111.203125, 59965.69921875, 241496.203125, 164348.59375, 101022.203125, 176138.703125, 189612.40625, 44290.3984375, 165488.296875, 178632.40625, 124583.203125, 170931.0, 240140.296875, 206706.203125, 59698.69921875, 121554.6015625, 144131.796875, 298522.40625, 155322.796875, 341502.5, 231228.40625, 87571.5, 366403.59375, 32108.599609375, 178168.40625, 164406.296875, 162773.40625, 66971.8984375, 62209.8984375, 182920.703125, 214243.59375, 246711.59375, 1970.4000244140625, 92480.296875, 105460.6015625, 370914.8125, 435.70001220703125, 41746.1015625, 294244.40625, 293553.40625, 239633.90625, 124826.203125, 86807.1015625, 132759.5, 234336.90625, 310716.5, 251440.703125, 127989.8984375, 186681.59375, 1141.0999755859375, 152064.296875, 173718.90625, 140075.203125, 422646.3125, 156169.796875, 335854.40625, 321138.59375, 147515.296875, 196471.296875, 300525.59375, 209818.796875, 228205.09375, 361617.90625, 60916.8984375, 232308.40625, 188013.0, 28296.69921875, 166112.296875, 183416.296875, 132238.90625, 1265.4000244140625, 551.0, 818.0, 171222.296875, 194484.796875, 203638.796875, 227080.90625, 165338.796875, 307931.0, 108540.1015625, 284262.40625, 254799.90625, 229670.296875, 151525.09375, 95339.6015625, 333043.09375, 102780.1015625, 149859.40625, 111159.1015625, 383047.1875, 164325.703125, 4376.2001953125, 101924.6015625, 169566.203125, 395.70001220703125, 186842.703125]\n",
            "<class 'list'>\n",
            "KstestResult(statistic=0.5911894166006723, pvalue=0.0, statistic_location=125524.5, statistic_sign=1)\n",
            "KstestResult(statistic=0.6803151097864284, pvalue=0.0, statistic_location=125136.5, statistic_sign=-1)\n",
            "KstestResult(statistic=0.056585410654830054, pvalue=5.404869666457319e-168, statistic_location=1206.300048828125, statistic_sign=-1)\n",
            "KstestResult(statistic=0.6459610834668383, pvalue=0.0, statistic_location=122144.203125, statistic_sign=1)\n"
          ]
        }
      ],
      "source": [
        "d3 = FlowCal.io.FCSData('02-blank-A6-3.fcs')\n",
        "\n",
        "d3_fl1 = d3[:, ['FL1-H']]\n",
        "d3_list = d3_fl1.tolist()\n",
        "print(d3_list[0][0])\n",
        "\n",
        "proper_d3_list = []\n",
        "for i in range(len(d3_list)):\n",
        "    proper_d3_list.append(d3_list[i][0])\n",
        "\n",
        "print(proper_d3_list[:100])\n",
        "print(type(proper_d3_list[:100]))\n",
        "\n",
        "print(stats.ks_2samp(proper_d1_list, proper_d3_list))\n",
        "\n",
        "\n",
        "\n",
        "d4 = FlowCal.io.FCSData('02-blank-A6-4.fcs')\n",
        "\n",
        "d4_fl1 = d4[:, ['FL1-H']]\n",
        "d4_list = d4_fl1.tolist()\n",
        "print(d4_list[0][0])\n",
        "\n",
        "proper_d4_list = []\n",
        "for i in range(len(d4_list)):\n",
        "    proper_d4_list.append(d4_list[i][0])\n",
        "\n",
        "print(proper_d4_list[:100])\n",
        "print(type(proper_d4_list[:100]))\n",
        "\n",
        "print(stats.ks_2samp(proper_d1_list, proper_d4_list))\n",
        "\n",
        "print(stats.ks_2samp(proper_d2_list, proper_d3_list))\n",
        "print(stats.ks_2samp(proper_d2_list, proper_d4_list))\n",
        "print(stats.ks_2samp(proper_d3_list, proper_d4_list))\n"
      ]
    },
    {
      "cell_type": "code",
      "execution_count": 87,
      "id": "361401f6",
      "metadata": {
        "scrolled": true,
        "id": "361401f6",
        "outputId": "81095c15-50dd-4bd5-dbdd-b204abd5b0bb",
        "colab": {
          "base_uri": "https://localhost:8080/"
        }
      },
      "outputs": [
        {
          "output_type": "stream",
          "name": "stdout",
          "text": [
            "62854.0\n",
            "[62854.0, 185333.296875, 73340.703125, 113520.5, 102104.703125, 15632.7998046875, 91579.296875, 146236.59375, 113463.796875, 105253.3984375, 103522.796875, 124228.6015625, 82172.203125, 435.70001220703125, 88035.8984375, 116966.0, 70147.5, 79265.6015625, 113345.1015625, 91390.5, 94385.6015625, 90191.703125, 85410.0, 578.5999755859375, 53502.0, 2725.300048828125, 93180.703125, 61336.5, 85464.703125, 78200.796875, 87939.296875, 109340.6015625, 152775.796875, 80573.3984375, 52482.80078125, 86934.0, 147133.296875, 127892.703125, 133256.5, 121576.703125, 144480.796875, 92571.296875, 1628.5999755859375, 63783.80078125, 37685.3984375, 120554.796875, 1436.5999755859375, 108876.203125, 100811.703125, 1347.9000244140625, 116534.0, 73315.5, 139793.59375, 88529.1015625, 89886.5, 152049.59375, 77191.703125, 47042.0, 58778.6015625, 54630.8984375, 73554.8984375, 82079.796875, 114613.6015625, 105182.296875, 72578.6015625, 110136.6015625, 60721.8984375, 156984.296875, 1857.5999755859375, 110645.296875, 48075.3984375, 155887.5, 112429.1015625, 127809.3984375, 59665.30078125, 20768.599609375, 159096.703125, 89511.8984375, 76587.296875, 131480.59375, 90801.0, 86014.0, 83025.6015625, 112551.8984375, 35653.1015625, 72204.5, 112971.3984375, 779.9000244140625, 90901.8984375, 35625.19921875, 103196.6015625, 3372.10009765625, 1253.699951171875, 58051.0, 136290.796875, 109137.1015625, 125546.203125, 71659.0, 209712.59375, 426.20001220703125]\n",
            "<class 'list'>\n",
            "98379.0\n",
            "[98379.0, 90873.796875, 10478.2998046875, 99824.703125, 111480.5, 84819.1015625, 94033.3984375, 114221.8984375, 42313.8984375, 99143.3984375, 62876.5, 102548.796875, 170252.0, 93661.3984375, 116104.296875, 92767.6015625, 16564.099609375, 10225.7001953125, 147044.0, 121358.5, 195698.59375, 87062.703125, 113448.203125, 80607.296875, 122251.3984375, 722.5, 156800.0, 103853.5, 168245.5, 3961.39990234375, 1075.300048828125, 121803.703125, 45796.5, 1551.699951171875, 48613.19921875, 102146.203125, 134102.5, 114671.1015625, 79416.3984375, 99460.5, 105778.796875, 107991.796875, 116899.296875, 70569.3984375, 40861.5, 80977.296875, 105706.1015625, 138916.40625, 206743.296875, 137902.5, 1679.5999755859375, 262371.8125, 200796.796875, 124833.3984375, 112255.203125, 171385.203125, 158345.90625, 76144.296875, 161467.796875, 206420.0, 143811.59375, 75122.296875, 84955.6015625, 152335.296875, 177253.0, 136119.40625, 128143.3984375, 66889.3984375, 79060.796875, 167157.59375, 118944.1015625, 134059.0, 135710.296875, 136168.5, 103963.1015625, 118972.296875, 31138.400390625, 98484.3984375, 59829.8984375, 108805.703125, 60860.5, 35038.5, 82724.796875, 190416.40625, 183164.0, 134431.59375, 122553.703125, 97704.8984375, 89540.0, 16705.80078125, 36893.0, 109302.3984375, 122417.203125, 86330.6015625, 606.7000122070312, 66312.203125, 127279.296875, 131513.203125, 451.3999938964844, 93459.0]\n",
            "<class 'list'>\n"
          ]
        },
        {
          "output_type": "execute_result",
          "data": {
            "text/plain": [
              "KstestResult(statistic=0.18429617918045338, pvalue=0.0, statistic_location=113549.8984375, statistic_sign=1)"
            ]
          },
          "metadata": {},
          "execution_count": 87
        }
      ],
      "source": [
        "from numpy.random import seed\n",
        "from numpy.random import randn\n",
        "from numpy.random import lognormal\n",
        "from scipy.stats import ks_2samp\n",
        "from scipy import stats\n",
        "\n",
        "d1 = FlowCal.io.FCSData('02-blank-A7-1.fcs')\n",
        "\n",
        "#print(d1.shape)\n",
        "\n",
        "#d1_fl1 = d1[:, ['FL1-H']]\n",
        "#print(type(d1_fl1))\n",
        "#print(dir(d1_fl1))\n",
        "#print(type(d1_fl1.data.tolist()))\n",
        "#print(d1_fl1.data.tolist()[100])\n",
        "\n",
        "\n",
        "#print(type(d1[0]))\n",
        "#print(dir(d1[0]))\n",
        "#print(len(d1[0]))\n",
        "#print(d1[0][0])\n",
        "#d1 = [FlowCal.transform.to_rfi(di) for di in d1]\n",
        "d1_fl1 = d1[:, ['FL1-H']]\n",
        "d1_list = d1_fl1.tolist()\n",
        "print(d1_list[0][0])\n",
        "\n",
        "proper_d1_list = []\n",
        "for i in range(len(d1_list)):\n",
        "    proper_d1_list.append(d1_list[i][0])\n",
        "\n",
        "print(proper_d1_list[:100])\n",
        "print(type(proper_d1_list[:100]))\n",
        "\n",
        "#print(type(d1[0][0]))\n",
        "#print(dir(d1[0][0]))\n",
        "#print(len(d1[0][0]))\n",
        "\n",
        "d2 = FlowCal.io.FCSData('02-blank-A7-2.fcs')\n",
        "\n",
        "#d2 = [FlowCal.transform.to_rfi(di) for di in d2]\n",
        "\n",
        "d2_fl1 = d2[:, ['FL1-H']]\n",
        "d2_list = d2_fl1.tolist()\n",
        "print(d2_list[0][0])\n",
        "\n",
        "proper_d2_list = []\n",
        "for i in range(len(d2_list)):\n",
        "    proper_d2_list.append(d2_list[i][0])\n",
        "\n",
        "print(proper_d2_list[:100])\n",
        "print(type(proper_d2_list[:100]))\n",
        "\n",
        "stats.ks_2samp(proper_d1_list, proper_d2_list)\n"
      ]
    },
    {
      "cell_type": "code",
      "execution_count": 88,
      "id": "9d497128",
      "metadata": {
        "scrolled": true,
        "id": "9d497128",
        "outputId": "20d37a29-0ab5-494f-c9db-37017ecb0cb8",
        "colab": {
          "base_uri": "https://localhost:8080/"
        }
      },
      "outputs": [
        {
          "output_type": "stream",
          "name": "stdout",
          "text": [
            "85113.703125\n",
            "[85113.703125, 111864.5, 136703.203125, 50128.0, 153308.40625, 48738.80078125, 76105.296875, 140549.5, 44108.0, 141332.296875, 104155.3984375, 69490.703125, 102294.1015625, 223344.203125, 47796.5, 15746.400390625, 153375.203125, 158860.90625, 44230.1015625, 36239.19921875, 87240.203125, 36529.30078125, 91050.3984375, 72557.3984375, 86177.296875, 129285.796875, 75022.1015625, 158885.59375, 56501.80078125, 42952.6015625, 53282.80078125, 39184.5, 125161.796875, 129212.3984375, 104827.203125, 146951.203125, 165632.203125, 17376.400390625, 80922.8984375, 44035.8984375, 110146.8984375, 114354.3984375, 109177.8984375, 206312.40625, 141764.296875, 166127.90625, 111664.796875, 61639.6015625, 143372.40625, 133475.203125, 111301.796875, 59249.1015625, 170725.40625, 81116.0, 65520.0, 147034.796875, 108212.203125, 40402.6015625, 70765.8984375, 26740.30078125, 141663.203125, 76794.0, 5994.7001953125, 39631.19921875, 172271.203125, 102005.1015625, 166457.59375, 122970.0, 112373.296875, 105462.3984375, 131542.296875, 95189.1015625, 152137.5, 17606.80078125, 99588.6015625, 76849.6015625, 100401.6015625, 128242.203125, 272717.3125, 152610.40625, 118037.296875, 15903.0, 146305.296875, 6044.89990234375, 942.0999755859375, 90583.1015625, 214954.203125, 123252.5, 52878.80078125, 50012.0, 13535.5, 449.79998779296875, 150639.203125, 71318.3984375, 83370.3984375, 100178.703125, 173633.203125, 104323.6015625, 37095.0, 22040.5]\n",
            "<class 'list'>\n",
            "KstestResult(statistic=0.11200126562038804, pvalue=0.0, statistic_location=108160.296875, statistic_sign=1)\n",
            "113713.296875\n",
            "[113713.296875, 136737.59375, 58444.0, 87244.0, 158529.0, 98031.203125, 86014.8984375, 755.5, 171967.59375, 111506.796875, 43342.80078125, 43200.6015625, 175713.296875, 73496.5, 966.0999755859375, 7343.39990234375, 120603.703125, 116402.5, 172429.59375, 122575.0, 166477.796875, 73998.6015625, 172860.59375, 34504.19921875, 219751.0, 93919.203125, 91759.0, 112564.8984375, 51530.5, 87741.8984375, 142225.703125, 81040.703125, 69332.6015625, 78657.296875, 109737.6015625, 95892.0, 103476.0, 129025.0, 171839.203125, 143518.90625, 101715.5, 103439.6015625, 85146.796875, 156734.796875, 96440.6015625, 26625.30078125, 1888.5, 69830.1015625, 103703.3984375, 140459.703125, 57826.5, 109477.6015625, 112247.0, 34893.80078125, 99206.6015625, 184636.59375, 66144.203125, 327.0, 120095.203125, 86335.0, 80475.796875, 78124.8984375, 298412.90625, 78586.5, 136349.90625, 153689.703125, 188136.703125, 117452.6015625, 246775.203125, 79648.0, 28853.0, 133639.703125, 93075.796875, 72426.203125, 24845.599609375, 85702.203125, 180682.796875, 104986.5, 153163.5, 254303.40625, 75481.796875, 134513.90625, 128289.0, 98615.203125, 30318.400390625, 91618.703125, 101517.3984375, 81190.3984375, 85937.5, 105549.796875, 137806.203125, 169564.296875, 97871.0, 168149.40625, 74717.796875, 52736.0, 84401.296875, 110578.6015625, 113227.3984375, 18047.099609375]\n",
            "<class 'list'>\n",
            "KstestResult(statistic=0.03282419407532394, pvalue=1.7886892202646492e-37, statistic_location=68488.703125, statistic_sign=1)\n",
            "KstestResult(statistic=0.0747395914641712, pvalue=6.112214955252827e-208, statistic_location=120012.296875, statistic_sign=-1)\n",
            "KstestResult(statistic=0.16503360389749333, pvalue=0.0, statistic_location=112155.203125, statistic_sign=-1)\n",
            "KstestResult(statistic=0.09157141286063375, pvalue=1.4376284444194385e-304, statistic_location=111646.203125, statistic_sign=-1)\n"
          ]
        }
      ],
      "source": [
        "d3 = FlowCal.io.FCSData('02-blank-A7-3.fcs')\n",
        "\n",
        "d3_fl1 = d3[:, ['FL1-H']]\n",
        "d3_list = d3_fl1.tolist()\n",
        "print(d3_list[0][0])\n",
        "\n",
        "proper_d3_list = []\n",
        "for i in range(len(d3_list)):\n",
        "    proper_d3_list.append(d3_list[i][0])\n",
        "\n",
        "print(proper_d3_list[:100])\n",
        "print(type(proper_d3_list[:100]))\n",
        "\n",
        "print(stats.ks_2samp(proper_d1_list, proper_d3_list))\n",
        "\n",
        "\n",
        "\n",
        "d4 = FlowCal.io.FCSData('02-blank-A7-4.fcs')\n",
        "\n",
        "d4_fl1 = d4[:, ['FL1-H']]\n",
        "d4_list = d4_fl1.tolist()\n",
        "print(d4_list[0][0])\n",
        "\n",
        "proper_d4_list = []\n",
        "for i in range(len(d4_list)):\n",
        "    proper_d4_list.append(d4_list[i][0])\n",
        "\n",
        "print(proper_d4_list[:100])\n",
        "print(type(proper_d4_list[:100]))\n",
        "\n",
        "print(stats.ks_2samp(proper_d1_list, proper_d4_list))\n",
        "\n",
        "print(stats.ks_2samp(proper_d2_list, proper_d3_list))\n",
        "print(stats.ks_2samp(proper_d2_list, proper_d4_list))\n",
        "print(stats.ks_2samp(proper_d3_list, proper_d4_list))\n"
      ]
    },
    {
      "cell_type": "code",
      "execution_count": 89,
      "id": "fa2d1ada",
      "metadata": {
        "scrolled": true,
        "id": "fa2d1ada",
        "outputId": "7611658c-1d64-46eb-b817-c41b262c47eb",
        "colab": {
          "base_uri": "https://localhost:8080/"
        }
      },
      "outputs": [
        {
          "output_type": "stream",
          "name": "stdout",
          "text": [
            "35071.69921875\n",
            "[35071.69921875, 8958.400390625, 50866.1015625, 846.7999877929688, 34661.19921875, 31404.69921875, 38560.0, 26318.099609375, 25219.69921875, 53691.1015625, 48494.6015625, 31634.19921875, 32439.099609375, 21339.30078125, 1365.5, 12432.900390625, 44633.3984375, 79343.8984375, 38183.19921875, 40751.69921875, 21454.30078125, 21843.099609375, 23541.099609375, 35404.8984375, 41164.69921875, 29533.30078125, 13045.0, 612.4000244140625, 22776.5, 47962.30078125, 49445.5, 17834.0, 47571.6015625, 98951.0, 15143.0, 34606.30078125, 16641.80078125, 28449.0, 66230.0, 29499.5, 47741.3984375, 2945.300048828125, 21487.099609375, 31767.80078125, 43248.3984375, 44464.0, 40974.3984375, 27799.400390625, 43810.30078125, 40990.19921875, 163002.59375, 43978.8984375, 42932.1015625, 17782.599609375, 89775.203125, 19317.5, 62463.5, 30884.400390625, 30042.900390625, 32396.099609375, 28956.599609375, 44437.5, 7707.10009765625, 36689.30078125, 19591.0, 22266.69921875, 37388.0, 44762.69921875, 20583.19921875, 29219.30078125, 139656.90625, 13151.7001953125, 27554.30078125, 42832.0, 79094.796875, 51390.30078125, 20660.900390625, 57836.80078125, 11524.7001953125, 299.8999938964844, 988.9000244140625, 106947.703125, 92772.3984375, 530.0, 27939.599609375, 43277.19921875, 27476.19921875, 22572.099609375, 64405.19921875, 31708.0, 36108.1015625, 22580.599609375, 29167.400390625, 38632.0, 29640.599609375, 97115.796875, 53539.1015625, 25035.69921875, 11462.2998046875, 11655.2001953125]\n",
            "<class 'list'>\n",
            "561.2000122070312\n",
            "[561.2000122070312, 24174.5, 30642.30078125, 7511.39990234375, 18013.400390625, 35164.5, 21092.30078125, 17581.69921875, 42128.1015625, 43956.3984375, 20440.400390625, 24155.69921875, 33202.69921875, 29211.900390625, 18573.5, 41395.8984375, 39582.19921875, 36721.3984375, 17065.099609375, 39066.5, 4997.39990234375, 8646.099609375, 30423.0, 16190.7998046875, 26221.900390625, 24885.80078125, 13206.2998046875, 30709.5, 39816.80078125, 13447.2998046875, 44427.1015625, 17859.30078125, 37571.80078125, 2558.39990234375, 53702.1015625, 3515.5, 19068.30078125, 123204.5, 17509.69921875, 16429.80078125, 28500.19921875, 12674.0, 31391.400390625, 21155.69921875, 25848.69921875, 44020.0, 23130.5, 26579.900390625, 24659.80078125, 3263.199951171875, 32505.900390625, 13071.2998046875, 15852.2998046875, 14840.0, 29221.0, 1276.5, 3718.199951171875, 40898.1015625, 17737.30078125, 30623.30078125, 35945.8984375, 24153.69921875, 25108.19921875, 50418.6015625, 25041.80078125, 12638.099609375, 35058.8984375, 65536.203125, 25321.900390625, 49039.80078125, 23201.19921875, 10786.0, 23144.5, 38137.69921875, 26346.80078125, 42448.8984375, 24376.5, 6308.0, 27799.5, 28477.900390625, 28491.599609375, 37922.3984375, 21037.900390625, 19581.0, 1759.9000244140625, 55156.8984375, 29130.400390625, 5402.39990234375, 32785.69921875, 43776.3984375, 31320.5, 24082.900390625, 58935.19921875, 19611.80078125, 29330.400390625, 9932.400390625, 43963.1015625, 381.70001220703125, 18352.900390625, 32907.3984375]\n",
            "<class 'list'>\n"
          ]
        },
        {
          "output_type": "execute_result",
          "data": {
            "text/plain": [
              "KstestResult(statistic=0.2740220026719887, pvalue=0.0, statistic_location=38373.19921875, statistic_sign=-1)"
            ]
          },
          "metadata": {},
          "execution_count": 89
        }
      ],
      "source": [
        "from numpy.random import seed\n",
        "from numpy.random import randn\n",
        "from numpy.random import lognormal\n",
        "from scipy.stats import ks_2samp\n",
        "from scipy import stats\n",
        "\n",
        "d1 = FlowCal.io.FCSData('02-blank-A8-1.fcs')\n",
        "\n",
        "#print(d1.shape)\n",
        "\n",
        "#d1_fl1 = d1[:, ['FL1-H']]\n",
        "#print(type(d1_fl1))\n",
        "#print(dir(d1_fl1))\n",
        "#print(type(d1_fl1.data.tolist()))\n",
        "#print(d1_fl1.data.tolist()[100])\n",
        "\n",
        "\n",
        "#print(type(d1[0]))\n",
        "#print(dir(d1[0]))\n",
        "#print(len(d1[0]))\n",
        "#print(d1[0][0])\n",
        "#d1 = [FlowCal.transform.to_rfi(di) for di in d1]\n",
        "d1_fl1 = d1[:, ['FL1-H']]\n",
        "d1_list = d1_fl1.tolist()\n",
        "print(d1_list[0][0])\n",
        "\n",
        "proper_d1_list = []\n",
        "for i in range(len(d1_list)):\n",
        "    proper_d1_list.append(d1_list[i][0])\n",
        "\n",
        "print(proper_d1_list[:100])\n",
        "print(type(proper_d1_list[:100]))\n",
        "\n",
        "#print(type(d1[0][0]))\n",
        "#print(dir(d1[0][0]))\n",
        "#print(len(d1[0][0]))\n",
        "\n",
        "d2 = FlowCal.io.FCSData('02-blank-A8-2.fcs')\n",
        "\n",
        "#d2 = [FlowCal.transform.to_rfi(di) for di in d2]\n",
        "\n",
        "d2_fl1 = d2[:, ['FL1-H']]\n",
        "d2_list = d2_fl1.tolist()\n",
        "print(d2_list[0][0])\n",
        "\n",
        "proper_d2_list = []\n",
        "for i in range(len(d2_list)):\n",
        "    proper_d2_list.append(d2_list[i][0])\n",
        "\n",
        "print(proper_d2_list[:100])\n",
        "print(type(proper_d2_list[:100]))\n",
        "\n",
        "stats.ks_2samp(proper_d1_list, proper_d2_list)\n"
      ]
    },
    {
      "cell_type": "code",
      "execution_count": 90,
      "id": "60367e5c",
      "metadata": {
        "scrolled": true,
        "id": "60367e5c",
        "outputId": "9b9018af-f1bb-466a-b5ec-b8157b994daa",
        "colab": {
          "base_uri": "https://localhost:8080/"
        }
      },
      "outputs": [
        {
          "output_type": "stream",
          "name": "stdout",
          "text": [
            "18148.19921875\n",
            "[18148.19921875, 31070.19921875, 20091.19921875, 20513.5, 24932.599609375, 31876.30078125, 40292.69921875, 42697.1015625, 22653.599609375, 5059.5, 50599.19921875, 42239.69921875, 43751.3984375, 50954.3984375, 28169.5, 29292.900390625, 14069.5, 24053.69921875, 22643.900390625, 13893.5, 7793.5, 1370.9000244140625, 65401.6015625, 11158.2001953125, 19353.80078125, 32428.5, 19069.400390625, 34106.3984375, 35357.8984375, 36654.3984375, 42198.6015625, 29523.80078125, 34921.5, 29302.0, 7898.10009765625, 11300.400390625, 35269.1015625, 21185.0, 57122.5, 50658.8984375, 23941.900390625, 31251.80078125, 34972.3984375, 18300.30078125, 9892.099609375, 30768.5, 9783.7998046875, 23320.69921875, 5605.60009765625, 26955.599609375, 27929.900390625, 50139.8984375, 45917.3984375, 4031.10009765625, 35072.19921875, 28812.0, 22033.5, 34329.3984375, 28473.5, 21297.5, 25154.80078125, 41884.1015625, 3365.5, 26542.0, 3688.89990234375, 25442.099609375, 8976.099609375, 41325.80078125, 26066.19921875, 40733.69921875, 32381.19921875, 22038.099609375, 32723.30078125, 13915.599609375, 18806.900390625, 24497.099609375, 30628.0, 39241.80078125, 8308.7001953125, 33851.19921875, 29116.30078125, 11071.2001953125, 44428.8984375, 27853.19921875, 2611.89990234375, 10428.5, 24908.69921875, 5827.89990234375, 24968.900390625, 22067.30078125, 11743.2998046875, 17039.900390625, 29065.900390625, 1972.199951171875, 25530.19921875, 37111.80078125, 30978.900390625, 34646.69921875, 22920.099609375, 22672.5]\n",
            "<class 'list'>\n",
            "KstestResult(statistic=0.27643716808379837, pvalue=0.0, statistic_location=40080.69921875, statistic_sign=-1)\n",
            "54951.5\n",
            "[54951.5, 1042.4000244140625, 1895.800048828125, 50037.69921875, 92994.703125, 35074.30078125, 57197.6015625, 43177.1015625, 35429.19921875, 346.79998779296875, 54169.69921875, 30008.30078125, 80259.8984375, 48360.5, 56956.3984375, 404.29998779296875, 98973.6015625, 541.9000244140625, 49467.30078125, 82845.8984375, 80118.296875, 46226.0, 46509.6015625, 55906.80078125, 33262.80078125, 55533.69921875, 70703.296875, 525.2000122070312, 72871.5, 79346.3984375, 55615.80078125, 32173.69921875, 53138.69921875, 52528.69921875, 62850.30078125, 1013.5999755859375, 76073.1015625, 41773.19921875, 52786.80078125, 50217.69921875, 37968.30078125, 46259.8984375, 90624.5, 81836.3984375, 56724.30078125, 125869.6015625, 693.9000244140625, 45587.30078125, 75813.8984375, 75142.296875, 36130.0, 4949.60009765625, 48978.80078125, 33190.80078125, 60789.69921875, 18951.30078125, 161597.203125, 772.7000122070312, 78755.5, 57463.6015625, 98686.0, 43378.3984375, 532.0, 87437.703125, 51089.30078125, 69541.5, 49648.19921875, 39919.30078125, 596.5, 608.4000244140625, 359.5, 39354.3984375, 64071.80078125, 50093.69921875, 30018.69921875, 39272.69921875, 54426.30078125, 157877.59375, 281.1000061035156, 55765.19921875, 21482.80078125, 61825.69921875, 58392.30078125, 142627.90625, 59400.5, 74620.3984375, 1348.300048828125, 69725.6015625, 48077.8984375, 81731.296875, 35965.8984375, 34006.30078125, 89634.0, 39661.6015625, 34562.80078125, 126566.796875, 66655.5, 48570.3984375, 53807.80078125, 88461.703125]\n",
            "<class 'list'>\n",
            "KstestResult(statistic=0.1512020107958068, pvalue=0.0, statistic_location=44521.3984375, statistic_sign=1)\n",
            "KstestResult(statistic=0.013436211341563344, pvalue=4.482803030506975e-06, statistic_location=3015.0, statistic_sign=1)\n",
            "KstestResult(statistic=0.4214344276544892, pvalue=0.0, statistic_location=40427.80078125, statistic_sign=1)\n",
            "KstestResult(statistic=0.42501637493833244, pvalue=0.0, statistic_location=40138.19921875, statistic_sign=1)\n"
          ]
        }
      ],
      "source": [
        "d3 = FlowCal.io.FCSData('02-blank-A8-3.fcs')\n",
        "\n",
        "d3_fl1 = d3[:, ['FL1-H']]\n",
        "d3_list = d3_fl1.tolist()\n",
        "print(d3_list[0][0])\n",
        "\n",
        "proper_d3_list = []\n",
        "for i in range(len(d3_list)):\n",
        "    proper_d3_list.append(d3_list[i][0])\n",
        "\n",
        "print(proper_d3_list[:100])\n",
        "print(type(proper_d3_list[:100]))\n",
        "\n",
        "print(stats.ks_2samp(proper_d1_list, proper_d3_list))\n",
        "\n",
        "\n",
        "\n",
        "d4 = FlowCal.io.FCSData('02-blank-A8-4.fcs')\n",
        "\n",
        "d4_fl1 = d4[:, ['FL1-H']]\n",
        "d4_list = d4_fl1.tolist()\n",
        "print(d4_list[0][0])\n",
        "\n",
        "proper_d4_list = []\n",
        "for i in range(len(d4_list)):\n",
        "    proper_d4_list.append(d4_list[i][0])\n",
        "\n",
        "print(proper_d4_list[:100])\n",
        "print(type(proper_d4_list[:100]))\n",
        "\n",
        "print(stats.ks_2samp(proper_d1_list, proper_d4_list))\n",
        "\n",
        "print(stats.ks_2samp(proper_d2_list, proper_d3_list))\n",
        "print(stats.ks_2samp(proper_d2_list, proper_d4_list))\n",
        "print(stats.ks_2samp(proper_d3_list, proper_d4_list))\n"
      ]
    },
    {
      "cell_type": "code",
      "execution_count": 91,
      "id": "5245ac95",
      "metadata": {
        "scrolled": true,
        "id": "5245ac95",
        "outputId": "42291fce-cca6-48c1-84e5-b29ac43e997f",
        "colab": {
          "base_uri": "https://localhost:8080/"
        }
      },
      "outputs": [
        {
          "output_type": "stream",
          "name": "stdout",
          "text": [
            "60349.5\n",
            "[60349.5, 64059.69921875, 63657.19921875, 71207.1015625, 58820.1015625, 99795.796875, 135797.5, 75797.6015625, 59661.8984375, 76694.8984375, 54955.0, 43633.8984375, 99486.8984375, 59519.3984375, 384.8999938964844, 166355.203125, 62831.8984375, 62722.80078125, 265.6000061035156, 165151.09375, 189793.796875, 72146.1015625, 91708.296875, 55898.0, 68729.296875, 241909.09375, 46867.5, 130342.203125, 62589.80078125, 6059.0, 62967.19921875, 6894.89990234375, 71239.1015625, 6497.10009765625, 67200.6015625, 86883.296875, 176156.0, 28897.400390625, 66659.703125, 66177.203125, 139015.09375, 38092.1015625, 1667.800048828125, 48373.5, 97725.6015625, 106605.8984375, 70950.8984375, 65779.0, 60209.8984375, 113766.8984375, 118903.3984375, 58827.19921875, 8223.900390625, 30633.599609375, 59847.1015625, 85513.796875, 71722.1015625, 127156.296875, 57532.80078125, 68522.0, 66337.296875, 79253.1015625, 82547.5, 94774.203125, 90933.796875, 73787.0, 44783.19921875, 1861.699951171875, 89094.8984375, 149619.703125, 139703.09375, 49657.1015625, 91216.6015625, 101867.296875, 242884.0, 70505.3984375, 51302.8984375, 41338.3984375, 58834.0, 76132.0, 420.29998779296875, 32699.599609375, 63211.30078125, 65102.69921875, 142420.59375, 47583.6015625, 60728.8984375, 99855.0, 81994.3984375, 70901.6015625, 42963.3984375, 51716.0, 53891.1015625, 42247.0, 112179.5, 43023.69921875, 81188.296875, 85113.1015625, 46913.3984375, 39928.30078125]\n",
            "<class 'list'>\n",
            "82014.6015625\n",
            "[82014.6015625, 98402.703125, 58143.3984375, 118855.796875, 106938.3984375, 64008.5, 55594.69921875, 59992.69921875, 137837.703125, 109059.296875, 73044.8984375, 127324.0, 53632.30078125, 36836.8984375, 90760.3984375, 101051.8984375, 28150.69921875, 150504.796875, 79491.296875, 72596.0, 16858.099609375, 64703.6015625, 16724.599609375, 98768.203125, 83564.1015625, 1069.199951171875, 23156.80078125, 37848.8984375, 6396.5, 33643.8984375, 6315.10009765625, 94745.796875, 53068.6015625, 72665.203125, 58001.0, 987.0999755859375, 6968.2998046875, 132168.59375, 76215.0, 44062.8984375, 51455.69921875, 162116.90625, 14675.900390625, 98846.703125, 80398.6015625, 61704.80078125, 101236.6015625, 83018.3984375, 112908.6015625, 61173.8984375, 115130.796875, 40687.5, 71246.203125, 157069.09375, 140819.296875, 104151.203125, 39931.1015625, 86237.6015625, 517.7999877929688, 65841.0, 41354.69921875, 116286.703125, 55813.1015625, 132684.203125, 165395.40625, 124159.796875, 11983.7998046875, 89261.8984375, 73995.0, 113023.8984375, 92174.5, 157496.296875, 89522.8984375, 4858.7001953125, 114024.1015625, 149650.90625, 81405.1015625, 169688.703125, 11068.599609375, 72870.703125, 7563.39990234375, 124144.8984375, 172746.40625, 113852.5, 257309.703125, 120779.8984375, 6464.60009765625, 133650.09375, 108783.6015625, 106889.796875, 5508.0, 97720.203125, 78627.0, 143977.59375, 84280.296875, 18048.599609375, 35628.69921875, 103134.8984375, 115016.3984375, 76319.703125]\n",
            "<class 'list'>\n"
          ]
        },
        {
          "output_type": "execute_result",
          "data": {
            "text/plain": [
              "KstestResult(statistic=0.12626620204232775, pvalue=0.0, statistic_location=90149.296875, statistic_sign=1)"
            ]
          },
          "metadata": {},
          "execution_count": 91
        }
      ],
      "source": [
        "from numpy.random import seed\n",
        "from numpy.random import randn\n",
        "from numpy.random import lognormal\n",
        "from scipy.stats import ks_2samp\n",
        "from scipy import stats\n",
        "\n",
        "d1 = FlowCal.io.FCSData('02-blank-A9-1.fcs')\n",
        "\n",
        "#print(d1.shape)\n",
        "\n",
        "#d1_fl1 = d1[:, ['FL1-H']]\n",
        "#print(type(d1_fl1))\n",
        "#print(dir(d1_fl1))\n",
        "#print(type(d1_fl1.data.tolist()))\n",
        "#print(d1_fl1.data.tolist()[100])\n",
        "\n",
        "\n",
        "#print(type(d1[0]))\n",
        "#print(dir(d1[0]))\n",
        "#print(len(d1[0]))\n",
        "#print(d1[0][0])\n",
        "#d1 = [FlowCal.transform.to_rfi(di) for di in d1]\n",
        "d1_fl1 = d1[:, ['FL1-H']]\n",
        "d1_list = d1_fl1.tolist()\n",
        "print(d1_list[0][0])\n",
        "\n",
        "proper_d1_list = []\n",
        "for i in range(len(d1_list)):\n",
        "    proper_d1_list.append(d1_list[i][0])\n",
        "\n",
        "print(proper_d1_list[:100])\n",
        "print(type(proper_d1_list[:100]))\n",
        "\n",
        "#print(type(d1[0][0]))\n",
        "#print(dir(d1[0][0]))\n",
        "#print(len(d1[0][0]))\n",
        "\n",
        "d2 = FlowCal.io.FCSData('02-blank-A9-2.fcs')\n",
        "\n",
        "#d2 = [FlowCal.transform.to_rfi(di) for di in d2]\n",
        "\n",
        "d2_fl1 = d2[:, ['FL1-H']]\n",
        "d2_list = d2_fl1.tolist()\n",
        "print(d2_list[0][0])\n",
        "\n",
        "proper_d2_list = []\n",
        "for i in range(len(d2_list)):\n",
        "    proper_d2_list.append(d2_list[i][0])\n",
        "\n",
        "print(proper_d2_list[:100])\n",
        "print(type(proper_d2_list[:100]))\n",
        "\n",
        "stats.ks_2samp(proper_d1_list, proper_d2_list)\n"
      ]
    },
    {
      "cell_type": "code",
      "execution_count": 94,
      "id": "48b72061",
      "metadata": {
        "scrolled": true,
        "id": "48b72061",
        "outputId": "8a7987d2-c6e7-4cbf-841b-2e25294f7d8c",
        "colab": {
          "base_uri": "https://localhost:8080/"
        }
      },
      "outputs": [
        {
          "output_type": "stream",
          "name": "stdout",
          "text": [
            "28077.900390625\n",
            "[28077.900390625, 54806.80078125, 90304.796875, 92998.703125, 19011.900390625, 77912.0, 77659.203125, 104679.796875, 122154.203125, 175443.703125, 143092.5, 40679.5, 101794.203125, 161603.0, 69204.796875, 62703.0, 80684.296875, 112835.6015625, 167603.203125, 57088.6015625, 100110.3984375, 14476.900390625, 69950.703125, 49668.19921875, 23042.5, 130849.5, 112019.8984375, 105011.203125, 359.29998779296875, 66393.796875, 81892.8984375, 42889.19921875, 64477.5, 124104.296875, 118851.1015625, 1344.699951171875, 100339.0, 125731.6015625, 216111.796875, 98643.3984375, 75416.6015625, 101077.703125, 61912.3984375, 61598.69921875, 54828.0, 96245.296875, 59532.8984375, 161905.703125, 23347.599609375, 22983.599609375, 289799.40625, 48749.30078125, 49999.5, 15325.5, 163774.703125, 150521.90625, 82748.203125, 95981.0, 118700.203125, 161587.5, 85083.0, 142908.0, 1440.699951171875, 117626.6015625, 106266.3984375, 111025.8984375, 82371.1015625, 43564.3984375, 76135.703125, 59879.6015625, 59028.30078125, 31265.400390625, 44648.30078125, 57895.1015625, 53854.5, 97243.703125, 51027.69921875, 4902.7998046875, 99311.6015625, 6953.5, 136048.796875, 35385.1015625, 32283.900390625, 165676.90625, 48792.3984375, 105501.5, 120253.8984375, 104503.8984375, 16141.2998046875, 122092.6015625, 32071.400390625, 116435.3984375, 96461.703125, 78813.1015625, 93097.796875, 74853.1015625, 57127.3984375, 7906.39990234375, 152468.5, 13339.099609375]\n",
            "<class 'list'>\n",
            "KstestResult(statistic=0.5796453501630405, pvalue=0.0, statistic_location=153709.59375, statistic_sign=-1)\n",
            "118261.6015625\n",
            "[118261.6015625, 93616.0, 67283.6015625, 48191.5, 103332.3984375, 101242.203125, 140945.0, 103356.5, 58082.5, 119836.296875, 124078.8984375, 83978.796875, 3636.0, 103724.1015625, 42491.0, 108364.6015625, 107816.1015625, 91184.6015625, 140742.09375, 129999.6015625, 88486.0, 91193.1015625, 83700.203125, 107623.796875, 108094.5, 109217.6015625, 35068.3984375, 339365.59375, 59256.0, 79243.6015625, 111255.5, 70836.3984375, 68410.203125, 203705.0, 65812.5, 126818.5, 103036.296875, 41878.8984375, 143778.796875, 95036.0, 49108.1015625, 82691.0, 65933.6015625, 87296.0, 87075.6015625, 74479.5, 109964.3984375, 94066.203125, 94257.0, 34548.5, 129938.5, 62668.30078125, 86646.8984375, 124866.796875, 95876.0, 98412.1015625, 86739.0, 11108.599609375, 159656.09375, 101048.6015625, 25814.099609375, 22855.599609375, 71926.0, 97401.1015625, 67700.203125, 181887.796875, 93054.5, 62105.6015625, 109772.3984375, 1727.5, 63493.5, 79372.3984375, 115143.6015625, 68041.296875, 98517.5, 9119.2998046875, 72358.6015625, 113353.0, 116701.703125, 122438.1015625, 94528.6015625, 1490.699951171875, 120790.8984375, 157899.296875, 85396.796875, 75584.796875, 62725.6015625, 146040.0, 104803.6015625, 415.5, 101580.3984375, 79370.203125, 116905.0, 72588.5, 52122.5, 57580.30078125, 121398.8984375, 106234.796875, 91756.0, 10532.099609375]\n",
            "<class 'list'>\n",
            "KstestResult(statistic=0.6387620378866716, pvalue=0.0, statistic_location=140435.40625, statistic_sign=-1)\n",
            "KstestResult(statistic=0.6132758864705059, pvalue=0.0, statistic_location=156947.09375, statistic_sign=-1)\n",
            "KstestResult(statistic=0.6663827181715856, pvalue=0.0, statistic_location=141287.90625, statistic_sign=-1)\n",
            "KstestResult(statistic=0.11838218768850939, pvalue=0.0, statistic_location=97452.203125, statistic_sign=-1)\n"
          ]
        }
      ],
      "source": [
        "d3 = FlowCal.io.FCSData('02-blank-A9-3.fcs')\n",
        "\n",
        "d3_fl1 = d3[:, ['FL1-H']]\n",
        "d3_list = d3_fl1.tolist()\n",
        "print(d3_list[0][0])\n",
        "\n",
        "proper_d3_list = []\n",
        "for i in range(len(d3_list)):\n",
        "    proper_d3_list.append(d3_list[i][0])\n",
        "\n",
        "print(proper_d3_list[:100])\n",
        "print(type(proper_d3_list[:100]))\n",
        "\n",
        "print(stats.ks_2samp(proper_d1_list, proper_d3_list))\n",
        "\n",
        "\n",
        "\n",
        "d4 = FlowCal.io.FCSData('02-blank-A9-4.fcs')\n",
        "\n",
        "d4_fl1 = d4[:, ['FL1-H']]\n",
        "d4_list = d4_fl1.tolist()\n",
        "print(d4_list[0][0])\n",
        "\n",
        "proper_d4_list = []\n",
        "for i in range(len(d4_list)):\n",
        "    proper_d4_list.append(d4_list[i][0])\n",
        "\n",
        "print(proper_d4_list[:100])\n",
        "print(type(proper_d4_list[:100]))\n",
        "\n",
        "print(stats.ks_2samp(proper_d1_list, proper_d4_list))\n",
        "\n",
        "print(stats.ks_2samp(proper_d2_list, proper_d3_list))\n",
        "print(stats.ks_2samp(proper_d2_list, proper_d4_list))\n",
        "print(stats.ks_2samp(proper_d3_list, proper_d4_list))\n"
      ]
    },
    {
      "cell_type": "code",
      "execution_count": 95,
      "id": "68f907d4",
      "metadata": {
        "scrolled": true,
        "id": "68f907d4",
        "outputId": "ef814eb4-1f24-4e77-97b8-f84a344ecb9b",
        "colab": {
          "base_uri": "https://localhost:8080/"
        }
      },
      "outputs": [
        {
          "output_type": "stream",
          "name": "stdout",
          "text": [
            "55003.69921875\n",
            "[55003.69921875, 385129.3125, 471841.8125, 107392.796875, 135533.796875, 68773.296875, 58724.1015625, 134524.5, 248175.40625, 164985.203125, 337359.0, 2018.9000244140625, 30781.900390625, 225495.59375, 56939.30078125, 403744.1875, 308464.59375, 285541.90625, 92253.0, 288507.40625, 115501.0, 395045.0, 753281.6875, 58367.0, 232274.5, 122292.0, 208203.703125, 309019.6875, 114862.5, 264698.3125, 88388.0, 243392.90625, 263306.0, 138531.703125, 167110.40625, 477613.59375, 286362.40625, 173969.203125, 160975.5, 290139.6875, 225289.796875, 34271.3984375, 239398.90625, 122931.203125, 153588.296875, 190714.90625, 123068.6015625, 282118.09375, 257073.0, 251525.90625, 101428.203125, 171265.90625, 163770.40625, 2636.60009765625, 5940.7001953125, 88664.796875, 105905.1015625, 150263.59375, 214357.40625, 216912.5, 278021.90625, 502671.8125, 2912.60009765625, 349329.8125, 181661.0, 280086.0, 287599.3125, 7631.10009765625, 9376.599609375, 269015.6875, 75525.296875, 177013.90625, 208385.703125, 314490.6875, 25472.30078125, 453176.6875, 368132.09375, 232490.796875, 357117.90625, 106330.0, 315599.0, 499236.09375, 179835.703125, 561484.0, 253872.203125, 374847.40625, 6348.10009765625, 153873.09375, 364608.40625, 10735.099609375, 295329.40625, 221592.703125, 179294.703125, 241909.5, 578916.5, 174683.40625, 141714.40625, 147809.90625, 194817.40625, 230482.203125]\n",
            "<class 'list'>\n",
            "172334.0\n",
            "[172334.0, 173402.40625, 157157.59375, 147339.5, 145075.796875, 1761.0999755859375, 274350.6875, 286421.1875, 300199.40625, 169947.296875, 116531.5, 264101.0, 410052.09375, 175343.40625, 195471.0, 277748.6875, 162697.703125, 242056.90625, 228216.796875, 39637.69921875, 191044.203125, 2367.199951171875, 262877.09375, 229764.5, 217003.796875, 190213.0, 320179.0, 209851.296875, 289848.1875, 298600.09375, 349880.59375, 204858.59375, 178014.0, 312756.1875, 100372.8984375, 82849.0, 45061.19921875, 177331.90625, 488962.0, 17331.30078125, 190268.296875, 152753.09375, 238060.59375, 851.7000122070312, 598.9000244140625, 183290.40625, 353184.6875, 97753.0, 249154.703125, 72040.0, 101828.1015625, 139630.796875, 58177.80078125, 167225.40625, 224605.59375, 295628.3125, 1830.300048828125, 327346.59375, 95551.5, 160851.0, 388081.90625, 308855.5, 225104.0, 147986.90625, 267196.1875, 242040.0, 207307.5, 184855.59375, 62864.0, 161686.796875, 425073.90625, 95255.6015625, 179676.796875, 208756.203125, 173238.0, 236381.40625, 35695.1015625, 24728.19921875, 235156.5, 26635.0, 110150.5, 94048.1015625, 3475.699951171875, 215479.203125, 324895.90625, 242396.90625, 246216.296875, 600880.3125, 518352.6875, 152690.0, 60020.19921875, 516633.90625, 382111.3125, 453901.59375, 31556.80078125, 2657.300048828125, 228270.703125, 117347.296875, 329916.3125, 190481.40625]\n",
            "<class 'list'>\n"
          ]
        },
        {
          "output_type": "execute_result",
          "data": {
            "text/plain": [
              "KstestResult(statistic=0.03999562504175508, pvalue=5.957186500115556e-107, statistic_location=193693.296875, statistic_sign=1)"
            ]
          },
          "metadata": {},
          "execution_count": 95
        }
      ],
      "source": [
        "from numpy.random import seed\n",
        "from numpy.random import randn\n",
        "from numpy.random import lognormal\n",
        "from scipy.stats import ks_2samp\n",
        "from scipy import stats\n",
        "\n",
        "d1 = FlowCal.io.FCSData('02-blank-A10-1.fcs')\n",
        "\n",
        "#print(d1.shape)\n",
        "\n",
        "#d1_fl1 = d1[:, ['FL1-H']]\n",
        "#print(type(d1_fl1))\n",
        "#print(dir(d1_fl1))\n",
        "#print(type(d1_fl1.data.tolist()))\n",
        "#print(d1_fl1.data.tolist()[100])\n",
        "\n",
        "\n",
        "#print(type(d1[0]))\n",
        "#print(dir(d1[0]))\n",
        "#print(len(d1[0]))\n",
        "#print(d1[0][0])\n",
        "#d1 = [FlowCal.transform.to_rfi(di) for di in d1]\n",
        "d1_fl1 = d1[:, ['FL1-H']]\n",
        "d1_list = d1_fl1.tolist()\n",
        "print(d1_list[0][0])\n",
        "\n",
        "proper_d1_list = []\n",
        "for i in range(len(d1_list)):\n",
        "    proper_d1_list.append(d1_list[i][0])\n",
        "\n",
        "print(proper_d1_list[:100])\n",
        "print(type(proper_d1_list[:100]))\n",
        "\n",
        "#print(type(d1[0][0]))\n",
        "#print(dir(d1[0][0]))\n",
        "#print(len(d1[0][0]))\n",
        "\n",
        "d2 = FlowCal.io.FCSData('02-blank-A10-2.fcs')\n",
        "\n",
        "#d2 = [FlowCal.transform.to_rfi(di) for di in d2]\n",
        "\n",
        "d2_fl1 = d2[:, ['FL1-H']]\n",
        "d2_list = d2_fl1.tolist()\n",
        "print(d2_list[0][0])\n",
        "\n",
        "proper_d2_list = []\n",
        "for i in range(len(d2_list)):\n",
        "    proper_d2_list.append(d2_list[i][0])\n",
        "\n",
        "print(proper_d2_list[:100])\n",
        "print(type(proper_d2_list[:100]))\n",
        "\n",
        "stats.ks_2samp(proper_d1_list, proper_d2_list)\n"
      ]
    },
    {
      "cell_type": "code",
      "execution_count": 98,
      "id": "5ef26e70",
      "metadata": {
        "scrolled": true,
        "id": "5ef26e70",
        "outputId": "c210c0c6-e647-4783-fa6c-ebd6b19faf0f",
        "colab": {
          "base_uri": "https://localhost:8080/"
        }
      },
      "outputs": [
        {
          "output_type": "stream",
          "name": "stdout",
          "text": [
            "306328.59375\n",
            "[306328.59375, 3511.699951171875, 536767.625, 305487.3125, 660332.625, 355199.59375, 354933.1875, 795108.3125, 584940.1875, 922646.1875, 347602.40625, 139398.0, 3998.699951171875, 248327.5, 400947.5, 496262.59375, 3099.199951171875, 976.9000244140625, 400100.6875, 398842.1875, 300581.59375, 94269.1015625, 292667.3125, 473646.90625, 196942.0, 4957.39990234375, 412956.09375, 49787.0, 3716.89990234375, 631171.375, 11063.5, 222229.5, 330347.0, 962298.125, 2765.199951171875, 499007.1875, 292062.59375, 757636.0, 105121.703125, 419897.09375, 288579.8125, 346050.40625, 449367.40625, 230971.90625, 2957.0, 290563.09375, 68173.3984375, 752708.625, 283606.8125, 297049.59375, 464116.6875, 102127.703125, 3137.0, 52568.69921875, 444444.0, 1007788.6875, 1043.9000244140625, 270144.40625, 690823.125, 162184.0, 263130.90625, 314168.8125, 301602.0, 315837.59375, 347444.3125, 287466.6875, 456978.5, 194796.09375, 400629.3125, 578540.0, 219462.90625, 13155.2001953125, 187003.40625, 330359.1875, 5584.60009765625, 268604.40625, 101700.8984375, 205183.09375, 441866.59375, 663943.6875, 403798.0, 432255.5, 709272.3125, 74189.0, 80170.3984375, 294373.8125, 416511.40625, 395342.90625, 363873.09375, 570610.8125, 424626.59375, 723962.8125, 258085.703125, 429249.5, 341966.3125, 295029.09375, 349433.1875, 193157.296875, 255219.296875, 337500.5]\n",
            "<class 'list'>\n",
            "KstestResult(statistic=0.5866369639440288, pvalue=0.0, statistic_location=204831.703125, statistic_sign=1)\n",
            "13203.7998046875\n",
            "[13203.7998046875, 322685.59375, 149492.296875, 2161.199951171875, 417238.09375, 977443.6875, 1460.4000244140625, 311203.40625, 187036.0, 1446.699951171875, 467587.0, 97363.0, 1460.300048828125, 367657.59375, 379520.8125, 166750.796875, 320049.5, 303795.90625, 283334.09375, 339835.90625, 377758.3125, 394133.1875, 295946.1875, 478940.40625, 223043.0, 136025.0, 5307.7998046875, 229622.203125, 737.7999877929688, 552760.875, 321169.3125, 361847.5, 2143.0, 241262.59375, 175781.90625, 368654.1875, 322252.5, 440438.09375, 482127.3125, 3777.5, 245368.09375, 548335.875, 236683.703125, 489221.5, 2608.39990234375, 539111.1875, 418554.3125, 581235.875, 207208.0, 337520.1875, 357700.5, 256162.40625, 287817.1875, 72160.796875, 416431.8125, 1080.199951171875, 249996.796875, 558459.6875, 3504.199951171875, 382348.59375, 57105.8984375, 571600.1875, 610933.1875, 368635.0, 542398.1875, 432383.0, 597807.5, 245720.796875, 430071.5, 195917.296875, 30668.400390625, 1223.4000244140625, 355657.40625, 64378.3984375, 329772.6875, 87108.3984375, 27911.80078125, 354205.40625, 155221.796875, 1410.0999755859375, 383720.40625, 124692.0, 509.6000061035156, 12659.0, 278653.5, 322859.6875, 712903.875, 437334.1875, 417371.1875, 191280.59375, 453252.0, 126556.6015625, 293867.8125, 55632.30078125, 617.0, 858490.125, 268067.40625, 365192.3125, 369966.1875, 544257.1875]\n",
            "<class 'list'>\n",
            "KstestResult(statistic=0.6139856331999223, pvalue=0.0, statistic_location=205759.796875, statistic_sign=1)\n",
            "KstestResult(statistic=0.531350482024703, pvalue=0.0, statistic_location=220492.703125, statistic_sign=1)\n",
            "KstestResult(statistic=0.5606865167900175, pvalue=0.0, statistic_location=228094.09375, statistic_sign=1)\n",
            "KstestResult(statistic=0.07663635014424108, pvalue=0.0, statistic_location=446982.59375, statistic_sign=1)\n"
          ]
        }
      ],
      "source": [
        "d3 = FlowCal.io.FCSData('02-blank-A10-3.fcs')\n",
        "\n",
        "d3_fl1 = d3[:, ['FL1-H']]\n",
        "d3_list = d3_fl1.tolist()\n",
        "print(d3_list[0][0])\n",
        "\n",
        "proper_d3_list = []\n",
        "for i in range(len(d3_list)):\n",
        "    proper_d3_list.append(d3_list[i][0])\n",
        "\n",
        "print(proper_d3_list[:100])\n",
        "print(type(proper_d3_list[:100]))\n",
        "\n",
        "print(stats.ks_2samp(proper_d1_list, proper_d3_list))\n",
        "\n",
        "\n",
        "\n",
        "d4 = FlowCal.io.FCSData('02-blank-A10-4.fcs')\n",
        "\n",
        "d4_fl1 = d4[:, ['FL1-H']]\n",
        "d4_list = d4_fl1.tolist()\n",
        "print(d4_list[0][0])\n",
        "\n",
        "proper_d4_list = []\n",
        "for i in range(len(d4_list)):\n",
        "    proper_d4_list.append(d4_list[i][0])\n",
        "\n",
        "print(proper_d4_list[:100])\n",
        "print(type(proper_d4_list[:100]))\n",
        "\n",
        "print(stats.ks_2samp(proper_d1_list, proper_d4_list))\n",
        "\n",
        "print(stats.ks_2samp(proper_d2_list, proper_d3_list))\n",
        "print(stats.ks_2samp(proper_d2_list, proper_d4_list))\n",
        "print(stats.ks_2samp(proper_d3_list, proper_d4_list))\n"
      ]
    },
    {
      "cell_type": "code",
      "execution_count": 99,
      "id": "8fb14fc7",
      "metadata": {
        "scrolled": true,
        "id": "8fb14fc7",
        "outputId": "44c1bf54-539e-4c25-ef1f-966960fb201e",
        "colab": {
          "base_uri": "https://localhost:8080/"
        }
      },
      "outputs": [
        {
          "output_type": "stream",
          "name": "stdout",
          "text": [
            "58921.80078125\n",
            "[58921.80078125, 75926.8984375, 1165.5999755859375, 56746.6015625, 82279.5, 120998.796875, 34519.6015625, 109878.6015625, 106432.796875, 100451.6015625, 1363.0999755859375, 1068.0, 114265.6015625, 74081.0, 257704.40625, 133113.203125, 120584.8984375, 86733.296875, 52991.69921875, 78895.796875, 111131.8984375, 96340.3984375, 99654.203125, 177099.59375, 61866.3984375, 97663.203125, 99470.8984375, 184682.09375, 65328.19921875, 167701.796875, 113430.296875, 157117.40625, 672.9000244140625, 77398.796875, 96054.5, 42076.30078125, 164196.59375, 130712.1015625, 51866.0, 16985.80078125, 92709.703125, 79199.3984375, 2183.60009765625, 85519.296875, 75631.796875, 48601.3984375, 121009.3984375, 25511.19921875, 74480.8984375, 43314.1015625, 46987.30078125, 43432.19921875, 102441.296875, 118483.296875, 129429.8984375, 32158.5, 1295.5999755859375, 1172.9000244140625, 55766.69921875, 96791.703125, 53774.19921875, 162686.0, 68153.0, 450.8999938964844, 48000.69921875, 86587.1015625, 57926.19921875, 53086.0, 129528.296875, 45051.6015625, 93622.5, 18897.099609375, 2872.0, 98427.296875, 247072.703125, 105758.5, 167584.0, 108802.5, 73525.8984375, 102210.703125, 97842.0, 105416.1015625, 105831.296875, 75758.796875, 60176.19921875, 52214.1015625, 194966.09375, 69267.296875, 115814.203125, 122844.6015625, 144637.0, 33329.5, 76897.3984375, 84070.1015625, 67081.5, 92423.296875, 71670.8984375, 68038.5, 1207.9000244140625, 98600.5]\n",
            "<class 'list'>\n",
            "172654.296875\n",
            "[172654.296875, 211364.90625, 27591.099609375, 39492.3984375, 452.8999938964844, 200817.59375, 78368.203125, 127868.796875, 2343.39990234375, 104115.1015625, 771.9000244140625, 113049.8984375, 587.2999877929688, 122336.0, 76311.1015625, 159085.40625, 75928.0, 93824.296875, 170500.09375, 98493.5, 1180.800048828125, 264958.6875, 85478.3984375, 152709.59375, 173113.0, 122613.796875, 1304.699951171875, 642.2000122070312, 76775.8984375, 131300.5, 96723.296875, 115759.703125, 115081.1015625, 83097.3984375, 155528.703125, 69447.796875, 748.5999755859375, 92439.703125, 148704.203125, 118725.203125, 159801.90625, 103672.296875, 85406.703125, 193137.40625, 206853.09375, 330739.90625, 94267.203125, 587.2999877929688, 234776.296875, 58422.3984375, 6515.10009765625, 46144.3984375, 1241.4000244140625, 197096.09375, 114152.5, 612.2000122070312, 449.6000061035156, 105639.296875, 97230.1015625, 46801.0, 1263.9000244140625, 82216.296875, 180154.703125, 36711.69921875, 228020.0, 56737.3984375, 109199.296875, 89720.6015625, 711.7000122070312, 74541.8984375, 891.0, 140907.203125, 1154.5, 77106.296875, 96246.203125, 62803.80078125, 144209.203125, 29886.599609375, 187145.90625, 666.7000122070312, 810.0, 132338.40625, 134836.40625, 181427.59375, 169617.59375, 147462.703125, 62180.19921875, 119130.1015625, 3203.60009765625, 206258.203125, 96198.6015625, 236610.5, 90856.0, 173453.703125, 50635.3984375, 1129.5999755859375, 77823.5, 112513.3984375, 83883.3984375, 25396.599609375]\n",
            "<class 'list'>\n"
          ]
        },
        {
          "output_type": "execute_result",
          "data": {
            "text/plain": [
              "KstestResult(statistic=0.08840883758614915, pvalue=0.0, statistic_location=142398.796875, statistic_sign=1)"
            ]
          },
          "metadata": {},
          "execution_count": 99
        }
      ],
      "source": [
        "from numpy.random import seed\n",
        "from numpy.random import randn\n",
        "from numpy.random import lognormal\n",
        "from scipy.stats import ks_2samp\n",
        "from scipy import stats\n",
        "\n",
        "d1 = FlowCal.io.FCSData('02-blank-A11-1.fcs')\n",
        "\n",
        "#print(d1.shape)\n",
        "\n",
        "#d1_fl1 = d1[:, ['FL1-H']]\n",
        "#print(type(d1_fl1))\n",
        "#print(dir(d1_fl1))\n",
        "#print(type(d1_fl1.data.tolist()))\n",
        "#print(d1_fl1.data.tolist()[100])\n",
        "\n",
        "\n",
        "#print(type(d1[0]))\n",
        "#print(dir(d1[0]))\n",
        "#print(len(d1[0]))\n",
        "#print(d1[0][0])\n",
        "#d1 = [FlowCal.transform.to_rfi(di) for di in d1]\n",
        "d1_fl1 = d1[:, ['FL1-H']]\n",
        "d1_list = d1_fl1.tolist()\n",
        "print(d1_list[0][0])\n",
        "\n",
        "proper_d1_list = []\n",
        "for i in range(len(d1_list)):\n",
        "    proper_d1_list.append(d1_list[i][0])\n",
        "\n",
        "print(proper_d1_list[:100])\n",
        "print(type(proper_d1_list[:100]))\n",
        "\n",
        "#print(type(d1[0][0]))\n",
        "#print(dir(d1[0][0]))\n",
        "#print(len(d1[0][0]))\n",
        "\n",
        "d2 = FlowCal.io.FCSData('02-blank-A11-2.fcs')\n",
        "\n",
        "#d2 = [FlowCal.transform.to_rfi(di) for di in d2]\n",
        "\n",
        "d2_fl1 = d2[:, ['FL1-H']]\n",
        "d2_list = d2_fl1.tolist()\n",
        "print(d2_list[0][0])\n",
        "\n",
        "proper_d2_list = []\n",
        "for i in range(len(d2_list)):\n",
        "    proper_d2_list.append(d2_list[i][0])\n",
        "\n",
        "print(proper_d2_list[:100])\n",
        "print(type(proper_d2_list[:100]))\n",
        "\n",
        "stats.ks_2samp(proper_d1_list, proper_d2_list)\n"
      ]
    },
    {
      "cell_type": "code",
      "execution_count": 102,
      "id": "fbc27add",
      "metadata": {
        "scrolled": true,
        "id": "fbc27add",
        "outputId": "d1f9bd90-2dbf-4711-95f6-5e8f241279f5",
        "colab": {
          "base_uri": "https://localhost:8080/"
        }
      },
      "outputs": [
        {
          "output_type": "stream",
          "name": "stdout",
          "text": [
            "286462.6875\n",
            "[286462.6875, 2423.699951171875, 137192.296875, 107554.296875, 147841.296875, 101790.3984375, 346218.8125, 104523.5, 125449.0, 273100.40625, 49563.6015625, 105013.296875, 175626.0, 73794.6015625, 203896.40625, 74086.8984375, 137483.296875, 165446.59375, 2274.0, 128959.5, 63193.0, 120487.5, 119388.3984375, 146395.0, 935.0999755859375, 197767.90625, 113054.796875, 248186.40625, 220606.296875, 104482.0, 103717.1015625, 116092.703125, 334841.09375, 127432.296875, 1865.9000244140625, 124438.0, 51778.0, 118563.6015625, 3218.60009765625, 103531.796875, 192801.59375, 73817.5, 515.2999877929688, 174578.296875, 159927.09375, 107266.703125, 107787.1015625, 113654.8984375, 97377.8984375, 66574.5, 127516.6015625, 120314.6015625, 21106.599609375, 347500.09375, 115755.6015625, 79526.0, 104018.203125, 206849.09375, 189793.0, 118144.3984375, 173370.90625, 236164.703125, 81877.6015625, 188546.5, 70628.0, 141084.5, 105344.6015625, 51701.30078125, 139932.59375, 68316.3984375, 249854.0, 314057.40625, 118018.5, 219204.90625, 168015.703125, 155699.09375, 115153.6015625, 72510.203125, 69290.6015625, 1108.0999755859375, 770.0999755859375, 82833.1015625, 81790.1015625, 242606.296875, 46356.3984375, 236283.203125, 61337.30078125, 425.20001220703125, 869.2999877929688, 15010.0, 130942.203125, 6687.7998046875, 467.29998779296875, 82656.796875, 402.3999938964844, 236535.5, 167982.09375, 432649.8125, 153958.09375, 95508.0]\n",
            "<class 'list'>\n",
            "KstestResult(statistic=0.1346915514704108, pvalue=0.0, statistic_location=140834.40625, statistic_sign=1)\n",
            "83629.203125\n",
            "[83629.203125, 62408.1015625, 130341.203125, 165572.5, 168401.40625, 129913.796875, 71998.203125, 84870.703125, 92978.6015625, 851.2000122070312, 96712.703125, 137375.90625, 792.7000122070312, 97227.3984375, 92039.203125, 782.4000244140625, 81567.6015625, 124194.203125, 3693.39990234375, 330326.40625, 124465.796875, 48179.3984375, 100108.796875, 86500.5, 91516.8984375, 90825.1015625, 70875.1015625, 73205.3984375, 383.1000061035156, 65131.19921875, 148745.796875, 1385.800048828125, 120166.703125, 130107.703125, 98589.203125, 440.1000061035156, 108829.203125, 77963.1015625, 174197.5, 120503.1015625, 132134.703125, 176299.203125, 63377.80078125, 134448.203125, 147614.203125, 77827.703125, 64570.6015625, 198857.796875, 137995.203125, 79881.296875, 126720.703125, 135364.796875, 155054.09375, 98837.796875, 101472.703125, 57571.3984375, 4087.199951171875, 62225.69921875, 28761.0, 51798.6015625, 1527.5999755859375, 190250.203125, 119813.3984375, 147966.40625, 161145.796875, 75772.296875, 116895.6015625, 81076.796875, 140764.5, 83669.203125, 191026.90625, 129431.796875, 162019.09375, 134605.40625, 148407.09375, 51480.1015625, 125142.703125, 138515.203125, 168985.796875, 155305.796875, 4664.2001953125, 85574.703125, 193605.90625, 73641.796875, 104891.203125, 122217.296875, 45648.69921875, 294276.8125, 134255.90625, 157056.703125, 130535.203125, 59110.3984375, 130353.703125, 111318.8984375, 148369.0, 71870.6015625, 93578.1015625, 168255.59375, 71421.3984375, 41318.3984375]\n",
            "<class 'list'>\n",
            "KstestResult(statistic=0.13128810548522574, pvalue=0.0, statistic_location=127250.796875, statistic_sign=1)\n",
            "KstestResult(statistic=0.046533668982510434, pvalue=2.5947728527141817e-306, statistic_location=146694.40625, statistic_sign=1)\n",
            "KstestResult(statistic=0.04886284321692047, pvalue=0.0, statistic_location=109459.3984375, statistic_sign=1)\n",
            "KstestResult(statistic=0.019742689376219313, pvalue=4.657094846806432e-63, statistic_location=67954.203125, statistic_sign=1)\n"
          ]
        }
      ],
      "source": [
        "d3 = FlowCal.io.FCSData('02-blank-A11-3.fcs')\n",
        "\n",
        "d3_fl1 = d3[:, ['FL1-H']]\n",
        "d3_list = d3_fl1.tolist()\n",
        "print(d3_list[0][0])\n",
        "\n",
        "proper_d3_list = []\n",
        "for i in range(len(d3_list)):\n",
        "    proper_d3_list.append(d3_list[i][0])\n",
        "\n",
        "print(proper_d3_list[:100])\n",
        "print(type(proper_d3_list[:100]))\n",
        "\n",
        "print(stats.ks_2samp(proper_d1_list, proper_d3_list))\n",
        "\n",
        "\n",
        "\n",
        "d4 = FlowCal.io.FCSData('02-blank-A11-4.fcs')\n",
        "\n",
        "d4_fl1 = d4[:, ['FL1-H']]\n",
        "d4_list = d4_fl1.tolist()\n",
        "print(d4_list[0][0])\n",
        "\n",
        "proper_d4_list = []\n",
        "for i in range(len(d4_list)):\n",
        "    proper_d4_list.append(d4_list[i][0])\n",
        "\n",
        "print(proper_d4_list[:100])\n",
        "print(type(proper_d4_list[:100]))\n",
        "\n",
        "print(stats.ks_2samp(proper_d1_list, proper_d4_list))\n",
        "\n",
        "print(stats.ks_2samp(proper_d2_list, proper_d3_list))\n",
        "print(stats.ks_2samp(proper_d2_list, proper_d4_list))\n",
        "print(stats.ks_2samp(proper_d3_list, proper_d4_list))\n"
      ]
    },
    {
      "cell_type": "code",
      "execution_count": 103,
      "id": "0b41ce9f",
      "metadata": {
        "scrolled": true,
        "id": "0b41ce9f",
        "outputId": "d9d05adf-babf-424c-dcd5-ce4438def9eb",
        "colab": {
          "base_uri": "https://localhost:8080/"
        }
      },
      "outputs": [
        {
          "output_type": "stream",
          "name": "stdout",
          "text": [
            "165999.90625\n",
            "[165999.90625, 13375.5, 338501.8125, 526376.8125, 417625.40625, 253610.09375, 267257.59375, 595644.3125, 126444.8984375, 142708.40625, 153950.296875, 226839.59375, 212905.90625, 447.5, 438810.90625, 147959.0, 335072.6875, 257506.90625, 554400.875, 311.0, 128683.8984375, 427145.0, 918.5, 645324.875, 285681.90625, 221160.40625, 163496.703125, 95527.8984375, 118069.6015625, 572521.375, 305979.40625, 525607.375, 103542.296875, 218161.5, 231653.90625, 405507.1875, 173497.59375, 84933.796875, 425.8999938964844, 196099.5, 102764.203125, 376111.09375, 369398.40625, 124204.796875, 395037.0, 235957.703125, 345.3999938964844, 224414.703125, 151303.40625, 163445.59375, 366640.40625, 161385.59375, 80112.1015625, 50659.30078125, 286.0, 551685.1875, 211257.5, 197432.5, 26774.80078125, 173263.796875, 121097.1015625, 538198.8125, 139787.796875, 149846.796875, 47922.6015625, 11510.7998046875, 123457.8984375, 137521.203125, 167650.703125, 600622.1875, 158778.59375, 185848.703125, 74670.703125, 158921.796875, 117304.3984375, 315187.40625, 34223.80078125, 340302.1875, 451724.3125, 184667.296875, 1539.5, 166599.0, 118347.6015625, 313031.90625, 466455.5, 218693.796875, 206646.40625, 116216.796875, 283833.40625, 214737.59375, 240572.296875, 448196.90625, 652043.6875, 217948.40625, 1903.5999755859375, 328713.90625, 361455.5, 192890.90625, 2359.0, 373194.3125]\n",
            "<class 'list'>\n",
            "152085.203125\n",
            "[152085.203125, 171567.40625, 198557.0, 145213.40625, 307.3999938964844, 289501.8125, 121057.0, 133093.296875, 177772.703125, 229922.703125, 158839.203125, 238287.40625, 234317.09375, 346048.8125, 194334.09375, 306774.1875, 158074.90625, 174428.203125, 68178.5, 242675.0, 166748.203125, 130402.1015625, 54644.19921875, 125425.703125, 246967.203125, 265345.3125, 207412.203125, 245918.796875, 161753.796875, 218173.203125, 159506.796875, 141770.09375, 147103.5, 211057.0, 190505.796875, 129625.6015625, 66703.203125, 226111.5, 256599.40625, 203909.296875, 238973.0, 215612.90625, 265509.8125, 306232.90625, 343242.6875, 71275.203125, 4289.7998046875, 184597.90625, 141198.09375, 181013.09375, 35542.0, 67809.5, 145098.0, 246890.203125, 228405.5, 337319.09375, 298328.0, 165591.796875, 258953.703125, 200145.0, 199391.203125, 191854.796875, 226665.796875, 213178.796875, 192280.203125, 198380.59375, 332159.0, 204297.796875, 194729.59375, 359875.1875, 239310.203125, 70940.8984375, 180285.09375, 219611.296875, 11420.599609375, 202151.203125, 145304.703125, 224819.703125, 278041.5, 219019.90625, 204516.5, 133262.09375, 66031.796875, 293799.8125, 15840.5, 168553.703125, 110600.5, 85227.8984375, 233151.703125, 486.20001220703125, 89636.703125, 214089.09375, 378814.59375, 104094.5, 250682.203125, 1365.4000244140625, 207269.40625, 259186.703125, 33173.30078125, 133688.09375]\n",
            "<class 'list'>\n"
          ]
        },
        {
          "output_type": "execute_result",
          "data": {
            "text/plain": [
              "KstestResult(statistic=0.1894056148551032, pvalue=0.0, statistic_location=294850.6875, statistic_sign=-1)"
            ]
          },
          "metadata": {},
          "execution_count": 103
        }
      ],
      "source": [
        "from numpy.random import seed\n",
        "from numpy.random import randn\n",
        "from numpy.random import lognormal\n",
        "from scipy.stats import ks_2samp\n",
        "from scipy import stats\n",
        "\n",
        "d1 = FlowCal.io.FCSData('02-blank-C2-1.fcs')\n",
        "\n",
        "#print(d1.shape)\n",
        "\n",
        "#d1_fl1 = d1[:, ['FL1-H']]\n",
        "#print(type(d1_fl1))\n",
        "#print(dir(d1_fl1))\n",
        "#print(type(d1_fl1.data.tolist()))\n",
        "#print(d1_fl1.data.tolist()[100])\n",
        "\n",
        "\n",
        "#print(type(d1[0]))\n",
        "#print(dir(d1[0]))\n",
        "#print(len(d1[0]))\n",
        "#print(d1[0][0])\n",
        "#d1 = [FlowCal.transform.to_rfi(di) for di in d1]\n",
        "d1_fl1 = d1[:, ['FL1-H']]\n",
        "d1_list = d1_fl1.tolist()\n",
        "print(d1_list[0][0])\n",
        "\n",
        "proper_d1_list = []\n",
        "for i in range(len(d1_list)):\n",
        "    proper_d1_list.append(d1_list[i][0])\n",
        "\n",
        "print(proper_d1_list[:100])\n",
        "print(type(proper_d1_list[:100]))\n",
        "\n",
        "#print(type(d1[0][0]))\n",
        "#print(dir(d1[0][0]))\n",
        "#print(len(d1[0][0]))\n",
        "\n",
        "d2 = FlowCal.io.FCSData('02-blank-C2-2.fcs')\n",
        "\n",
        "#d2 = [FlowCal.transform.to_rfi(di) for di in d2]\n",
        "\n",
        "d2_fl1 = d2[:, ['FL1-H']]\n",
        "d2_list = d2_fl1.tolist()\n",
        "print(d2_list[0][0])\n",
        "\n",
        "proper_d2_list = []\n",
        "for i in range(len(d2_list)):\n",
        "    proper_d2_list.append(d2_list[i][0])\n",
        "\n",
        "print(proper_d2_list[:100])\n",
        "print(type(proper_d2_list[:100]))\n",
        "\n",
        "stats.ks_2samp(proper_d1_list, proper_d2_list)\n"
      ]
    },
    {
      "cell_type": "code",
      "execution_count": 104,
      "id": "e2a6ce08",
      "metadata": {
        "scrolled": true,
        "id": "e2a6ce08",
        "outputId": "506d703c-4a57-4774-bf64-81205d6fd915",
        "colab": {
          "base_uri": "https://localhost:8080/"
        }
      },
      "outputs": [
        {
          "output_type": "stream",
          "name": "stdout",
          "text": [
            "236744.0\n",
            "[236744.0, 31767.400390625, 249503.59375, 349073.3125, 392715.5, 473.1000061035156, 295433.1875, 194142.09375, 501438.59375, 99463.6015625, 444032.3125, 203684.5, 494700.40625, 5381.7998046875, 265531.09375, 401863.5, 703463.875, 712309.6875, 704270.0, 24819.0, 213997.703125, 189508.40625, 202396.796875, 6678.7001953125, 246971.296875, 456803.3125, 198679.703125, 343874.0, 309618.5, 259608.0, 108320.0, 300896.59375, 289607.40625, 263175.59375, 395329.3125, 262761.1875, 234667.5, 88145.1015625, 209013.796875, 353985.1875, 578958.125, 152062.59375, 234102.40625, 275684.90625, 308477.09375, 128172.203125, 339279.59375, 62400.30078125, 16932.5, 426716.40625, 3944.800048828125, 67653.796875, 271484.90625, 260771.09375, 573951.5, 316559.90625, 3469.699951171875, 169502.0, 1451059.0, 441581.6875, 294204.40625, 590044.125, 401010.3125, 74142.703125, 233291.296875, 165699.296875, 507879.6875, 367616.0, 341480.0, 13304.599609375, 329439.59375, 294865.3125, 211437.203125, 946601.1875, 155955.5, 660441.125, 580365.8125, 469609.1875, 8742.099609375, 11678.599609375, 4854.39990234375, 172804.90625, 105869.1015625, 262228.1875, 345535.59375, 211376.296875, 204948.5, 560052.375, 54248.80078125, 10117.7998046875, 455036.90625, 151259.09375, 234943.5, 403863.90625, 388093.6875, 313222.0, 211267.0, 284693.6875, 460364.40625, 313868.09375]\n",
            "<class 'list'>\n",
            "KstestResult(statistic=0.10167815340789776, pvalue=0.0, statistic_location=266155.6875, statistic_sign=1)\n",
            "468253.90625\n",
            "[468253.90625, 519742.0, 206417.703125, 194404.90625, 279938.0, 58430.3984375, 267038.40625, 201523.90625, 197066.203125, 362019.59375, 194791.0, 189298.5, 476.20001220703125, 102775.296875, 201680.09375, 349774.6875, 16577.19921875, 241034.203125, 184276.0, 211777.296875, 213051.40625, 55528.8984375, 279393.5, 157869.0, 304325.90625, 166350.703125, 362801.3125, 150412.203125, 20251.30078125, 145572.703125, 117047.5, 242654.09375, 258095.40625, 252280.796875, 212288.5, 199758.703125, 137609.703125, 115883.0, 343011.40625, 153172.90625, 177810.203125, 383747.5, 24944.30078125, 173021.09375, 324794.90625, 170969.59375, 178102.0, 219469.203125, 1218.300048828125, 228475.5, 35430.0, 274133.5, 242549.796875, 485321.6875, 425159.5, 98539.8984375, 19600.80078125, 19168.19921875, 247927.0, 340.20001220703125, 75146.203125, 137662.796875, 14921.2998046875, 44453.30078125, 165751.5, 343284.6875, 3039.0, 263687.0, 338.8999938964844, 129804.203125, 370007.3125, 121656.1015625, 273273.3125, 160649.5, 508065.3125, 219444.203125, 262483.3125, 294552.90625, 306999.5, 259718.5, 197270.703125, 157346.09375, 494504.3125, 113161.6015625, 331202.90625, 80871.703125, 372066.3125, 113987.5, 225326.90625, 223043.796875, 348.20001220703125, 208239.203125, 246160.703125, 911543.8125, 118044.1015625, 478666.59375, 187412.703125, 545843.3125, 161913.796875, 98708.8984375]\n",
            "<class 'list'>\n",
            "KstestResult(statistic=0.08694050766213068, pvalue=0.0, statistic_location=407023.59375, statistic_sign=-1)\n",
            "KstestResult(statistic=0.2872071083470198, pvalue=0.0, statistic_location=278107.5, statistic_sign=1)\n",
            "KstestResult(statistic=0.13894207296217254, pvalue=0.0, statistic_location=265910.59375, statistic_sign=1)\n",
            "KstestResult(statistic=0.158280588576306, pvalue=0.0, statistic_location=309797.6875, statistic_sign=-1)\n"
          ]
        }
      ],
      "source": [
        "d3 = FlowCal.io.FCSData('02-blank-C2-3.fcs')\n",
        "\n",
        "d3_fl1 = d3[:, ['FL1-H']]\n",
        "d3_list = d3_fl1.tolist()\n",
        "print(d3_list[0][0])\n",
        "\n",
        "proper_d3_list = []\n",
        "for i in range(len(d3_list)):\n",
        "    proper_d3_list.append(d3_list[i][0])\n",
        "\n",
        "print(proper_d3_list[:100])\n",
        "print(type(proper_d3_list[:100]))\n",
        "\n",
        "print(stats.ks_2samp(proper_d1_list, proper_d3_list))\n",
        "\n",
        "\n",
        "\n",
        "d4 = FlowCal.io.FCSData('02-blank-C2-4.fcs')\n",
        "\n",
        "d4_fl1 = d4[:, ['FL1-H']]\n",
        "d4_list = d4_fl1.tolist()\n",
        "print(d4_list[0][0])\n",
        "\n",
        "proper_d4_list = []\n",
        "for i in range(len(d4_list)):\n",
        "    proper_d4_list.append(d4_list[i][0])\n",
        "\n",
        "print(proper_d4_list[:100])\n",
        "print(type(proper_d4_list[:100]))\n",
        "\n",
        "print(stats.ks_2samp(proper_d1_list, proper_d4_list))\n",
        "\n",
        "print(stats.ks_2samp(proper_d2_list, proper_d3_list))\n",
        "print(stats.ks_2samp(proper_d2_list, proper_d4_list))\n",
        "print(stats.ks_2samp(proper_d3_list, proper_d4_list))\n"
      ]
    },
    {
      "cell_type": "code",
      "execution_count": 105,
      "id": "b36d046f",
      "metadata": {
        "scrolled": true,
        "id": "b36d046f",
        "outputId": "dd60f2c0-8132-4b40-bc53-754c89f41954",
        "colab": {
          "base_uri": "https://localhost:8080/"
        }
      },
      "outputs": [
        {
          "output_type": "stream",
          "name": "stdout",
          "text": [
            "83257.796875\n",
            "[83257.796875, 20833.0, 75760.0, 110706.703125, 1940.5999755859375, 180166.703125, 175697.40625, 21985.599609375, 162278.09375, 153615.90625, 75797.6015625, 141737.59375, 11214.7001953125, 179516.40625, 200710.5, 237050.0, 43011.8984375, 90952.703125, 522.2000122070312, 93292.8984375, 121207.1015625, 61101.69921875, 218807.703125, 67818.203125, 263366.40625, 186267.703125, 62631.0, 110137.796875, 222158.59375, 102290.1015625, 121586.5, 93425.296875, 203684.59375, 91227.296875, 97143.796875, 130945.6015625, 151983.59375, 89334.8984375, 16902.80078125, 145592.703125, 106019.796875, 126444.3984375, 93676.8984375, 97707.3984375, 83751.703125, 131454.296875, 101378.8984375, 119518.796875, 209083.0, 254231.90625, 235601.59375, 318.0, 233880.90625, 110560.5, 115745.796875, 346.79998779296875, 544.0999755859375, 148962.90625, 37151.19921875, 57263.5, 18105.599609375, 119233.703125, 179582.09375, 35859.19921875, 168255.59375, 155797.703125, 118527.6015625, 100819.8984375, 67568.3984375, 1128.9000244140625, 107621.5, 95644.1015625, 80753.796875, 132135.5, 76593.0, 203083.296875, 184017.59375, 73596.6015625, 117164.203125, 168282.0, 137441.40625, 74313.6015625, 157966.09375, 1913.5999755859375, 69550.296875, 206611.0, 93672.8984375, 124110.296875, 98650.0, 45335.30078125, 247102.296875, 165024.703125, 810.2000122070312, 93892.6015625, 87178.203125, 43590.3984375, 5282.89990234375, 65234.30078125, 75710.296875, 119303.796875]\n",
            "<class 'list'>\n",
            "80805.703125\n",
            "[80805.703125, 200783.0, 115674.796875, 128422.5, 217996.0, 77033.5, 21721.69921875, 86838.5, 141462.0, 113201.5, 104387.1015625, 138566.5, 46367.19921875, 98918.8984375, 300997.90625, 11711.400390625, 164223.703125, 180770.5, 167765.09375, 91540.6015625, 201927.796875, 123582.6015625, 290398.6875, 146414.296875, 107311.1015625, 142164.796875, 180656.40625, 30748.900390625, 164936.59375, 187121.09375, 131343.09375, 54442.6015625, 42936.30078125, 155717.703125, 90699.6015625, 244517.40625, 146411.5, 277473.90625, 178223.0, 102185.6015625, 181341.90625, 126448.3984375, 50830.0, 131101.703125, 89174.3984375, 304421.5, 186768.90625, 73023.3984375, 243016.0, 180399.90625, 164179.59375, 10550.599609375, 153473.40625, 347.6000061035156, 116516.703125, 165491.203125, 163593.203125, 159113.0, 136159.5, 12569.900390625, 155881.796875, 189873.09375, 247859.09375, 42262.19921875, 31935.099609375, 163975.203125, 154222.59375, 114269.796875, 116959.8984375, 159097.0, 139521.703125, 143197.703125, 103232.296875, 135369.09375, 140903.0, 118478.203125, 97190.5, 120804.0, 141537.5, 149897.703125, 164883.5, 129729.5, 150883.5, 136212.90625, 145515.796875, 261139.59375, 183147.09375, 86518.5, 141510.90625, 182356.59375, 114349.8984375, 171151.40625, 2498.5, 158194.296875, 314933.09375, 161084.59375, 77935.796875, 172910.59375, 178294.296875, 89279.1015625]\n",
            "<class 'list'>\n"
          ]
        },
        {
          "output_type": "execute_result",
          "data": {
            "text/plain": [
              "KstestResult(statistic=0.10806540935710035, pvalue=0.0, statistic_location=115155.296875, statistic_sign=1)"
            ]
          },
          "metadata": {},
          "execution_count": 105
        }
      ],
      "source": [
        "from numpy.random import seed\n",
        "from numpy.random import randn\n",
        "from numpy.random import lognormal\n",
        "from scipy.stats import ks_2samp\n",
        "from scipy import stats\n",
        "\n",
        "d1 = FlowCal.io.FCSData('02-blank-C3-1.fcs')\n",
        "\n",
        "#print(d1.shape)\n",
        "\n",
        "#d1_fl1 = d1[:, ['FL1-H']]\n",
        "#print(type(d1_fl1))\n",
        "#print(dir(d1_fl1))\n",
        "#print(type(d1_fl1.data.tolist()))\n",
        "#print(d1_fl1.data.tolist()[100])\n",
        "\n",
        "\n",
        "#print(type(d1[0]))\n",
        "#print(dir(d1[0]))\n",
        "#print(len(d1[0]))\n",
        "#print(d1[0][0])\n",
        "#d1 = [FlowCal.transform.to_rfi(di) for di in d1]\n",
        "d1_fl1 = d1[:, ['FL1-H']]\n",
        "d1_list = d1_fl1.tolist()\n",
        "print(d1_list[0][0])\n",
        "\n",
        "proper_d1_list = []\n",
        "for i in range(len(d1_list)):\n",
        "    proper_d1_list.append(d1_list[i][0])\n",
        "\n",
        "print(proper_d1_list[:100])\n",
        "print(type(proper_d1_list[:100]))\n",
        "\n",
        "#print(type(d1[0][0]))\n",
        "#print(dir(d1[0][0]))\n",
        "#print(len(d1[0][0]))\n",
        "\n",
        "d2 = FlowCal.io.FCSData('02-blank-C3-2.fcs')\n",
        "\n",
        "#d2 = [FlowCal.transform.to_rfi(di) for di in d2]\n",
        "\n",
        "d2_fl1 = d2[:, ['FL1-H']]\n",
        "d2_list = d2_fl1.tolist()\n",
        "print(d2_list[0][0])\n",
        "\n",
        "proper_d2_list = []\n",
        "for i in range(len(d2_list)):\n",
        "    proper_d2_list.append(d2_list[i][0])\n",
        "\n",
        "print(proper_d2_list[:100])\n",
        "print(type(proper_d2_list[:100]))\n",
        "\n",
        "stats.ks_2samp(proper_d1_list, proper_d2_list)\n"
      ]
    },
    {
      "cell_type": "code",
      "execution_count": 110,
      "id": "c0d92321",
      "metadata": {
        "scrolled": true,
        "id": "c0d92321",
        "outputId": "9be6e3a5-a5d3-47f4-b1e8-3511dcbc4387",
        "colab": {
          "base_uri": "https://localhost:8080/"
        }
      },
      "outputs": [
        {
          "output_type": "stream",
          "name": "stdout",
          "text": [
            "394718.09375\n",
            "[394718.09375, 24133.599609375, 183145.09375, 150217.296875, 156234.796875, 233896.703125, 412088.09375, 153852.90625, 142256.203125, 243681.90625, 186602.203125, 957.0999755859375, 252682.0, 91576.796875, 197673.796875, 229573.796875, 168322.5, 380639.8125, 214636.59375, 222940.5, 214335.203125, 150243.0, 221555.203125, 157573.40625, 186893.90625, 204030.203125, 192456.09375, 153638.0, 484362.5, 206495.09375, 17410.599609375, 475216.6875, 205765.796875, 227123.296875, 212583.90625, 321376.59375, 89331.203125, 286652.40625, 159525.296875, 1857.300048828125, 629443.8125, 498097.5, 120442.3984375, 590701.0, 205046.90625, 349404.5, 283631.0, 157602.203125, 232819.40625, 276307.6875, 125680.1015625, 234251.5, 30776.0, 200325.5, 298292.1875, 198844.90625, 230002.296875, 199879.296875, 194445.90625, 190168.5, 560545.625, 20431.599609375, 100884.296875, 225334.90625, 11096.400390625, 280204.0, 135841.796875, 342701.90625, 173423.59375, 93646.1015625, 238717.59375, 210484.40625, 167145.09375, 274497.3125, 121186.796875, 143496.703125, 277040.09375, 303012.90625, 432984.1875, 425081.90625, 397562.1875, 62781.1015625, 146962.0, 3536.800048828125, 187633.796875, 591661.8125, 173474.5, 18871.80078125, 44940.6015625, 46692.5, 138883.0, 227611.203125, 128957.3984375, 250678.203125, 518824.09375, 192702.0, 12746.5, 482543.09375, 158520.703125, 129973.796875]\n",
            "<class 'list'>\n",
            "KstestResult(statistic=0.15235613998159753, pvalue=0.0, statistic_location=162250.5, statistic_sign=1)\n",
            "190843.0\n",
            "[190843.0, 174838.59375, 56911.19921875, 42633.19921875, 59097.19921875, 113969.6015625, 105528.5, 256823.0, 122403.296875, 142556.203125, 86152.703125, 104043.6015625, 349702.09375, 163395.59375, 359.5, 34127.80078125, 233747.5, 211589.59375, 69490.8984375, 208702.296875, 132432.703125, 511.1000061035156, 305163.0, 20974.400390625, 193716.59375, 77744.0, 115293.296875, 11504.5, 127012.296875, 98524.0, 99222.0, 117554.203125, 150325.296875, 293698.40625, 163186.203125, 256953.59375, 2023.5, 63653.3984375, 188214.0, 78979.296875, 703009.3125, 69401.1015625, 284421.8125, 148395.296875, 825.5999755859375, 203513.5, 130235.296875, 168137.203125, 102288.1015625, 195809.40625, 54925.80078125, 88342.3984375, 117781.296875, 150743.09375, 206672.0, 48446.8984375, 171101.796875, 133734.5, 10071.0, 429187.1875, 656.7999877929688, 106101.3984375, 203110.09375, 60657.30078125, 41024.69921875, 188003.90625, 127651.8984375, 185611.203125, 244829.296875, 182525.703125, 136528.796875, 184121.59375, 285424.40625, 399297.0, 128341.0, 173777.203125, 113154.8984375, 179884.59375, 88495.0, 11924.7998046875, 111012.8984375, 140434.203125, 92899.796875, 452.29998779296875, 59586.0, 197284.0, 24225.400390625, 181054.5, 146166.5, 202486.59375, 77038.1015625, 18538.400390625, 50124.3984375, 100629.796875, 153450.09375, 142768.09375, 703.2999877929688, 143783.90625, 256168.09375, 213961.09375]\n",
            "<class 'list'>\n",
            "KstestResult(statistic=0.06991734737184926, pvalue=0.0, statistic_location=6486.60009765625, statistic_sign=1)\n",
            "KstestResult(statistic=0.30198308036787014, pvalue=0.0, statistic_location=202815.59375, statistic_sign=1)\n",
            "KstestResult(statistic=0.1407088361603226, pvalue=0.0, statistic_location=200243.0, statistic_sign=1)\n",
            "KstestResult(statistic=0.16203927580666622, pvalue=0.0, statistic_location=205010.5, statistic_sign=-1)\n"
          ]
        }
      ],
      "source": [
        "d3 = FlowCal.io.FCSData('02-blank-C3-3.fcs')\n",
        "\n",
        "d3_fl1 = d3[:, ['FL1-H']]\n",
        "d3_list = d3_fl1.tolist()\n",
        "print(d3_list[0][0])\n",
        "\n",
        "proper_d3_list = []\n",
        "for i in range(len(d3_list)):\n",
        "    proper_d3_list.append(d3_list[i][0])\n",
        "\n",
        "print(proper_d3_list[:100])\n",
        "print(type(proper_d3_list[:100]))\n",
        "\n",
        "print(stats.ks_2samp(proper_d1_list, proper_d3_list))\n",
        "\n",
        "\n",
        "\n",
        "d4 = FlowCal.io.FCSData('02-blank-C3-4.fcs')\n",
        "\n",
        "d4_fl1 = d4[:, ['FL1-H']]\n",
        "d4_list = d4_fl1.tolist()\n",
        "print(d4_list[0][0])\n",
        "\n",
        "proper_d4_list = []\n",
        "for i in range(len(d4_list)):\n",
        "    proper_d4_list.append(d4_list[i][0])\n",
        "\n",
        "print(proper_d4_list[:100])\n",
        "print(type(proper_d4_list[:100]))\n",
        "\n",
        "print(stats.ks_2samp(proper_d1_list, proper_d4_list))\n",
        "\n",
        "print(stats.ks_2samp(proper_d2_list, proper_d3_list))\n",
        "print(stats.ks_2samp(proper_d2_list, proper_d4_list))\n",
        "print(stats.ks_2samp(proper_d3_list, proper_d4_list))\n"
      ]
    },
    {
      "cell_type": "code",
      "execution_count": 152,
      "id": "73fdba48",
      "metadata": {
        "scrolled": true,
        "id": "73fdba48",
        "outputId": "ee904480-9448-4c73-e382-b6658f0dab63",
        "colab": {
          "base_uri": "https://localhost:8080/"
        }
      },
      "outputs": [
        {
          "output_type": "stream",
          "name": "stdout",
          "text": [
            "84671.3984375\n",
            "[84671.3984375, 55325.6015625, 160013.5, 145377.0, 330309.59375, 177742.296875, 129212.703125, 7289.0, 247662.59375, 757.5, 9895.5, 238093.90625, 238304.796875, 51463.1015625, 206551.40625, 157605.59375, 94329.296875, 119663.3984375, 162797.59375, 54861.5, 554470.3125, 44393.30078125, 191676.703125, 32505.0, 303954.09375, 66838.203125, 61890.0, 194595.703125, 235875.90625, 206167.796875, 176918.5, 88293.8984375, 289696.8125, 243543.09375, 184908.59375, 222113.90625, 232851.5, 341940.5, 43240.6015625, 2975.10009765625, 298415.40625, 198885.59375, 260789.5, 130406.296875, 481.29998779296875, 96052.703125, 246369.0, 79554.1015625, 1694.199951171875, 185430.59375, 428157.5, 168322.0, 80939.703125, 28391.400390625, 87643.8984375, 305867.5, 983.7999877929688, 99374.5, 396597.90625, 139976.796875, 468.6000061035156, 8649.900390625, 1251.5, 76004.5, 117055.3984375, 380733.59375, 96310.296875, 260916.703125, 249497.0, 342754.09375, 1350.199951171875, 110494.6015625, 179669.5, 185586.0, 117143.3984375, 132667.90625, 167419.5, 71695.5, 445343.8125, 236790.5, 234136.796875, 174695.09375, 3404.60009765625, 105601.8984375, 163715.5, 110668.5, 496168.59375, 415848.40625, 213943.09375, 124811.203125, 57525.3984375, 226578.09375, 124451.0, 235648.40625, 24516.80078125, 152505.203125, 20167.30078125, 370114.6875, 250313.0, 222798.5]\n",
            "<class 'list'>\n",
            "124354.8984375\n",
            "[124354.8984375, 132310.40625, 826.2999877929688, 164870.203125, 46378.19921875, 116662.6015625, 135541.90625, 169758.5, 1261.5, 313040.3125, 162593.0, 195803.09375, 59306.3984375, 180650.203125, 114246.5, 82033.3984375, 71733.1015625, 163864.09375, 155630.203125, 134204.40625, 64871.69921875, 171533.796875, 143628.796875, 120347.0, 88381.796875, 109593.296875, 138632.59375, 202731.796875, 136020.0, 169193.703125, 206241.703125, 178234.59375, 150763.90625, 76450.8984375, 130661.1015625, 162127.0, 143990.59375, 147341.203125, 258979.59375, 183251.703125, 173791.90625, 5372.0, 137231.703125, 95063.8984375, 3021.10009765625, 139372.5, 163024.90625, 189943.0, 225908.703125, 134037.296875, 164340.0, 206851.796875, 111574.1015625, 120461.3984375, 114759.6015625, 146049.703125, 213432.09375, 134926.203125, 107818.8984375, 245992.703125, 189642.296875, 188757.5, 111270.203125, 28990.599609375, 89450.703125, 212724.59375, 118654.5, 121827.703125, 125533.5, 113343.203125, 185136.5, 331788.40625, 195833.40625, 214459.59375, 724.2999877929688, 119145.1015625, 96422.703125, 135487.59375, 172251.703125, 126921.203125, 230666.90625, 126758.0, 201448.59375, 161729.40625, 205633.703125, 222137.703125, 138906.59375, 113632.8984375, 213812.203125, 176275.796875, 956.2000122070312, 127963.3984375, 163865.203125, 103929.6015625, 173768.296875, 77375.8984375, 94268.796875, 194266.90625, 130402.296875, 129614.296875]\n",
            "<class 'list'>\n"
          ]
        },
        {
          "output_type": "execute_result",
          "data": {
            "text/plain": [
              "KstestResult(statistic=0.1747497846426208, pvalue=0.0, statistic_location=221800.40625, statistic_sign=-1)"
            ]
          },
          "metadata": {},
          "execution_count": 152
        }
      ],
      "source": [
        "from numpy.random import seed\n",
        "from numpy.random import randn\n",
        "from numpy.random import lognormal\n",
        "from scipy.stats import ks_2samp\n",
        "from scipy import stats\n",
        "\n",
        "d1 = FlowCal.io.FCSData('02-blank-C4-1.fcs')\n",
        "\n",
        "#print(d1.shape)\n",
        "\n",
        "#d1_fl1 = d1[:, ['FL1-H']]\n",
        "#print(type(d1_fl1))\n",
        "#print(dir(d1_fl1))\n",
        "#print(type(d1_fl1.data.tolist()))\n",
        "#print(d1_fl1.data.tolist()[100])\n",
        "\n",
        "\n",
        "#print(type(d1[0]))\n",
        "#print(dir(d1[0]))\n",
        "#print(len(d1[0]))\n",
        "#print(d1[0][0])\n",
        "#d1 = [FlowCal.transform.to_rfi(di) for di in d1]\n",
        "d1_fl1 = d1[:, ['FL1-H']]\n",
        "d1_list = d1_fl1.tolist()\n",
        "print(d1_list[0][0])\n",
        "\n",
        "proper_d1_list = []\n",
        "for i in range(len(d1_list)):\n",
        "    proper_d1_list.append(d1_list[i][0])\n",
        "\n",
        "print(proper_d1_list[:100])\n",
        "print(type(proper_d1_list[:100]))\n",
        "\n",
        "#print(type(d1[0][0]))\n",
        "#print(dir(d1[0][0]))\n",
        "#print(len(d1[0][0]))\n",
        "\n",
        "d2 = FlowCal.io.FCSData('02-blank-C4-2.fcs')\n",
        "\n",
        "#d2 = [FlowCal.transform.to_rfi(di) for di in d2]\n",
        "\n",
        "d2_fl1 = d2[:, ['FL1-H']]\n",
        "d2_list = d2_fl1.tolist()\n",
        "print(d2_list[0][0])\n",
        "\n",
        "proper_d2_list = []\n",
        "for i in range(len(d2_list)):\n",
        "    proper_d2_list.append(d2_list[i][0])\n",
        "\n",
        "print(proper_d2_list[:100])\n",
        "print(type(proper_d2_list[:100]))\n",
        "\n",
        "stats.ks_2samp(proper_d1_list, proper_d2_list)\n"
      ]
    },
    {
      "cell_type": "code",
      "execution_count": 153,
      "id": "ffa58378",
      "metadata": {
        "id": "ffa58378",
        "outputId": "bb65606a-1081-4422-b3df-ade8054a6bb5",
        "colab": {
          "base_uri": "https://localhost:8080/"
        }
      },
      "outputs": [
        {
          "output_type": "stream",
          "name": "stdout",
          "text": [
            "100.19999694824219\n",
            "5565694.5\n"
          ]
        }
      ],
      "source": [
        "len(proper_d1_list)\n",
        "print(min(proper_d1_list))\n",
        "print(max(proper_d1_list))"
      ]
    },
    {
      "cell_type": "code",
      "execution_count": 155,
      "id": "b770f9b2",
      "metadata": {
        "scrolled": true,
        "id": "b770f9b2",
        "outputId": "6063d2f2-a489-426f-de8f-2650811c71ee",
        "colab": {
          "base_uri": "https://localhost:8080/",
          "height": 1000
        }
      },
      "outputs": [
        {
          "output_type": "execute_result",
          "data": {
            "text/plain": [
              "(array([3.6943e+04, 1.7862e+04, 3.3990e+04, 3.6774e+04, 3.0031e+04,\n",
              "        2.3443e+04, 1.7679e+04, 1.2264e+04, 8.1010e+03, 4.9720e+03,\n",
              "        3.0460e+03, 1.8280e+03, 1.0440e+03, 6.5700e+02, 4.0000e+02,\n",
              "        2.8000e+02, 1.7200e+02, 1.2800e+02, 6.7000e+01, 6.0000e+01,\n",
              "        4.1000e+01, 1.8000e+01, 1.5000e+01, 1.6000e+01, 6.0000e+00,\n",
              "        3.0000e+00, 8.0000e+00, 1.0000e+00, 1.0000e+00, 2.0000e+00,\n",
              "        3.0000e+00, 0.0000e+00, 1.0000e+00, 3.0000e+00, 0.0000e+00,\n",
              "        0.0000e+00, 0.0000e+00, 0.0000e+00, 0.0000e+00, 0.0000e+00,\n",
              "        2.0000e+00, 0.0000e+00, 1.0000e+00, 0.0000e+00, 1.0000e+00,\n",
              "        0.0000e+00, 0.0000e+00, 0.0000e+00, 1.0000e+00, 0.0000e+00,\n",
              "        0.0000e+00, 0.0000e+00, 0.0000e+00, 0.0000e+00, 1.0000e+00,\n",
              "        0.0000e+00, 1.0000e+00, 0.0000e+00, 0.0000e+00, 0.0000e+00,\n",
              "        0.0000e+00, 0.0000e+00, 0.0000e+00, 0.0000e+00, 0.0000e+00,\n",
              "        0.0000e+00, 0.0000e+00, 0.0000e+00, 0.0000e+00, 0.0000e+00,\n",
              "        0.0000e+00, 0.0000e+00, 0.0000e+00, 0.0000e+00, 0.0000e+00,\n",
              "        0.0000e+00, 0.0000e+00, 0.0000e+00, 0.0000e+00, 0.0000e+00,\n",
              "        0.0000e+00, 0.0000e+00, 0.0000e+00, 0.0000e+00, 0.0000e+00,\n",
              "        0.0000e+00, 0.0000e+00, 0.0000e+00, 0.0000e+00, 0.0000e+00,\n",
              "        0.0000e+00, 0.0000e+00, 0.0000e+00, 0.0000e+00, 0.0000e+00,\n",
              "        0.0000e+00, 0.0000e+00, 0.0000e+00, 0.0000e+00, 0.0000e+00,\n",
              "        0.0000e+00, 0.0000e+00, 0.0000e+00, 0.0000e+00, 0.0000e+00,\n",
              "        0.0000e+00, 0.0000e+00, 0.0000e+00, 0.0000e+00, 0.0000e+00,\n",
              "        0.0000e+00, 0.0000e+00, 0.0000e+00, 0.0000e+00, 0.0000e+00,\n",
              "        0.0000e+00, 0.0000e+00, 0.0000e+00, 0.0000e+00, 0.0000e+00,\n",
              "        0.0000e+00, 0.0000e+00, 0.0000e+00, 0.0000e+00, 0.0000e+00,\n",
              "        0.0000e+00, 0.0000e+00, 1.0000e+00]),\n",
              " array([1.00199997e+02, 4.35814055e+04, 8.70626109e+04, 1.30543816e+05,\n",
              "        1.74025022e+05, 2.17506227e+05, 2.60987433e+05, 3.04468638e+05,\n",
              "        3.47949844e+05, 3.91431049e+05, 4.34912255e+05, 4.78393460e+05,\n",
              "        5.21874666e+05, 5.65355871e+05, 6.08837077e+05, 6.52318282e+05,\n",
              "        6.95799487e+05, 7.39280693e+05, 7.82761898e+05, 8.26243104e+05,\n",
              "        8.69724309e+05, 9.13205515e+05, 9.56686720e+05, 1.00016793e+06,\n",
              "        1.04364913e+06, 1.08713034e+06, 1.13061154e+06, 1.17409275e+06,\n",
              "        1.21757395e+06, 1.26105516e+06, 1.30453636e+06, 1.34801757e+06,\n",
              "        1.39149877e+06, 1.43497998e+06, 1.47846119e+06, 1.52194239e+06,\n",
              "        1.56542360e+06, 1.60890480e+06, 1.65238601e+06, 1.69586721e+06,\n",
              "        1.73934842e+06, 1.78282962e+06, 1.82631083e+06, 1.86979204e+06,\n",
              "        1.91327324e+06, 1.95675445e+06, 2.00023565e+06, 2.04371686e+06,\n",
              "        2.08719806e+06, 2.13067927e+06, 2.17416047e+06, 2.21764168e+06,\n",
              "        2.26112288e+06, 2.30460409e+06, 2.34808530e+06, 2.39156650e+06,\n",
              "        2.43504771e+06, 2.47852891e+06, 2.52201012e+06, 2.56549132e+06,\n",
              "        2.60897253e+06, 2.65245373e+06, 2.69593494e+06, 2.73941614e+06,\n",
              "        2.78289735e+06, 2.82637856e+06, 2.86985976e+06, 2.91334097e+06,\n",
              "        2.95682217e+06, 3.00030338e+06, 3.04378458e+06, 3.08726579e+06,\n",
              "        3.13074699e+06, 3.17422820e+06, 3.21770940e+06, 3.26119061e+06,\n",
              "        3.30467182e+06, 3.34815302e+06, 3.39163423e+06, 3.43511543e+06,\n",
              "        3.47859664e+06, 3.52207784e+06, 3.56555905e+06, 3.60904025e+06,\n",
              "        3.65252146e+06, 3.69600266e+06, 3.73948387e+06, 3.78296508e+06,\n",
              "        3.82644628e+06, 3.86992749e+06, 3.91340869e+06, 3.95688990e+06,\n",
              "        4.00037110e+06, 4.04385231e+06, 4.08733351e+06, 4.13081472e+06,\n",
              "        4.17429592e+06, 4.21777713e+06, 4.26125834e+06, 4.30473954e+06,\n",
              "        4.34822075e+06, 4.39170195e+06, 4.43518316e+06, 4.47866436e+06,\n",
              "        4.52214557e+06, 4.56562677e+06, 4.60910798e+06, 4.65258919e+06,\n",
              "        4.69607039e+06, 4.73955160e+06, 4.78303280e+06, 4.82651401e+06,\n",
              "        4.86999521e+06, 4.91347642e+06, 4.95695762e+06, 5.00043883e+06,\n",
              "        5.04392003e+06, 5.08740124e+06, 5.13088245e+06, 5.17436365e+06,\n",
              "        5.21784486e+06, 5.26132606e+06, 5.30480727e+06, 5.34828847e+06,\n",
              "        5.39176968e+06, 5.43525088e+06, 5.47873209e+06, 5.52221329e+06,\n",
              "        5.56569450e+06]),\n",
              " <BarContainer object of 128 artists>)"
            ]
          },
          "metadata": {},
          "execution_count": 155
        },
        {
          "output_type": "display_data",
          "data": {
            "text/plain": [
              "<Figure size 640x480 with 1 Axes>"
            ],
            "image/png": "[encoded data removed]"
          },
          "metadata": {}
        }
      ],
      "source": [
        "plt.hist(proper_d1_list,  bins=128)"
      ]
    },
    {
      "cell_type": "code",
      "execution_count": 156,
      "id": "4670769b",
      "metadata": {
        "id": "4670769b",
        "outputId": "4d0b14c0-79c3-4c5d-81f9-e8dda0ff099c",
        "colab": {
          "base_uri": "https://localhost:8080/",
          "height": 454
        }
      },
      "outputs": [
        {
          "output_type": "display_data",
          "data": {
            "text/plain": [
              "<Figure size 640x480 with 1 Axes>"
            ],
            "image/png": "[encoded data removed]"
          },
          "metadata": {}
        }
      ],
      "source": [
        "FlowCal.plot.hist1d(d1, channel='FL1-H', alpha=0.7, bins=128)"
      ]
    },
    {
      "cell_type": "code",
      "execution_count": 162,
      "id": "7021b973",
      "metadata": {
        "scrolled": true,
        "id": "7021b973",
        "outputId": "0ae77cec-50d7-4506-8da2-8f986b5562b6",
        "colab": {
          "base_uri": "https://localhost:8080/"
        }
      },
      "outputs": [
        {
          "output_type": "stream",
          "name": "stdout",
          "text": [
            "56588.30078125\n",
            "[56588.30078125, 181867.203125, 34720.19921875, 3074.800048828125, 7340.2998046875, 65783.3984375, 137855.0, 926.4000244140625, 354762.59375, 90182.0, 86396.1015625, 180506.203125, 373523.3125, 121650.0, 39579.30078125, 509.70001220703125, 3668.60009765625, 285736.3125, 309787.59375, 287974.3125, 3802.300048828125, 279875.3125, 3244.300048828125, 77994.703125, 53884.3984375, 84001.796875, 4044.39990234375, 305009.1875, 113849.0, 437649.90625, 341534.8125, 292744.1875, 45190.69921875, 245026.0, 428176.40625, 5159.89990234375, 364772.59375, 47516.8984375, 143590.0, 100152.5, 457964.09375, 213984.59375, 220305.40625, 58585.19921875, 24866.5, 128195.3984375, 231788.90625, 211851.09375, 18280.900390625, 219729.40625, 935.7000122070312, 453724.3125, 8002.7998046875, 2155.0, 146223.40625, 11735.0, 146638.40625, 487130.59375, 256604.09375, 114954.203125, 135586.0, 249451.296875, 407189.6875, 358524.59375, 245176.296875, 85521.1015625, 224469.5, 161124.90625, 44675.6015625, 160758.296875, 147594.296875, 232739.296875, 274196.3125, 284373.0, 520562.6875, 247212.40625, 13169.7998046875, 41332.3984375, 113129.203125, 217465.0, 282889.90625, 365258.0, 62025.8984375, 28888.400390625, 143452.59375, 87774.0, 103144.5, 358580.09375, 504952.59375, 387.20001220703125, 199761.40625, 94169.203125, 73188.1015625, 194490.5, 399852.90625, 794379.625, 48643.1015625, 508696.90625, 398241.40625, 349975.6875]\n",
            "<class 'list'>\n",
            "KstestResult(statistic=0.11253125471464609, pvalue=0.0, statistic_location=204992.703125, statistic_sign=1)\n",
            "276410.40625\n",
            "[276410.40625, 10017.7001953125, 162329.703125, 261360.90625, 471893.40625, 180954.296875, 159028.703125, 128528.5, 110413.8984375, 419133.09375, 124510.6015625, 654317.125, 273727.40625, 122118.796875, 243877.40625, 105969.5, 175431.40625, 8228.400390625, 126804.1015625, 22026.69921875, 297118.09375, 271913.3125, 238998.09375, 281647.90625, 44334.80078125, 268531.3125, 181411.703125, 213879.09375, 46314.19921875, 122391.5, 157609.5, 185916.296875, 148345.203125, 491829.90625, 243201.59375, 133634.0, 203730.5, 89418.203125, 203694.90625, 16954.5, 686.0, 297686.8125, 223258.09375, 319674.90625, 259983.5, 279576.1875, 513496.40625, 151675.703125, 16279.7001953125, 165563.703125, 572524.1875, 182346.90625, 212994.703125, 200218.796875, 147762.203125, 65827.5, 138376.5, 59682.69921875, 192101.5, 353861.5, 157378.703125, 246323.296875, 118968.6015625, 66153.3984375, 35152.6015625, 72303.296875, 14247.0, 123478.3984375, 287750.40625, 452705.90625, 151480.203125, 157488.90625, 310438.5, 214303.09375, 433314.09375, 192080.5, 8059.10009765625, 119568.6015625, 304182.0, 52487.6015625, 2652.39990234375, 121987.203125, 31367.19921875, 116077.8984375, 33731.6015625, 405.79998779296875, 225306.5, 165375.5, 159505.296875, 18054.900390625, 43300.69921875, 38351.8984375, 74328.1015625, 79091.796875, 338463.8125, 150879.90625, 25338.5, 200829.09375, 36435.69921875, 466617.1875]\n",
            "<class 'list'>\n",
            "KstestResult(statistic=0.061162243863838346, pvalue=4.510827728438435e-273, statistic_location=4839.2001953125, statistic_sign=1)\n",
            "KstestResult(statistic=0.28530302584727796, pvalue=0.0, statistic_location=221641.203125, statistic_sign=1)\n",
            "KstestResult(statistic=0.20326528970101454, pvalue=0.0, statistic_location=212575.296875, statistic_sign=1)\n",
            "KstestResult(statistic=0.08274896174727198, pvalue=0.0, statistic_location=228988.5, statistic_sign=-1)\n"
          ]
        }
      ],
      "source": [
        "d3 = FlowCal.io.FCSData('02-blank-C4-3.fcs')\n",
        "\n",
        "d3_fl1 = d3[:, ['FL1-H']]\n",
        "d3_list = d3_fl1.tolist()\n",
        "print(d3_list[0][0])\n",
        "\n",
        "proper_d3_list = []\n",
        "for i in range(len(d3_list)):\n",
        "    proper_d3_list.append(d3_list[i][0])\n",
        "\n",
        "print(proper_d3_list[:100])\n",
        "print(type(proper_d3_list[:100]))\n",
        "\n",
        "print(stats.ks_2samp(proper_d1_list, proper_d3_list))\n",
        "\n",
        "\n",
        "\n",
        "d4 = FlowCal.io.FCSData('02-blank-C4-4.fcs')\n",
        "\n",
        "d4_fl1 = d4[:, ['FL1-H']]\n",
        "d4_list = d4_fl1.tolist()\n",
        "print(d4_list[0][0])\n",
        "\n",
        "proper_d4_list = []\n",
        "for i in range(len(d4_list)):\n",
        "    proper_d4_list.append(d4_list[i][0])\n",
        "\n",
        "print(proper_d4_list[:100])\n",
        "print(type(proper_d4_list[:100]))\n",
        "\n",
        "print(stats.ks_2samp(proper_d1_list, proper_d4_list))\n",
        "\n",
        "print(stats.ks_2samp(proper_d2_list, proper_d3_list))\n",
        "print(stats.ks_2samp(proper_d2_list, proper_d4_list))\n",
        "print(stats.ks_2samp(proper_d3_list, proper_d4_list))\n"
      ]
    },
    {
      "cell_type": "code",
      "source": [],
      "metadata": {
        "id": "S3TfB2Va2vpZ"
      },
      "id": "S3TfB2Va2vpZ",
      "execution_count": null,
      "outputs": []
    },
    {
      "cell_type": "code",
      "source": [],
      "metadata": {
        "id": "D2eRSrkh2vzy"
      },
      "id": "D2eRSrkh2vzy",
      "execution_count": null,
      "outputs": []
    },
    {
      "cell_type": "code",
      "source": [],
      "metadata": {
        "id": "sxddIPnR2v60"
      },
      "id": "sxddIPnR2v60",
      "execution_count": null,
      "outputs": []
    },
    {
      "cell_type": "code",
      "execution_count": null,
      "id": "bde162dc",
      "metadata": {
        "id": "bde162dc",
        "outputId": "aad529f4-7251-4756-a929-27f8e2215ffe"
      },
      "outputs": [
        {
          "data": {
            "text/plain": [
              "Text(0.5, 1.0, 'Cumulative Distribution Function (CDF) of FITC data')"
            ]
          },
          "execution_count": 11,
          "metadata": {},
          "output_type": "execute_result"
        },
        {
          "data": {
            "image/png": "[encoded data removed]",
            "text/plain": [
              "<Figure size 432x288 with 1 Axes>"
            ]
          },
          "metadata": {
            "needs_background": "light"
          },
          "output_type": "display_data"
        }
      ],
      "source": [
        "D= pd.DataFrame (proper_d1_list, columns = ['Data'])\n",
        "data = D[\"Data\"]\n",
        "\n",
        "sorted_data = np.sort(data)\n",
        "cumulative_data = np.cumsum(sorted_data) / np.sum(sorted_data)\n",
        "\n",
        "import matplotlib.pyplot as plt\n",
        "\n",
        "plt.plot(sorted_data, cumulative_data)\n",
        "\n",
        "\n",
        "\n",
        "D2= pd.DataFrame (proper_d2_list, columns = ['Data'])\n",
        "data2 = D2[\"Data\"]\n",
        "\n",
        "sorted_data2 = np.sort(data2)\n",
        "cumulative_data2 = np.cumsum(sorted_data2) / np.sum(sorted_data2)\n",
        "\n",
        "import matplotlib.pyplot as plt\n",
        "\n",
        "plt.plot(sorted_data2, cumulative_data2)\n",
        "\n",
        "\n",
        "\n",
        "D3= pd.DataFrame (proper_d3_list, columns = ['Data'])\n",
        "data3 = D3[\"Data\"]\n",
        "\n",
        "sorted_data3 = np.sort(data3)\n",
        "cumulative_data3 = np.cumsum(sorted_data3) / np.sum(sorted_data3)\n",
        "\n",
        "import matplotlib.pyplot as plt\n",
        "\n",
        "plt.plot(sorted_data3, cumulative_data3)\n",
        "\n",
        "\n",
        "\n",
        "\n",
        "D4= pd.DataFrame (proper_d4_list, columns = ['Data'])\n",
        "data4 = D4[\"Data\"]\n",
        "\n",
        "sorted_data4 = np.sort(data4)\n",
        "cumulative_data4 = np.cumsum(sorted_data4) / np.sum(sorted_data4)\n",
        "\n",
        "import matplotlib.pyplot as plt\n",
        "\n",
        "plt.plot(sorted_data4, cumulative_data4)\n",
        "\n",
        "\n",
        "plt.xlabel(\"FITC data\")\n",
        "plt.ylabel(\"Cumulative Proportion\")\n",
        "plt.title(\"Cumulative Distribution Function (CDF) of FITC data\")\n"
      ]
    },
    {
      "cell_type": "code",
      "execution_count": null,
      "id": "70e50e5b",
      "metadata": {
        "id": "70e50e5b",
        "outputId": "c99d2821-b602-4aa2-cd74-c71b857992a2"
      },
      "outputs": [
        {
          "name": "stdout",
          "output_type": "stream",
          "text": [
            "0.12469156044417051\n",
            "(array([4.00000006e-01, 4.00000006e-01, 6.00000024e-01, ...,\n",
            "       2.36814025e+06, 2.46373075e+06, 5.56569450e+06]), array([2.06277860e-06, 4.12555721e-06, 6.18833581e-06, ...,\n",
            "       9.99995874e-01, 9.99997937e-01, 1.00000000e+00]))\n",
            "(array([1.00000001e-01, 6.00000024e-01, 1.50000000e+00, ...,\n",
            "       1.09485025e+06, 1.15416175e+06, 2.30869900e+06]), array([2.44025642e-06, 4.88051284e-06, 7.32076927e-06, ...,\n",
            "       9.99995119e-01, 9.99997560e-01, 1.00000000e+00]))\n"
          ]
        }
      ],
      "source": [
        "from numpy.random import seed\n",
        "from numpy.random import randn\n",
        "from numpy.random import lognormal\n",
        "import scipy\n",
        "from scipy.stats import ks_2samp\n",
        "from scipy import stats\n",
        "import scipy.integrate\n",
        "\n",
        "n1 = sorted_data.shape[0]\n",
        "n2 = sorted_data2.shape[0]\n",
        "data_all = np.concatenate([sorted_data, sorted_data2])\n",
        "cdf1 = np.searchsorted(sorted_data, data_all, side='right') / n1\n",
        "cdf2 = np.searchsorted(sorted_data2, data_all, side='right') / n2\n",
        "d = np.max(np.absolute(cdf1 - cdf2))\n",
        "print(d)\n",
        "\n",
        "def ecdf(data):\n",
        "    \"\"\" Compute ECDF \"\"\"\n",
        "    x = np.sort(data)\n",
        "    n = x.size\n",
        "    y = np.arange(1, n+1) / n\n",
        "    return(x,y)\n",
        "\n",
        "print(ecdf(data))\n",
        "print(ecdf(data2))\n"
      ]
    },
    {
      "cell_type": "code",
      "execution_count": null,
      "id": "7afeb120",
      "metadata": {
        "id": "7afeb120",
        "outputId": "674e766e-7679-49ae-e382-e22fab65dee3"
      },
      "outputs": [
        {
          "name": "stdout",
          "output_type": "stream",
          "text": [
            "<class 'numpy.ndarray'>\n",
            "<class 'numpy.ndarray'>\n"
          ]
        }
      ],
      "source": [
        "print(type(cdf1))\n",
        "print(type(np. asarray(ecdf(data))))\n"
      ]
    },
    {
      "cell_type": "code",
      "execution_count": null,
      "id": "264e65d7",
      "metadata": {
        "id": "264e65d7",
        "outputId": "1352a09a-40b1-4446-fd11-98356dee3616"
      },
      "outputs": [
        {
          "ename": "ValueError",
          "evalue": "operands could not be broadcast together with shapes (2,484783) (2,409793) ",
          "output_type": "error",
          "traceback": [
            "\u001b[0;31m---------------------------------------------------------------------------\u001b[0m",
            "\u001b[0;31mValueError\u001b[0m                                Traceback (most recent call last)",
            "\u001b[0;32m<ipython-input-52-d1abf87e6140>\u001b[0m in \u001b[0;36m<module>\u001b[0;34m\u001b[0m\n\u001b[0;32m----> 1\u001b[0;31m \u001b[0mabs\u001b[0m\u001b[0;34m(\u001b[0m\u001b[0mnp\u001b[0m\u001b[0;34m.\u001b[0m\u001b[0msubtract\u001b[0m\u001b[0;34m(\u001b[0m\u001b[0mnp\u001b[0m\u001b[0;34m.\u001b[0m \u001b[0masarray\u001b[0m\u001b[0;34m(\u001b[0m\u001b[0mecdf\u001b[0m\u001b[0;34m(\u001b[0m\u001b[0mdata\u001b[0m\u001b[0;34m)\u001b[0m\u001b[0;34m)\u001b[0m\u001b[0;34m,\u001b[0m \u001b[0mnp\u001b[0m\u001b[0;34m.\u001b[0m \u001b[0masarray\u001b[0m\u001b[0;34m(\u001b[0m\u001b[0mecdf\u001b[0m\u001b[0;34m(\u001b[0m\u001b[0mdata2\u001b[0m\u001b[0;34m)\u001b[0m\u001b[0;34m)\u001b[0m\u001b[0;34m)\u001b[0m\u001b[0;34m)\u001b[0m\u001b[0;34m\u001b[0m\u001b[0;34m\u001b[0m\u001b[0m\n\u001b[0m",
            "\u001b[0;31mValueError\u001b[0m: operands could not be broadcast together with shapes (2,484783) (2,409793) "
          ]
        }
      ],
      "source": [
        "abs(np.subtract(np. asarray(ecdf(data)), np. asarray(ecdf(data2))))"
      ]
    },
    {
      "cell_type": "code",
      "execution_count": null,
      "id": "2fec7fd1",
      "metadata": {
        "id": "2fec7fd1",
        "outputId": "30d0177a-410f-4b1d-a7d4-88201ec65134"
      },
      "outputs": [
        {
          "ename": "SympifyError",
          "evalue": "SympifyError: array([[1.00000001e-01, 6.00000024e-01, 1.50000000e+00, ...,\n        1.09485025e+06, 1.15416175e+06, 2.30869900e+06],\n       [2.44025642e-06, 4.88051284e-06, 7.32076927e-06, ...,\n        9.99995119e-01, 9.99997560e-01, 1.00000000e+00]])",
          "output_type": "error",
          "traceback": [
            "\u001b[0;31m---------------------------------------------------------------------------\u001b[0m",
            "\u001b[0;31mSympifyError\u001b[0m                              Traceback (most recent call last)",
            "\u001b[0;32m<ipython-input-53-1c599a854e39>\u001b[0m in \u001b[0;36m<module>\u001b[0;34m\u001b[0m\n\u001b[1;32m      1\u001b[0m \u001b[0;32mfrom\u001b[0m \u001b[0msympy\u001b[0m \u001b[0;32mimport\u001b[0m \u001b[0mInterval\u001b[0m\u001b[0;34m,\u001b[0m \u001b[0mUnion\u001b[0m\u001b[0;34m\u001b[0m\u001b[0;34m\u001b[0m\u001b[0m\n\u001b[1;32m      2\u001b[0m \u001b[0;34m\u001b[0m\u001b[0m\n\u001b[0;32m----> 3\u001b[0;31m \u001b[0mInterval\u001b[0m\u001b[0;34m(\u001b[0m\u001b[0mnp\u001b[0m\u001b[0;34m.\u001b[0m \u001b[0masarray\u001b[0m\u001b[0;34m(\u001b[0m\u001b[0mecdf\u001b[0m\u001b[0;34m(\u001b[0m\u001b[0mdata2\u001b[0m\u001b[0;34m)\u001b[0m\u001b[0;34m)\u001b[0m\u001b[0;34m,\u001b[0m\u001b[0mnp\u001b[0m\u001b[0;34m.\u001b[0m \u001b[0masarray\u001b[0m\u001b[0;34m(\u001b[0m\u001b[0mecdf\u001b[0m\u001b[0;34m(\u001b[0m\u001b[0mdata\u001b[0m\u001b[0;34m)\u001b[0m\u001b[0;34m)\u001b[0m\u001b[0;34m)\u001b[0m\u001b[0;34m.\u001b[0m\u001b[0msup\u001b[0m\u001b[0;34m\u001b[0m\u001b[0;34m\u001b[0m\u001b[0m\n\u001b[0m",
            "\u001b[0;32m~/miniconda3/lib/python3.8/site-packages/sympy/sets/sets.py\u001b[0m in \u001b[0;36m__new__\u001b[0;34m(cls, start, end, left_open, right_open)\u001b[0m\n\u001b[1;32m    898\u001b[0m     \u001b[0;32mdef\u001b[0m \u001b[0m__new__\u001b[0m\u001b[0;34m(\u001b[0m\u001b[0mcls\u001b[0m\u001b[0;34m,\u001b[0m \u001b[0mstart\u001b[0m\u001b[0;34m,\u001b[0m \u001b[0mend\u001b[0m\u001b[0;34m,\u001b[0m \u001b[0mleft_open\u001b[0m\u001b[0;34m=\u001b[0m\u001b[0;32mFalse\u001b[0m\u001b[0;34m,\u001b[0m \u001b[0mright_open\u001b[0m\u001b[0;34m=\u001b[0m\u001b[0;32mFalse\u001b[0m\u001b[0;34m)\u001b[0m\u001b[0;34m:\u001b[0m\u001b[0;34m\u001b[0m\u001b[0;34m\u001b[0m\u001b[0m\n\u001b[1;32m    899\u001b[0m \u001b[0;34m\u001b[0m\u001b[0m\n\u001b[0;32m--> 900\u001b[0;31m         \u001b[0mstart\u001b[0m \u001b[0;34m=\u001b[0m \u001b[0m_sympify\u001b[0m\u001b[0;34m(\u001b[0m\u001b[0mstart\u001b[0m\u001b[0;34m)\u001b[0m\u001b[0;34m\u001b[0m\u001b[0;34m\u001b[0m\u001b[0m\n\u001b[0m\u001b[1;32m    901\u001b[0m         \u001b[0mend\u001b[0m \u001b[0;34m=\u001b[0m \u001b[0m_sympify\u001b[0m\u001b[0;34m(\u001b[0m\u001b[0mend\u001b[0m\u001b[0;34m)\u001b[0m\u001b[0;34m\u001b[0m\u001b[0;34m\u001b[0m\u001b[0m\n\u001b[1;32m    902\u001b[0m         \u001b[0mleft_open\u001b[0m \u001b[0;34m=\u001b[0m \u001b[0m_sympify\u001b[0m\u001b[0;34m(\u001b[0m\u001b[0mleft_open\u001b[0m\u001b[0;34m)\u001b[0m\u001b[0;34m\u001b[0m\u001b[0;34m\u001b[0m\u001b[0m\n",
            "\u001b[0;32m~/miniconda3/lib/python3.8/site-packages/sympy/core/sympify.py\u001b[0m in \u001b[0;36m_sympify\u001b[0;34m(a)\u001b[0m\n\u001b[1;32m    511\u001b[0m \u001b[0;34m\u001b[0m\u001b[0m\n\u001b[1;32m    512\u001b[0m     \"\"\"\n\u001b[0;32m--> 513\u001b[0;31m     \u001b[0;32mreturn\u001b[0m \u001b[0msympify\u001b[0m\u001b[0;34m(\u001b[0m\u001b[0ma\u001b[0m\u001b[0;34m,\u001b[0m \u001b[0mstrict\u001b[0m\u001b[0;34m=\u001b[0m\u001b[0;32mTrue\u001b[0m\u001b[0;34m)\u001b[0m\u001b[0;34m\u001b[0m\u001b[0;34m\u001b[0m\u001b[0m\n\u001b[0m\u001b[1;32m    514\u001b[0m \u001b[0;34m\u001b[0m\u001b[0m\n\u001b[1;32m    515\u001b[0m \u001b[0;34m\u001b[0m\u001b[0m\n",
            "\u001b[0;32m~/miniconda3/lib/python3.8/site-packages/sympy/core/sympify.py\u001b[0m in \u001b[0;36msympify\u001b[0;34m(a, locals, convert_xor, strict, rational, evaluate)\u001b[0m\n\u001b[1;32m    432\u001b[0m \u001b[0;34m\u001b[0m\u001b[0m\n\u001b[1;32m    433\u001b[0m     \u001b[0;32mif\u001b[0m \u001b[0mstrict\u001b[0m\u001b[0;34m:\u001b[0m\u001b[0;34m\u001b[0m\u001b[0;34m\u001b[0m\u001b[0m\n\u001b[0;32m--> 434\u001b[0;31m         \u001b[0;32mraise\u001b[0m \u001b[0mSympifyError\u001b[0m\u001b[0;34m(\u001b[0m\u001b[0ma\u001b[0m\u001b[0;34m)\u001b[0m\u001b[0;34m\u001b[0m\u001b[0;34m\u001b[0m\u001b[0m\n\u001b[0m\u001b[1;32m    435\u001b[0m \u001b[0;34m\u001b[0m\u001b[0m\n\u001b[1;32m    436\u001b[0m     \u001b[0;32mif\u001b[0m \u001b[0miterable\u001b[0m\u001b[0;34m(\u001b[0m\u001b[0ma\u001b[0m\u001b[0;34m)\u001b[0m\u001b[0;34m:\u001b[0m\u001b[0;34m\u001b[0m\u001b[0;34m\u001b[0m\u001b[0m\n",
            "\u001b[0;31mSympifyError\u001b[0m: SympifyError: array([[1.00000001e-01, 6.00000024e-01, 1.50000000e+00, ...,\n        1.09485025e+06, 1.15416175e+06, 2.30869900e+06],\n       [2.44025642e-06, 4.88051284e-06, 7.32076927e-06, ...,\n        9.99995119e-01, 9.99997560e-01, 1.00000000e+00]])"
          ]
        }
      ],
      "source": [
        "from sympy import Interval, Union\n",
        "\n",
        "Interval(np. asarray(ecdf(data2)),np. asarray(ecdf(data))).sup"
      ]
    },
    {
      "cell_type": "code",
      "execution_count": null,
      "id": "0dfda88b",
      "metadata": {
        "id": "0dfda88b",
        "outputId": "350c5dff-9d32-46cd-c517-2b9cedec86d5"
      },
      "outputs": [
        {
          "ename": "TypeError",
          "evalue": "unsupported operand type(s) for -: 'tuple' and 'tuple'",
          "output_type": "error",
          "traceback": [
            "\u001b[0;31m---------------------------------------------------------------------------\u001b[0m",
            "\u001b[0;31mTypeError\u001b[0m                                 Traceback (most recent call last)",
            "\u001b[0;32m<ipython-input-23-7c1cbc5d81b2>\u001b[0m in \u001b[0;36m<module>\u001b[0;34m\u001b[0m\n\u001b[0;32m----> 1\u001b[0;31m \u001b[0md2\u001b[0m \u001b[0;34m=\u001b[0m \u001b[0mnp\u001b[0m\u001b[0;34m.\u001b[0m\u001b[0mmax\u001b[0m\u001b[0;34m(\u001b[0m\u001b[0mnp\u001b[0m\u001b[0;34m.\u001b[0m\u001b[0mabsolute\u001b[0m\u001b[0;34m(\u001b[0m\u001b[0mecdf\u001b[0m\u001b[0;34m(\u001b[0m\u001b[0mdata\u001b[0m\u001b[0;34m)\u001b[0m \u001b[0;34m-\u001b[0m \u001b[0mecdf\u001b[0m\u001b[0;34m(\u001b[0m\u001b[0mdata2\u001b[0m\u001b[0;34m)\u001b[0m\u001b[0;34m)\u001b[0m\u001b[0;34m)\u001b[0m\u001b[0;34m\u001b[0m\u001b[0;34m\u001b[0m\u001b[0m\n\u001b[0m",
            "\u001b[0;31mTypeError\u001b[0m: unsupported operand type(s) for -: 'tuple' and 'tuple'"
          ]
        }
      ],
      "source": [
        "d2 = np.max(np.absolute(ecdf(data) - ecdf(data2)))\n"
      ]
    },
    {
      "cell_type": "code",
      "execution_count": null,
      "id": "ae02b6ab",
      "metadata": {
        "id": "ae02b6ab",
        "outputId": "fe24f9ac-4315-4ff5-df7f-cff03f99d426"
      },
      "outputs": [
        {
          "name": "stdout",
          "output_type": "stream",
          "text": [
            "484783\n",
            "0.001953283211934081\n"
          ]
        },
        {
          "ename": "ValueError",
          "evalue": "operands could not be broadcast together with shapes (2,484783) (894576,) ",
          "output_type": "error",
          "traceback": [
            "\u001b[0;31m---------------------------------------------------------------------------\u001b[0m",
            "\u001b[0;31mValueError\u001b[0m                                Traceback (most recent call last)",
            "\u001b[0;32m<ipython-input-161-2d91e2bdfc5b>\u001b[0m in \u001b[0;36m<module>\u001b[0;34m\u001b[0m\n\u001b[1;32m      6\u001b[0m \u001b[0mprint\u001b[0m\u001b[0;34m(\u001b[0m\u001b[0mcritical_value\u001b[0m\u001b[0;34m)\u001b[0m\u001b[0;34m\u001b[0m\u001b[0;34m\u001b[0m\u001b[0m\n\u001b[1;32m      7\u001b[0m \u001b[0;34m\u001b[0m\u001b[0m\n\u001b[0;32m----> 8\u001b[0;31m \u001b[0md2\u001b[0m \u001b[0;34m=\u001b[0m \u001b[0mnp\u001b[0m\u001b[0;34m.\u001b[0m\u001b[0mmax\u001b[0m\u001b[0;34m(\u001b[0m\u001b[0mnp\u001b[0m\u001b[0;34m.\u001b[0m\u001b[0mabsolute\u001b[0m\u001b[0;34m(\u001b[0m\u001b[0mecdf\u001b[0m\u001b[0;34m(\u001b[0m\u001b[0mdata\u001b[0m\u001b[0;34m)\u001b[0m \u001b[0;34m-\u001b[0m \u001b[0mcdf1\u001b[0m\u001b[0;34m)\u001b[0m\u001b[0;34m)\u001b[0m\u001b[0;34m\u001b[0m\u001b[0;34m\u001b[0m\u001b[0m\n\u001b[0m",
            "\u001b[0;31mValueError\u001b[0m: operands could not be broadcast together with shapes (2,484783) (894576,) "
          ]
        }
      ],
      "source": [
        "import math\n",
        "\n",
        "print(sorted_data.size)\n",
        "\n",
        "critical_value= 1.36/math.sqrt(sorted_data.size)\n",
        "print(critical_value)\n",
        "\n",
        "d3 = np.max(np.absolute(ecdf(data) - cdf1))\n"
      ]
    },
    {
      "cell_type": "code",
      "execution_count": null,
      "id": "5396f9cf",
      "metadata": {
        "id": "5396f9cf"
      },
      "outputs": [],
      "source": []
    },
    {
      "cell_type": "code",
      "execution_count": null,
      "id": "70c0ca8f",
      "metadata": {
        "id": "70c0ca8f"
      },
      "outputs": [],
      "source": []
    },
    {
      "cell_type": "code",
      "execution_count": null,
      "id": "834fe84c",
      "metadata": {
        "id": "834fe84c"
      },
      "outputs": [],
      "source": []
    },
    {
      "cell_type": "code",
      "execution_count": null,
      "id": "a05529d8",
      "metadata": {
        "id": "a05529d8",
        "outputId": "9b8aa079-ed75-4381-f25b-f552c671be02"
      },
      "outputs": [
        {
          "data": {
            "text/plain": [
              "[<matplotlib.lines.Line2D at 0x7fc12550adc0>]"
            ]
          },
          "execution_count": 173,
          "metadata": {},
          "output_type": "execute_result"
        },
        {
          "data": {
            "image/png": "[encoded data removed]",
            "text/plain": [
              "<Figure size 432x288 with 1 Axes>"
            ]
          },
          "metadata": {
            "needs_background": "light"
          },
          "output_type": "display_data"
        }
      ],
      "source": [
        "import numpy as np\n",
        "import matplotlib.pyplot as plt\n",
        "import pandas as pd\n",
        "%matplotlib inline\n",
        "\n",
        "D3= pd.DataFrame (proper_d3_list, columns = ['Data'])\n",
        "data = D3[\"Data\"]\n",
        "\n",
        "# No of data points used\n",
        "N = len(data)\n",
        "\n",
        "# sort the data in ascending order\n",
        "x = np.sort(data)\n",
        "\n",
        "# get the cdf values of y\n",
        "y = np.arange(N) / float(N)\n",
        "\n",
        "# plotting\n",
        "plt.xlabel('x-axis')\n",
        "plt.ylabel('y-axis')\n",
        "\n",
        "plt.title('CDF using sorting the data')\n",
        "\n",
        "plt.plot(x, y, marker='o')\n",
        "\n",
        "\n",
        "D= pd.DataFrame (proper_d1_list, columns = ['Data'])\n",
        "data = D[\"Data\"]\n",
        "\n",
        "# No of data points used\n",
        "N = len(data)\n",
        "\n",
        "# sort the data in ascending order\n",
        "x = np.sort(data)\n",
        "\n",
        "# get the cdf values of y\n",
        "y = np.arange(N) / float(N)\n",
        "\n",
        "plt.plot(x, y, marker='p')\n"
      ]
    },
    {
      "cell_type": "code",
      "execution_count": null,
      "id": "20347c59",
      "metadata": {
        "id": "20347c59",
        "outputId": "f3c43632-0297-4da0-9426-1a50c6be5360"
      },
      "outputs": [
        {
          "name": "stdout",
          "output_type": "stream",
          "text": [
            "The CDF result is- [0.00000000e+00 2.06278286e-06 4.12556572e-06 ... 9.99995874e-01\n",
            " 9.99997937e-01 1.00000000e+00]\n"
          ]
        },
        {
          "data": {
            "text/plain": [
              "Text(0, 0.5, 'p')"
            ]
          },
          "execution_count": 118,
          "metadata": {},
          "output_type": "execute_result"
        },
        {
          "data": {
            "image/png": "[encoded data removed]",
            "text/plain": [
              "<Figure size 432x288 with 1 Axes>"
            ]
          },
          "metadata": {
            "needs_background": "light"
          },
          "output_type": "display_data"
        }
      ],
      "source": [
        "D= pd.DataFrame (proper_d1_list, columns = ['Data'])\n",
        "data = D[\"Data\"]\n",
        "\n",
        "sorted_data = np.sort(data)\n",
        "p = 1. * np.arange(len(sorted_data)) / float(len(sorted_data) - 1)\n",
        "print(\"The CDF result is-\",p)\n",
        "\n",
        "fig = plt.figure()\n",
        "fig.suptitle('CDF of data points')\n",
        "ax2 = fig.add_subplot(111)\n",
        "ax2.plot(sorted_data, p)\n",
        "ax2.set_xlabel('sorted_data')\n",
        "ax2.set_ylabel('p')\n"
      ]
    },
    {
      "cell_type": "code",
      "execution_count": null,
      "id": "b7735580",
      "metadata": {
        "id": "b7735580"
      },
      "outputs": [],
      "source": []
    }
  ],
  "metadata": {
    "kernelspec": {
      "display_name": "Python 3",
      "language": "python",
      "name": "python3"
    },
    "language_info": {
      "codemirror_mode": {
        "name": "ipython",
        "version": 3
      },
      "file_extension": ".py",
      "mimetype": "text/x-python",
      "name": "python",
      "nbconvert_exporter": "python",
      "pygments_lexer": "ipython3",
      "version": "3.8.3"
    },
    "colab": {
      "provenance": []
    }
  },
  "nbformat": 4,
  "nbformat_minor": 5
}